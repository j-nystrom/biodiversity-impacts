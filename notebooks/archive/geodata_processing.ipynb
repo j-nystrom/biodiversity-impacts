{
 "cells": [
  {
   "cell_type": "markdown",
   "id": "3ba07c86-81fd-4c96-ac66-40e5778b0caf",
   "metadata": {
    "tags": []
   },
   "source": [
    "# Bayesian biodiversity: Geodata processing"
   ]
  },
  {
   "cell_type": "markdown",
   "id": "21a92c09-c8ad-4b70-ba5c-6b35d876dc20",
   "metadata": {},
   "source": [
    "\n",
    "- Sources: population density raster (.tif), road network (.shp) and site coordinates (.shp)\n",
    "- Target output: Population and road density at 1, 10, 50 and 100km\n",
    "- Target output should be appended to the site coordinates geodataframe \n",
    "- Find the values: rasterio.sample\n",
    "- Aggregate: use the pygeoprocessing function. Simple scaling of the pixel_size\n",
    "- Use shapely to buffer a pixel around each site point coordinate\n",
    "- Then intersect this with the road density shapefile"
   ]
  },
  {
   "cell_type": "code",
   "execution_count": 32,
   "id": "aaef039e-4a9d-46ad-ad2b-cdcb9e3e0cd0",
   "metadata": {
    "tags": []
   },
   "outputs": [],
   "source": [
    "import pygeoprocessing as pgp\n",
    "import geopandas as gpd\n",
    "import pandas as pd\n",
    "import rasterio\n",
    "from rasterio.enums import Resampling\n",
    "import shapely\n",
    "import numpy as np\n",
    "import time\n",
    "from rasterstats import zonal_stats\n",
    "import json\n",
    "from pyproj import Transformer"
   ]
  },
  {
   "cell_type": "code",
   "execution_count": 4,
   "id": "ceea742e-117c-4856-8853-1fdc79dc4a48",
   "metadata": {
    "tags": []
   },
   "outputs": [
    {
     "data": {
      "text/html": [
       "\n",
       "                <script type=\"application/javascript\" id=\"jupyter_black\">\n",
       "                (function() {\n",
       "                    if (window.IPython === undefined) {\n",
       "                        return\n",
       "                    }\n",
       "                    var msg = \"WARNING: it looks like you might have loaded \" +\n",
       "                        \"jupyter_black in a non-lab notebook with \" +\n",
       "                        \"`is_lab=True`. Please double check, and if \" +\n",
       "                        \"loading with `%load_ext` please review the README!\"\n",
       "                    console.log(msg)\n",
       "                    alert(msg)\n",
       "                })()\n",
       "                </script>\n",
       "                "
      ],
      "text/plain": [
       "<IPython.core.display.HTML object>"
      ]
     },
     "metadata": {},
     "output_type": "display_data"
    }
   ],
   "source": [
    "# Load black for formatting\n",
    "import jupyter_black\n",
    "\n",
    "jupyter_black.load()\n",
    "\n",
    "# Adjust display settings for pandas\n",
    "pd.set_option(\"display.max_rows\", 100)\n",
    "pd.set_option(\"display.max_columns\", 100)"
   ]
  },
  {
   "cell_type": "markdown",
   "id": "6a134b16-4895-43b9-9756-2827785341cb",
   "metadata": {},
   "source": [
    "## Load coordinate data from PREDICTS"
   ]
  },
  {
   "cell_type": "code",
   "execution_count": 69,
   "id": "06616d33-bf74-42d5-906a-d4b16a2b67ea",
   "metadata": {
    "tags": []
   },
   "outputs": [
    {
     "data": {
      "text/html": [
       "<div>\n",
       "<style scoped>\n",
       "    .dataframe tbody tr th:only-of-type {\n",
       "        vertical-align: middle;\n",
       "    }\n",
       "\n",
       "    .dataframe tbody tr th {\n",
       "        vertical-align: top;\n",
       "    }\n",
       "\n",
       "    .dataframe thead th {\n",
       "        text-align: right;\n",
       "    }\n",
       "</style>\n",
       "<table border=\"1\" class=\"dataframe\">\n",
       "  <thead>\n",
       "    <tr style=\"text-align: right;\">\n",
       "      <th></th>\n",
       "      <th>SSS</th>\n",
       "      <th>geometry</th>\n",
       "    </tr>\n",
       "  </thead>\n",
       "  <tbody>\n",
       "    <tr>\n",
       "      <th>0</th>\n",
       "      <td>AD1_2001__Liow 1 1</td>\n",
       "      <td>POINT (103.77861 1.35194)</td>\n",
       "    </tr>\n",
       "    <tr>\n",
       "      <th>1</th>\n",
       "      <td>AD1_2001__Liow 1 2</td>\n",
       "      <td>POINT (103.80806 1.35472)</td>\n",
       "    </tr>\n",
       "    <tr>\n",
       "      <th>2</th>\n",
       "      <td>AD1_2001__Liow 1 3</td>\n",
       "      <td>POINT (103.81167 1.39472)</td>\n",
       "    </tr>\n",
       "    <tr>\n",
       "      <th>3</th>\n",
       "      <td>AD1_2001__Liow 1 4</td>\n",
       "      <td>POINT (103.78722 1.32694)</td>\n",
       "    </tr>\n",
       "    <tr>\n",
       "      <th>4</th>\n",
       "      <td>AD1_2001__Liow 1 5</td>\n",
       "      <td>POINT (103.80361 1.28278)</td>\n",
       "    </tr>\n",
       "  </tbody>\n",
       "</table>\n",
       "</div>"
      ],
      "text/plain": [
       "                  SSS                   geometry\n",
       "0  AD1_2001__Liow 1 1  POINT (103.77861 1.35194)\n",
       "1  AD1_2001__Liow 1 2  POINT (103.80806 1.35472)\n",
       "2  AD1_2001__Liow 1 3  POINT (103.81167 1.39472)\n",
       "3  AD1_2001__Liow 1 4  POINT (103.78722 1.32694)\n",
       "4  AD1_2001__Liow 1 5  POINT (103.80361 1.28278)"
      ]
     },
     "execution_count": 69,
     "metadata": {},
     "output_type": "execute_result"
    }
   ],
   "source": [
    "gdf_sites = gpd.read_file(\"../../data/PREDICTS/site_coord.shp\")\n",
    "gdf_sites.head()"
   ]
  },
  {
   "cell_type": "code",
   "execution_count": 6,
   "id": "0d85b2cc-37d6-482d-97f8-05acce382357",
   "metadata": {
    "tags": []
   },
   "outputs": [],
   "source": [
    "# Get a list of coordinates from geometry\n",
    "coord_list = [(x, y) for x, y in zip(gdf_sites[\"geometry\"].x, gdf_sites[\"geometry\"].y)]"
   ]
  },
  {
   "cell_type": "markdown",
   "id": "f97e7a24-9eac-447e-ba41-181a121890c2",
   "metadata": {},
   "source": [
    "## Gridded Population of the World (GPW), v4\n",
    "\n",
    "https://sedac.ciesin.columbia.edu/data/set/gpw-v4-population-density-adjusted-to-2015-unwpp-country-totals-rev11\n",
    "\n",
    "Unit: Number of people per square kilometer."
   ]
  },
  {
   "cell_type": "code",
   "execution_count": 7,
   "id": "6ed8e8d5-c03a-400b-9d84-9853b3842000",
   "metadata": {
    "tags": []
   },
   "outputs": [],
   "source": [
    "pop_density_path_2000 = \"../../data/GPW/gpw_v4_2000_30_sec.tif\"\n",
    "# pop_density_path_2005 = (\"../../data/GPW/gpw_v4_2005_30_sec.tif\")\n",
    "# pop_density_path_2010 = (\"../../data/GPW/gpw_v4_2010_30_sec.tif\")\n",
    "# pop_density_path_2015 = (\"../../data/GPW/gpw_v4_2015_30_sec.tif\")\n",
    "# pop_density_path_2020 = (\"../../data/GPW/gpw_v4_2020_30_sec.tif\")"
   ]
  },
  {
   "cell_type": "code",
   "execution_count": 46,
   "id": "3c0f37c7-380d-4ca9-b32e-ecf2e89195ba",
   "metadata": {
    "tags": []
   },
   "outputs": [
    {
     "data": {
      "text/plain": [
       "{'file_list': ['../../data/GPW/gpw_v4_2000_30_sec.tif'],\n",
       " 'projection_wkt': 'GEOGCS[\"WGS 84\",DATUM[\"WGS_1984\",SPHEROID[\"WGS 84\",6378137,298.257223563,AUTHORITY[\"EPSG\",\"7030\"]],AUTHORITY[\"EPSG\",\"6326\"]],PRIMEM[\"Greenwich\",0,AUTHORITY[\"EPSG\",\"8901\"]],UNIT[\"degree\",0.0174532925199433,AUTHORITY[\"EPSG\",\"9122\"]],AXIS[\"Latitude\",NORTH],AXIS[\"Longitude\",EAST],AUTHORITY[\"EPSG\",\"4326\"]]',\n",
       " 'geotransform': (-180.0,\n",
       "  0.00833333333333387,\n",
       "  0.0,\n",
       "  90.00000000001157,\n",
       "  0.0,\n",
       "  -0.00833333333333387),\n",
       " 'pixel_size': (0.00833333333333387, -0.00833333333333387),\n",
       " 'raster_size': (43200, 21600),\n",
       " 'n_bands': 1,\n",
       " 'nodata': [-3.4028230607370965e+38],\n",
       " 'overviews': [],\n",
       " 'block_size': [43200, 1],\n",
       " 'bounding_box': [-180.0, -90.0, 180.00000000002314, 90.00000000001157],\n",
       " 'datatype': 6,\n",
       " 'numpy_type': numpy.float32}"
      ]
     },
     "execution_count": 46,
     "metadata": {},
     "output_type": "execute_result"
    }
   ],
   "source": [
    "pgp.get_raster_info(pop_density_path_2000)"
   ]
  },
  {
   "cell_type": "markdown",
   "id": "e28dd10d-03c7-4bb8-bec4-2392b6fde34e",
   "metadata": {},
   "source": [
    "### Method 1: Rasterio sample\n",
    "\n",
    "Get data for the grid in which the coordinates fall. This can work for high resolution data, but might be inaccurate when downsampling the population density data and then matching pixels with the site coordinates."
   ]
  },
  {
   "cell_type": "code",
   "execution_count": 14,
   "id": "df8fc812-301e-4e34-a73d-647cf818fe6a",
   "metadata": {
    "tags": []
   },
   "outputs": [
    {
     "name": "stdout",
     "output_type": "stream",
     "text": [
      "2.707219123840332\n"
     ]
    }
   ],
   "source": [
    "start = time.time()\n",
    "\n",
    "# Load the raster file\n",
    "raster_data = rasterio.open(\"../../data/GPW/gpw_v4_2000_30_sec.tif\")\n",
    "\n",
    "# Find the value used for nodata\n",
    "nodata_value = raster_data.nodatavals[0]\n",
    "\n",
    "# Extract population density from the grids for each coordinate\n",
    "pop_density = np.array(list(raster_data.sample(coord_list))).flatten()\n",
    "\n",
    "# Set density to np.nan if it seems to be a nodata pixel\n",
    "if nodata_value is not None:\n",
    "    pop_density[np.isclose(pop_density, nodata_value, equal_nan=True)] = np.nan\n",
    "\n",
    "# Append new column to the dataframe\n",
    "gdf_sites_point = gdf_sites.copy()\n",
    "gdf_sites_point[\"Pop_density_2000_1km\"] = pop_density\n",
    "\n",
    "end = time.time()\n",
    "print(end - start)"
   ]
  },
  {
   "cell_type": "code",
   "execution_count": 15,
   "id": "3bdea3ac-9cf9-42b8-afdb-3c384c9058d1",
   "metadata": {
    "tags": []
   },
   "outputs": [
    {
     "data": {
      "text/html": [
       "<div>\n",
       "<style scoped>\n",
       "    .dataframe tbody tr th:only-of-type {\n",
       "        vertical-align: middle;\n",
       "    }\n",
       "\n",
       "    .dataframe tbody tr th {\n",
       "        vertical-align: top;\n",
       "    }\n",
       "\n",
       "    .dataframe thead th {\n",
       "        text-align: right;\n",
       "    }\n",
       "</style>\n",
       "<table border=\"1\" class=\"dataframe\">\n",
       "  <thead>\n",
       "    <tr style=\"text-align: right;\">\n",
       "      <th></th>\n",
       "      <th>SSS</th>\n",
       "      <th>geometry</th>\n",
       "      <th>Pop_density_2000_1km</th>\n",
       "    </tr>\n",
       "  </thead>\n",
       "  <tbody>\n",
       "    <tr>\n",
       "      <th>0</th>\n",
       "      <td>AD1_2001__Liow 1 1</td>\n",
       "      <td>POINT (103.77861 1.35194)</td>\n",
       "      <td>12423.108398</td>\n",
       "    </tr>\n",
       "    <tr>\n",
       "      <th>1</th>\n",
       "      <td>AD1_2001__Liow 1 2</td>\n",
       "      <td>POINT (103.80806 1.35472)</td>\n",
       "      <td>0.000000</td>\n",
       "    </tr>\n",
       "    <tr>\n",
       "      <th>2</th>\n",
       "      <td>AD1_2001__Liow 1 3</td>\n",
       "      <td>POINT (103.81167 1.39472)</td>\n",
       "      <td>1935.903442</td>\n",
       "    </tr>\n",
       "    <tr>\n",
       "      <th>3</th>\n",
       "      <td>AD1_2001__Liow 1 4</td>\n",
       "      <td>POINT (103.78722 1.32694)</td>\n",
       "      <td>4328.725586</td>\n",
       "    </tr>\n",
       "    <tr>\n",
       "      <th>4</th>\n",
       "      <td>AD1_2001__Liow 1 5</td>\n",
       "      <td>POINT (103.80361 1.28278)</td>\n",
       "      <td>10090.784180</td>\n",
       "    </tr>\n",
       "    <tr>\n",
       "      <th>...</th>\n",
       "      <td>...</td>\n",
       "      <td>...</td>\n",
       "      <td>...</td>\n",
       "    </tr>\n",
       "    <tr>\n",
       "      <th>35731</th>\n",
       "      <td>YY1_2018__Guillemot 1 66</td>\n",
       "      <td>POINT (75.48022 12.19213)</td>\n",
       "      <td>590.265381</td>\n",
       "    </tr>\n",
       "    <tr>\n",
       "      <th>35732</th>\n",
       "      <td>YY1_2018__Guillemot 1 67</td>\n",
       "      <td>POINT (75.48012 12.21315)</td>\n",
       "      <td>590.265320</td>\n",
       "    </tr>\n",
       "    <tr>\n",
       "      <th>35733</th>\n",
       "      <td>YY1_2018__Guillemot 1 7</td>\n",
       "      <td>POINT (75.52462 12.26442)</td>\n",
       "      <td>115.935951</td>\n",
       "    </tr>\n",
       "    <tr>\n",
       "      <th>35734</th>\n",
       "      <td>YY1_2018__Guillemot 1 8</td>\n",
       "      <td>POINT (75.52417 12.26392)</td>\n",
       "      <td>115.935951</td>\n",
       "    </tr>\n",
       "    <tr>\n",
       "      <th>35735</th>\n",
       "      <td>YY1_2018__Guillemot 1 9</td>\n",
       "      <td>POINT (75.52428 12.26368)</td>\n",
       "      <td>115.935951</td>\n",
       "    </tr>\n",
       "  </tbody>\n",
       "</table>\n",
       "<p>35736 rows × 3 columns</p>\n",
       "</div>"
      ],
      "text/plain": [
       "                            SSS                   geometry  \\\n",
       "0            AD1_2001__Liow 1 1  POINT (103.77861 1.35194)   \n",
       "1            AD1_2001__Liow 1 2  POINT (103.80806 1.35472)   \n",
       "2            AD1_2001__Liow 1 3  POINT (103.81167 1.39472)   \n",
       "3            AD1_2001__Liow 1 4  POINT (103.78722 1.32694)   \n",
       "4            AD1_2001__Liow 1 5  POINT (103.80361 1.28278)   \n",
       "...                         ...                        ...   \n",
       "35731  YY1_2018__Guillemot 1 66  POINT (75.48022 12.19213)   \n",
       "35732  YY1_2018__Guillemot 1 67  POINT (75.48012 12.21315)   \n",
       "35733   YY1_2018__Guillemot 1 7  POINT (75.52462 12.26442)   \n",
       "35734   YY1_2018__Guillemot 1 8  POINT (75.52417 12.26392)   \n",
       "35735   YY1_2018__Guillemot 1 9  POINT (75.52428 12.26368)   \n",
       "\n",
       "       Pop_density_2000_1km  \n",
       "0              12423.108398  \n",
       "1                  0.000000  \n",
       "2               1935.903442  \n",
       "3               4328.725586  \n",
       "4              10090.784180  \n",
       "...                     ...  \n",
       "35731            590.265381  \n",
       "35732            590.265320  \n",
       "35733            115.935951  \n",
       "35734            115.935951  \n",
       "35735            115.935951  \n",
       "\n",
       "[35736 rows x 3 columns]"
      ]
     },
     "execution_count": 15,
     "metadata": {},
     "output_type": "execute_result"
    }
   ],
   "source": [
    "gdf_sites_point"
   ]
  },
  {
   "cell_type": "markdown",
   "id": "6de215e8-f3c6-45bc-893d-d1847f6e8978",
   "metadata": {},
   "source": [
    "### Method 2: Reprojection + rasterstats zonal statistics\n",
    "\n",
    "Buffer a square around each coordinate, and count the weighted average density under each square, using rasterstats"
   ]
  },
  {
   "cell_type": "code",
   "execution_count": 91,
   "id": "e7547c6c-cdb1-42f5-86ad-cc1435566c9d",
   "metadata": {
    "tags": []
   },
   "outputs": [],
   "source": [
    "def project_and_buffer(initial_point, buffer_dist):\n",
    "\n",
    "    # Get the coordinate point values\n",
    "    long, lat = initial_point.x, initial_point.y\n",
    "\n",
    "    # Determine the UTM zone and hemisphere\n",
    "    zone_number = int((long + 180) // 6) + 1\n",
    "    epsg_code = f\"EPSG:{32700 + zone_number if lat < 0 else 32600 + zone_number}\"\n",
    "\n",
    "    # Initialize Transformer object, and transform to UTM coordinates\n",
    "    utm_transformer = Transformer.from_crs(\"EPSG:4326\", epsg_code, always_xy=True)\n",
    "    utm_x, utm_y = utm_transformer.transform(long, lat)\n",
    "    utm_coords = shapely.Point(utm_x, utm_y)\n",
    "\n",
    "    # Buffer the Point into a square Polygon\n",
    "    utm_coords_buff = shapely.buffer(utm_coords, buffer_dist, cap_style=\"square\")\n",
    "\n",
    "    # Transformer for reprojecting to global coordinate system\n",
    "    global_transformer = Transformer.from_crs(epsg_code, \"EPSG:4326\", always_xy=True)\n",
    "\n",
    "    # Apply the transformation to each point in the buffered polygon\n",
    "    def _transform_point(x, y):\n",
    "        global_x, global_y = global_transformer.transform(x, y)\n",
    "        return global_x, global_y\n",
    "\n",
    "    global_polygon = shapely.transform(_transform_point, utm_coords_buff)\n",
    "\n",
    "    return global_polygon"
   ]
  },
  {
   "cell_type": "code",
   "execution_count": 86,
   "id": "2a6d3697-1505-49b1-8a57-98fe561482f2",
   "metadata": {},
   "outputs": [
    {
     "name": "stdout",
     "output_type": "stream",
     "text": [
      "136.32296109199524\n"
     ]
    }
   ],
   "source": [
    "start = time.time()\n",
    "\n",
    "# Make a copy of the original dataframe\n",
    "gdf_sites_buff = gdf_sites.copy()\n",
    "\n",
    "# Set buffer distances\n",
    "# buffer_dist_m = [1000, 10000, 25000, 50000]\n",
    "buffer_dist = 1000\n",
    "\n",
    "# Perform the buffering to square polygons\n",
    "gdf_sites_buff[\"geometry\"] = gdf_sites_buff.apply(\n",
    "    lambda row: project_and_buffer(row[\"geometry\"], buffer_dist), axis=1\n",
    ")\n",
    "\n",
    "# Save the file\n",
    "gdf_sites_buff.to_file(\"../../data/PREDICTS/site_coord_buffered.shp\")\n",
    "\n",
    "end = time.time()\n",
    "print(end - start)"
   ]
  },
  {
   "cell_type": "code",
   "execution_count": 87,
   "id": "3dcf9d21-23c4-41e5-b2ce-40d027e66fa9",
   "metadata": {
    "tags": []
   },
   "outputs": [
    {
     "name": "stdout",
     "output_type": "stream",
     "text": [
      "89.63635611534119\n"
     ]
    }
   ],
   "source": [
    "start = time.time()\n",
    "\n",
    "# Calculate zonal statistics\n",
    "stats = zonal_stats(\n",
    "    vectors=\"../../data/PREDICTS/site_coord_buffered.shp\",\n",
    "    raster=\"../../data/GPW/gpw_v4_2000_30_sec.tif\",\n",
    "    stats=\"mean\",\n",
    "    all_touched=True,\n",
    ")\n",
    "\n",
    "# Get values and add columns to original dataframe\n",
    "pop_density = [x[\"mean\"] for x in stats]\n",
    "gdf_sites_buff = gdf_sites_buff.copy()\n",
    "gdf_sites_buff[\"Pop_density_2000_1km\"] = pop_density\n",
    "\n",
    "end = time.time()\n",
    "print(end - start)"
   ]
  },
  {
   "cell_type": "code",
   "execution_count": 88,
   "id": "b5247595-21f4-4dc3-afc0-a0fa9ce688f7",
   "metadata": {
    "tags": []
   },
   "outputs": [
    {
     "data": {
      "text/html": [
       "<div>\n",
       "<style scoped>\n",
       "    .dataframe tbody tr th:only-of-type {\n",
       "        vertical-align: middle;\n",
       "    }\n",
       "\n",
       "    .dataframe tbody tr th {\n",
       "        vertical-align: top;\n",
       "    }\n",
       "\n",
       "    .dataframe thead th {\n",
       "        text-align: right;\n",
       "    }\n",
       "</style>\n",
       "<table border=\"1\" class=\"dataframe\">\n",
       "  <thead>\n",
       "    <tr style=\"text-align: right;\">\n",
       "      <th></th>\n",
       "      <th>SSS</th>\n",
       "      <th>geometry</th>\n",
       "      <th>Pop_density_2000_1km</th>\n",
       "    </tr>\n",
       "  </thead>\n",
       "  <tbody>\n",
       "    <tr>\n",
       "      <th>0</th>\n",
       "      <td>AD1_2001__Liow 1 1</td>\n",
       "      <td>POLYGON ((103.78759 1.36099, 103.78760 1.34290...</td>\n",
       "      <td>8665.053819</td>\n",
       "    </tr>\n",
       "    <tr>\n",
       "      <th>1</th>\n",
       "      <td>AD1_2001__Liow 1 2</td>\n",
       "      <td>POLYGON ((103.81704 1.36377, 103.81705 1.34568...</td>\n",
       "      <td>1131.090088</td>\n",
       "    </tr>\n",
       "    <tr>\n",
       "      <th>2</th>\n",
       "      <td>AD1_2001__Liow 1 3</td>\n",
       "      <td>POLYGON ((103.82065 1.40377, 103.82066 1.38568...</td>\n",
       "      <td>4979.729167</td>\n",
       "    </tr>\n",
       "    <tr>\n",
       "      <th>3</th>\n",
       "      <td>AD1_2001__Liow 1 4</td>\n",
       "      <td>POLYGON ((103.79620 1.33599, 103.79621 1.31790...</td>\n",
       "      <td>4332.883681</td>\n",
       "    </tr>\n",
       "    <tr>\n",
       "      <th>4</th>\n",
       "      <td>AD1_2001__Liow 1 5</td>\n",
       "      <td>POLYGON ((103.81259 1.29183, 103.81260 1.27374...</td>\n",
       "      <td>8465.158203</td>\n",
       "    </tr>\n",
       "    <tr>\n",
       "      <th>...</th>\n",
       "      <td>...</td>\n",
       "      <td>...</td>\n",
       "      <td>...</td>\n",
       "    </tr>\n",
       "    <tr>\n",
       "      <th>35731</th>\n",
       "      <td>YY1_2018__Guillemot 1 66</td>\n",
       "      <td>POLYGON ((75.48943 12.20116, 75.48940 12.18307...</td>\n",
       "      <td>590.265340</td>\n",
       "    </tr>\n",
       "    <tr>\n",
       "      <th>35732</th>\n",
       "      <td>YY1_2018__Guillemot 1 67</td>\n",
       "      <td>POLYGON ((75.48933 12.22218, 75.48930 12.20409...</td>\n",
       "      <td>590.265299</td>\n",
       "    </tr>\n",
       "    <tr>\n",
       "      <th>35733</th>\n",
       "      <td>YY1_2018__Guillemot 1 7</td>\n",
       "      <td>POLYGON ((75.53383 12.27345, 75.53380 12.25536...</td>\n",
       "      <td>193.610229</td>\n",
       "    </tr>\n",
       "    <tr>\n",
       "      <th>35734</th>\n",
       "      <td>YY1_2018__Guillemot 1 8</td>\n",
       "      <td>POLYGON ((75.53338 12.27295, 75.53335 12.25486...</td>\n",
       "      <td>193.610229</td>\n",
       "    </tr>\n",
       "    <tr>\n",
       "      <th>35735</th>\n",
       "      <td>YY1_2018__Guillemot 1 9</td>\n",
       "      <td>POLYGON ((75.53349 12.27271, 75.53346 12.25462...</td>\n",
       "      <td>193.610229</td>\n",
       "    </tr>\n",
       "  </tbody>\n",
       "</table>\n",
       "<p>35736 rows × 3 columns</p>\n",
       "</div>"
      ],
      "text/plain": [
       "                            SSS  \\\n",
       "0            AD1_2001__Liow 1 1   \n",
       "1            AD1_2001__Liow 1 2   \n",
       "2            AD1_2001__Liow 1 3   \n",
       "3            AD1_2001__Liow 1 4   \n",
       "4            AD1_2001__Liow 1 5   \n",
       "...                         ...   \n",
       "35731  YY1_2018__Guillemot 1 66   \n",
       "35732  YY1_2018__Guillemot 1 67   \n",
       "35733   YY1_2018__Guillemot 1 7   \n",
       "35734   YY1_2018__Guillemot 1 8   \n",
       "35735   YY1_2018__Guillemot 1 9   \n",
       "\n",
       "                                                geometry  Pop_density_2000_1km  \n",
       "0      POLYGON ((103.78759 1.36099, 103.78760 1.34290...           8665.053819  \n",
       "1      POLYGON ((103.81704 1.36377, 103.81705 1.34568...           1131.090088  \n",
       "2      POLYGON ((103.82065 1.40377, 103.82066 1.38568...           4979.729167  \n",
       "3      POLYGON ((103.79620 1.33599, 103.79621 1.31790...           4332.883681  \n",
       "4      POLYGON ((103.81259 1.29183, 103.81260 1.27374...           8465.158203  \n",
       "...                                                  ...                   ...  \n",
       "35731  POLYGON ((75.48943 12.20116, 75.48940 12.18307...            590.265340  \n",
       "35732  POLYGON ((75.48933 12.22218, 75.48930 12.20409...            590.265299  \n",
       "35733  POLYGON ((75.53383 12.27345, 75.53380 12.25536...            193.610229  \n",
       "35734  POLYGON ((75.53338 12.27295, 75.53335 12.25486...            193.610229  \n",
       "35735  POLYGON ((75.53349 12.27271, 75.53346 12.25462...            193.610229  \n",
       "\n",
       "[35736 rows x 3 columns]"
      ]
     },
     "execution_count": 88,
     "metadata": {},
     "output_type": "execute_result"
    }
   ],
   "source": [
    "gdf_sites_buff"
   ]
  },
  {
   "cell_type": "markdown",
   "id": "39b2db84-aa70-4357-970a-84ef2616f6be",
   "metadata": {},
   "source": [
    "## Global Roads Open Access Data Set (gROADS), v1\n",
    "\n",
    "https://sedac.ciesin.columbia.edu/data/set/groads-global-roads-open-access-v1\n",
    "\n",
    "One data set available for each continent.\n",
    "\n",
    "### Metadata description\n",
    "\n",
    "- `OBJECTID`: Object ID\n",
    "- `SourceID`: Source ID\n",
    "- `Picture`: Picture\n",
    "- `Exs`: Existence Category. Options include 1=Definite, 2=Doubtful, 0=Unspecified\n",
    "- `Notes`: Notes\n",
    "- `RoadID`: Road ID\n",
    "- `ONme`: Official Road Name\n",
    "- `RteNme`: Route Name\n",
    "- `NtlClass`: National Inventory Road Class\n",
    "- `FClass`: Functional Class with options 1=Highway, 2=Primary, 3=Secondary, 4=Tertiary, 5=Local/ Urban, 6=Trail, 7=Private, 0=Unspecified\n",
    "- `Crgway`: Carriageways. Options include 1=Single, 2=Dual, 0=Unspecified\n",
    "- `NumLanes`: Number of lanes\n",
    "- `LneWidthM`: Lane Width in meters\n",
    "- `RdWidthM`: Road Width in meters\n",
    "- `AxleLoadMT`: Maximum Axle Loading in MT\n",
    "- `TotLoadMT`: Maximum Total Loading in MT\n",
    "- `SrfTpe`: Surface Type with options 1=Paved, 2=Gravel, 3=Dirt/Sand, 4=Steel, 5=Wood, 6=Grass, 0=Unspecified\n",
    "- `SrfCond`: Surface Condition with options 1=Rough (<40kph), 2=Smooth (>40kph), 3=Snow/Ice, 4=Mud, 0=Unspecified\n",
    "- `SrfPrep`: Surface Preparation with options 1=Natural Compaction, 2=Traffic Compaction, 3=Engineered Compaction, 4=Uncompacted, 0=Unspecified\n",
    "- `IsSeasonal`: Affected by Season. Options include 1=Yes, 2=No, 0=Unspecified\n",
    "- `CurntPrac`: Current Road Practicability with options 1=Non-motorized, 2=Motorbike, 3=4WD <3.5MT, 4=Light Truck <10MT, 5=Heavy Truck <20MT, 6=Truck + Trailer >20MT, 0=Unspecified\n",
    "- `GdWthrPrac`: Good Weather Road Practicability with options 1=Non-motorized, 2=Motorbike, 3=4WD <3.5MT, 4=Light Truck <10MT, 5=Heavy Truck <20MT, 6=Truck + Trailer >20MT, 0=Unspecified\n",
    "- `BdWthrPrac`: Bad Weather Road Practicability. Options include 1=Non-motorized, 2=Motorbike, 3=4WD <3.5MT, 4=Light Truck <10MT, 5=Heavy Truck <20MT, 6=Truck + Trailer >20MT, 0=Unspecified\n",
    "- `SpeedLimit`: Speed Limit in Km/hr\n",
    "- `CurntSpeed`: Current Average Speed\n",
    "- `GnralSpeed`: General Average Speed\n",
    "- `IsUndrCstr`: Is under Construction / Repairs. Options include 1=Yes, 2=No, 0=Unspecified\n",
    "- `CstWrkETC`: Construction Work Estimated Completion Date\n",
    "- `GradDeg`: Gradient in degrees\n",
    "- `Sec`: Road Security Category. Options include 1=Category A (low risk), 2=Category B (low to medium risk), 3=Category C (medium to high risk), 4=Category D (high risk), 5=Category E (critical risk), 0=Unspecified\n",
    "- `HasShouldr`: Has Shoulder. Options include 1=Yes, 2=No, 0=Unspecified\n",
    "- `HasSidewalk`: Has Sidewalk. Options include 1=Yes, 2=No, 0=Unspecified\n",
    "- `DrivSide`: Driving Side. Options include 1=Left, 2=Right, 0=Unspecified\n",
    "- `IsElevated`: Is elevated / suspended above ground/water. Options include 1=Yes, 2=No, 0=Unspecified\n",
    "- `HasMedian`: Has Median. Options include 1=Yes, 2=No, 0=Unspecified\n",
    "- `OpStatus`: Operational Status. Options include 1=Open, 2=Restricted, 3=Closed, 4=Abandoned/Disused, 0=Unspecified\n",
    "- `Shape_Length`: Length of segment\n",
    "- `Length_KM`: Length of segment in kilometers\n",
    "\n"
   ]
  },
  {
   "cell_type": "code",
   "execution_count": 93,
   "id": "bf2b1d42-7be6-4e74-8fdb-a386e064e525",
   "metadata": {
    "tags": []
   },
   "outputs": [],
   "source": [
    "roads_americas = \"../../data/gROADS/americas/groads-v1-americas.shp\"\n",
    "# groads_africa =\n",
    "# groads_asia =\n",
    "# groads_europe =\n",
    "# groads_oceania_east =\n",
    "# groads_oceania_west ="
   ]
  },
  {
   "cell_type": "code",
   "execution_count": 94,
   "id": "469285f7-30fb-4b4b-adec-9e0ad55795cf",
   "metadata": {
    "tags": []
   },
   "outputs": [
    {
     "data": {
      "text/html": [
       "<div>\n",
       "<style scoped>\n",
       "    .dataframe tbody tr th:only-of-type {\n",
       "        vertical-align: middle;\n",
       "    }\n",
       "\n",
       "    .dataframe tbody tr th {\n",
       "        vertical-align: top;\n",
       "    }\n",
       "\n",
       "    .dataframe thead th {\n",
       "        text-align: right;\n",
       "    }\n",
       "</style>\n",
       "<table border=\"1\" class=\"dataframe\">\n",
       "  <thead>\n",
       "    <tr style=\"text-align: right;\">\n",
       "      <th></th>\n",
       "      <th>SOURCEID</th>\n",
       "      <th>EXS</th>\n",
       "      <th>NOTES</th>\n",
       "      <th>ROADID</th>\n",
       "      <th>ONME</th>\n",
       "      <th>RTENME</th>\n",
       "      <th>NTLCLASS</th>\n",
       "      <th>FCLASS</th>\n",
       "      <th>CRGWAY</th>\n",
       "      <th>NUMLANES</th>\n",
       "      <th>LNEWIDTHM</th>\n",
       "      <th>RDWIDTHM</th>\n",
       "      <th>AXLELOADMT</th>\n",
       "      <th>TOTLOADMT</th>\n",
       "      <th>SRFTPE</th>\n",
       "      <th>SRFCOND</th>\n",
       "      <th>SRFPREP</th>\n",
       "      <th>ISSEASONAL</th>\n",
       "      <th>CURNTPRAC</th>\n",
       "      <th>GDWTHRPRAC</th>\n",
       "      <th>BDWTHRPRAC</th>\n",
       "      <th>SPEEDLIMIT</th>\n",
       "      <th>CURNTSPEED</th>\n",
       "      <th>GNRALSPEED</th>\n",
       "      <th>ISUNDRCSTR</th>\n",
       "      <th>CSTWRKETC</th>\n",
       "      <th>GRADDEG</th>\n",
       "      <th>SEC</th>\n",
       "      <th>HASSHOULDR</th>\n",
       "      <th>HASSIDEWLK</th>\n",
       "      <th>DRIVSIDE</th>\n",
       "      <th>ISELEVATED</th>\n",
       "      <th>HASMEDIAN</th>\n",
       "      <th>OPSTATUS</th>\n",
       "      <th>LENGTH_KM</th>\n",
       "      <th>Shape_Leng</th>\n",
       "      <th>geometry</th>\n",
       "    </tr>\n",
       "  </thead>\n",
       "  <tbody>\n",
       "    <tr>\n",
       "      <th>0</th>\n",
       "      <td>s034_0001</td>\n",
       "      <td>0.0</td>\n",
       "      <td>None</td>\n",
       "      <td>ITOS156229</td>\n",
       "      <td>None</td>\n",
       "      <td>None</td>\n",
       "      <td>None</td>\n",
       "      <td>0.0</td>\n",
       "      <td>0.0</td>\n",
       "      <td>0.0</td>\n",
       "      <td>0.0</td>\n",
       "      <td>0.0</td>\n",
       "      <td>0.0</td>\n",
       "      <td>0.0</td>\n",
       "      <td>0.0</td>\n",
       "      <td>0.0</td>\n",
       "      <td>0.0</td>\n",
       "      <td>0.0</td>\n",
       "      <td>0.0</td>\n",
       "      <td>0.0</td>\n",
       "      <td>0.0</td>\n",
       "      <td>0.0</td>\n",
       "      <td>0.0</td>\n",
       "      <td>0.0</td>\n",
       "      <td>0.0</td>\n",
       "      <td>None</td>\n",
       "      <td>0.0</td>\n",
       "      <td>0.0</td>\n",
       "      <td>0.0</td>\n",
       "      <td>0.0</td>\n",
       "      <td>0.0</td>\n",
       "      <td>0.0</td>\n",
       "      <td>0.0</td>\n",
       "      <td>0.0</td>\n",
       "      <td>23.086124</td>\n",
       "      <td>0.216327</td>\n",
       "      <td>LINESTRING (-46.64422 -22.52663, -46.63456 -22...</td>\n",
       "    </tr>\n",
       "    <tr>\n",
       "      <th>1</th>\n",
       "      <td>s034_0001</td>\n",
       "      <td>0.0</td>\n",
       "      <td>None</td>\n",
       "      <td>ITOS156230</td>\n",
       "      <td>None</td>\n",
       "      <td>None</td>\n",
       "      <td>None</td>\n",
       "      <td>0.0</td>\n",
       "      <td>0.0</td>\n",
       "      <td>0.0</td>\n",
       "      <td>0.0</td>\n",
       "      <td>0.0</td>\n",
       "      <td>0.0</td>\n",
       "      <td>0.0</td>\n",
       "      <td>0.0</td>\n",
       "      <td>0.0</td>\n",
       "      <td>0.0</td>\n",
       "      <td>0.0</td>\n",
       "      <td>0.0</td>\n",
       "      <td>0.0</td>\n",
       "      <td>0.0</td>\n",
       "      <td>0.0</td>\n",
       "      <td>0.0</td>\n",
       "      <td>0.0</td>\n",
       "      <td>0.0</td>\n",
       "      <td>None</td>\n",
       "      <td>0.0</td>\n",
       "      <td>0.0</td>\n",
       "      <td>0.0</td>\n",
       "      <td>0.0</td>\n",
       "      <td>0.0</td>\n",
       "      <td>0.0</td>\n",
       "      <td>0.0</td>\n",
       "      <td>0.0</td>\n",
       "      <td>35.525002</td>\n",
       "      <td>0.338829</td>\n",
       "      <td>LINESTRING (-49.61825 -23.06787, -49.54568 -23...</td>\n",
       "    </tr>\n",
       "  </tbody>\n",
       "</table>\n",
       "</div>"
      ],
      "text/plain": [
       "    SOURCEID  EXS NOTES      ROADID  ONME RTENME NTLCLASS  FCLASS  CRGWAY  \\\n",
       "0  s034_0001  0.0  None  ITOS156229  None   None     None     0.0     0.0   \n",
       "1  s034_0001  0.0  None  ITOS156230  None   None     None     0.0     0.0   \n",
       "\n",
       "   NUMLANES  LNEWIDTHM  RDWIDTHM  AXLELOADMT  TOTLOADMT  SRFTPE  SRFCOND  \\\n",
       "0       0.0        0.0       0.0         0.0        0.0     0.0      0.0   \n",
       "1       0.0        0.0       0.0         0.0        0.0     0.0      0.0   \n",
       "\n",
       "   SRFPREP  ISSEASONAL  CURNTPRAC  GDWTHRPRAC  BDWTHRPRAC  SPEEDLIMIT  \\\n",
       "0      0.0         0.0        0.0         0.0         0.0         0.0   \n",
       "1      0.0         0.0        0.0         0.0         0.0         0.0   \n",
       "\n",
       "   CURNTSPEED  GNRALSPEED  ISUNDRCSTR CSTWRKETC  GRADDEG  SEC  HASSHOULDR  \\\n",
       "0         0.0         0.0         0.0      None      0.0  0.0         0.0   \n",
       "1         0.0         0.0         0.0      None      0.0  0.0         0.0   \n",
       "\n",
       "   HASSIDEWLK  DRIVSIDE  ISELEVATED  HASMEDIAN  OPSTATUS  LENGTH_KM  \\\n",
       "0         0.0       0.0         0.0        0.0       0.0  23.086124   \n",
       "1         0.0       0.0         0.0        0.0       0.0  35.525002   \n",
       "\n",
       "   Shape_Leng                                           geometry  \n",
       "0    0.216327  LINESTRING (-46.64422 -22.52663, -46.63456 -22...  \n",
       "1    0.338829  LINESTRING (-49.61825 -23.06787, -49.54568 -23...  "
      ]
     },
     "execution_count": 94,
     "metadata": {},
     "output_type": "execute_result"
    }
   ],
   "source": [
    "gdf_roads = gpd.read_file(roads_americas)\n",
    "gdf_roads.head(2)"
   ]
  },
  {
   "cell_type": "code",
   "execution_count": 95,
   "id": "ace61f5f-1956-4cce-8ec9-57770a712520",
   "metadata": {
    "tags": []
   },
   "outputs": [
    {
     "name": "stdout",
     "output_type": "stream",
     "text": [
      "EPSG:4326\n"
     ]
    }
   ],
   "source": [
    "print(gdf_roads.crs)"
   ]
  },
  {
   "cell_type": "markdown",
   "id": "289b98a6-1f34-4206-a7bc-7118f2c6c575",
   "metadata": {},
   "source": [
    "## WorldClim elevation data\n",
    "\n",
    "https://worldclim.org/data/worldclim21.html#google_vignette\n",
    "\n",
    "Same structure and resolution as the population density data. Can use the same approach to extract values for buffered sampling locations."
   ]
  },
  {
   "cell_type": "code",
   "execution_count": 89,
   "id": "db0f39cc-dd08-4438-bb4d-91e0ef3fc5a3",
   "metadata": {},
   "outputs": [
    {
     "data": {
      "text/plain": [
       "{'file_list': ['../../data/WorldClim/Elevation/wc2.1_30s_elev.tif'],\n",
       " 'projection_wkt': 'GEOGCS[\"WGS 84\",DATUM[\"WGS_1984\",SPHEROID[\"WGS 84\",6378137,298.257223563,AUTHORITY[\"EPSG\",\"7030\"]],AUTHORITY[\"EPSG\",\"6326\"]],PRIMEM[\"Greenwich\",0,AUTHORITY[\"EPSG\",\"8901\"]],UNIT[\"degree\",0.0174532925199433,AUTHORITY[\"EPSG\",\"9122\"]],AXIS[\"Latitude\",NORTH],AXIS[\"Longitude\",EAST],AUTHORITY[\"EPSG\",\"4326\"]]',\n",
       " 'geotransform': (-180.0,\n",
       "  0.008333333333333333,\n",
       "  0.0,\n",
       "  90.0,\n",
       "  0.0,\n",
       "  -0.008333333333333333),\n",
       " 'pixel_size': (0.008333333333333333, -0.008333333333333333),\n",
       " 'raster_size': (43200, 21600),\n",
       " 'n_bands': 1,\n",
       " 'nodata': [-32768.0],\n",
       " 'overviews': [],\n",
       " 'block_size': [43200, 1],\n",
       " 'bounding_box': [-180.0, -90.0, 180.0, 90.0],\n",
       " 'datatype': 3,\n",
       " 'numpy_type': numpy.int16}"
      ]
     },
     "execution_count": 89,
     "metadata": {},
     "output_type": "execute_result"
    }
   ],
   "source": [
    "elevation_path = \"../../data/WorldClim/Elevation/wc2.1_30s_elev.tif\"\n",
    "pgp.get_raster_info(elevation_path)"
   ]
  },
  {
   "cell_type": "markdown",
   "id": "1a13e656-f87c-4761-803c-5684c71f5413",
   "metadata": {},
   "source": [
    "## WorldClim bioclimatic data\n",
    "\n",
    "https://worldclim.org/data/bioclim.html"
   ]
  },
  {
   "cell_type": "code",
   "execution_count": 96,
   "id": "b71bb37f-9fb8-4d7a-bfcd-2011bcfb6ef7",
   "metadata": {},
   "outputs": [
    {
     "data": {
      "text/plain": [
       "{'file_list': ['../../data/WorldClim/Bioclimatic/wc2.1_30s_bio_1.tif'],\n",
       " 'projection_wkt': 'GEOGCS[\"WGS 84\",DATUM[\"WGS_1984\",SPHEROID[\"WGS 84\",6378137,298.257223563,AUTHORITY[\"EPSG\",\"7030\"]],AUTHORITY[\"EPSG\",\"6326\"]],PRIMEM[\"Greenwich\",0,AUTHORITY[\"EPSG\",\"8901\"]],UNIT[\"degree\",0.0174532925199433,AUTHORITY[\"EPSG\",\"9122\"]],AXIS[\"Latitude\",NORTH],AXIS[\"Longitude\",EAST],AUTHORITY[\"EPSG\",\"4326\"]]',\n",
       " 'geotransform': (-180.0,\n",
       "  0.008333333333333333,\n",
       "  0.0,\n",
       "  90.0,\n",
       "  0.0,\n",
       "  -0.008333333333333333),\n",
       " 'pixel_size': (0.008333333333333333, -0.008333333333333333),\n",
       " 'raster_size': (43200, 21600),\n",
       " 'n_bands': 1,\n",
       " 'nodata': [-3.3999999521443642e+38],\n",
       " 'overviews': [],\n",
       " 'block_size': [43200, 1],\n",
       " 'bounding_box': [-180.0, -90.0, 180.0, 90.0],\n",
       " 'datatype': 6,\n",
       " 'numpy_type': numpy.float32}"
      ]
     },
     "execution_count": 96,
     "metadata": {},
     "output_type": "execute_result"
    }
   ],
   "source": [
    "bioclim_path = \"../../data/WorldClim/Bioclimatic/wc2.1_30s_bio_1.tif\"\n",
    "pgp.get_raster_info(bioclim_path)"
   ]
  },
  {
   "cell_type": "code",
   "execution_count": null,
   "id": "ca342cfd-815c-44ac-8b99-f70f741393e3",
   "metadata": {},
   "outputs": [],
   "source": []
  },
  {
   "cell_type": "code",
   "execution_count": null,
   "id": "2b335a0c-63af-475a-ad8e-396807c0758b",
   "metadata": {},
   "outputs": [],
   "source": []
  },
  {
   "cell_type": "code",
   "execution_count": null,
   "id": "20bbafa9-dbfd-474a-8d75-527cf17c9731",
   "metadata": {},
   "outputs": [],
   "source": []
  },
  {
   "cell_type": "code",
   "execution_count": null,
   "id": "9cc315fc-f1fe-47e4-9859-b9f9a01ed5bb",
   "metadata": {},
   "outputs": [],
   "source": []
  },
  {
   "cell_type": "markdown",
   "id": "a2c985c0-cbaa-41dc-9369-6429fb4e804b",
   "metadata": {},
   "source": [
    "## Unused code"
   ]
  },
  {
   "cell_type": "code",
   "execution_count": null,
   "id": "0f23dd47-235e-49ae-9503-f333cd8ee975",
   "metadata": {},
   "outputs": [],
   "source": [
    "downscale_factor = 10  # Go from 1km to 10km\n",
    "\n",
    "with rasterio.open(\"../../data/GPW/gpw_v4_2000_30_sec.tif\") as dataset:\n",
    "\n",
    "    # Read dataset and specify output shape\n",
    "    # Use the average population density of the pixels being aggregated\n",
    "    data = dataset.read(\n",
    "        out_shape=(\n",
    "            dataset.count,\n",
    "            int(dataset.height / downscale_factor),\n",
    "            int(dataset.width / downscale_factor),\n",
    "        ),\n",
    "        resampling=Resampling.average,\n",
    "    )\n",
    "\n",
    "    # Scale image transform\n",
    "    transform = dataset.transform * dataset.transform.scale(\n",
    "        (dataset.width / data.shape[-1]), (dataset.height / data.shape[-2])\n",
    "    )\n",
    "\n",
    "    # Define the metadata for the new downsampled raster\n",
    "    out_meta = dataset.meta.copy()\n",
    "    out_meta.update(\n",
    "        {\n",
    "            \"driver\": \"GTiff\",\n",
    "            \"height\": data.shape[1],\n",
    "            \"width\": data.shape[2],\n",
    "            \"transform\": transform,\n",
    "        }\n",
    "    )\n",
    "\n",
    "    # Write the downsampled raster to a new file\n",
    "    with rasterio.open(\"../../data/GPW/gpw_v4_2000_10_km.tif\", \"w\", **out_meta) as dest:\n",
    "        dest.write(data)"
   ]
  },
  {
   "cell_type": "code",
   "execution_count": null,
   "id": "5ceadfa9-2ef1-457e-9998-0911129eea8b",
   "metadata": {},
   "outputs": [],
   "source": [
    "start = time.time()\n",
    "\n",
    "# Load the raster file\n",
    "raster_data = rasterio.open(\"../../data/GPW/gpw_v4_2000_10_km.tif\")\n",
    "\n",
    "# Find the value used for nodata\n",
    "nodata_value = raster_data.nodatavals[0]\n",
    "\n",
    "# Extract population density from the grids for each coordinate\n",
    "pop_density = np.array(list(raster_data.sample(coord_list))).flatten()\n",
    "\n",
    "# Set density to np.nan if it seems to be a nodata pixel\n",
    "if nodata_value is not None:\n",
    "    pop_density[np.isclose(pop_density, nodata_value, equal_nan=True)] = np.nan\n",
    "\n",
    "# Append new column to the dataframe\n",
    "gdf_sites_point = gdf_sites_point.copy()\n",
    "gdf_sites_point[\"Pop_density_2000_10km\"] = pop_density\n",
    "\n",
    "end = time.time()\n",
    "print(end - start)"
   ]
  }
 ],
 "metadata": {
  "kernelspec": {
   "display_name": "biodiv",
   "language": "python",
   "name": "biodiv"
  },
  "language_info": {
   "codemirror_mode": {
    "name": "ipython",
    "version": 3
   },
   "file_extension": ".py",
   "mimetype": "text/x-python",
   "name": "python",
   "nbconvert_exporter": "python",
   "pygments_lexer": "ipython3",
   "version": "3.12.1"
  }
 },
 "nbformat": 4,
 "nbformat_minor": 5
}
