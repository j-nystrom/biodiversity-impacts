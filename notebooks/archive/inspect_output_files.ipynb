{
 "cells": [
  {
   "cell_type": "code",
   "execution_count": 2,
   "id": "a2de73eb-8588-4822-99d0-766357a536cc",
   "metadata": {},
   "outputs": [],
   "source": [
    "import pandas as pd\n",
    "import polars as pl\n",
    "import geopandas as gpd"
   ]
  },
  {
   "cell_type": "markdown",
   "id": "cdf5c4d8-bd8b-4124-9672-c0398b6da307",
   "metadata": {},
   "source": [
    "### Concatenated PREDICTS data"
   ]
  },
  {
   "cell_type": "code",
   "execution_count": 7,
   "id": "c78a8c4a-cf91-4ab1-be94-8e39310b023b",
   "metadata": {},
   "outputs": [
    {
     "data": {
      "text/html": [
       "<div><style>\n",
       ".dataframe > thead > tr,\n",
       ".dataframe > tbody > tr {\n",
       "  text-align: right;\n",
       "  white-space: pre-wrap;\n",
       "}\n",
       "</style>\n",
       "<small>shape: (4_318_808, 68)</small><table border=\"1\" class=\"dataframe\"><thead><tr><th>_id</th><th>Source_ID</th><th>Reference</th><th>Study_number</th><th>Study_name</th><th>Block</th><th>Site_number</th><th>Site_name</th><th>SS</th><th>SSS</th><th>SSB</th><th>SSBS</th><th>Longitude</th><th>Latitude</th><th>Coordinates_method</th><th>Country</th><th>Country_distance_metres</th><th>UN_region</th><th>UN_subregion</th><th>Realm</th><th>Biome</th><th>Ecoregion</th><th>Ecoregion_distance_metres</th><th>Wilderness_area</th><th>Hotspot</th><th>Study_common_taxon</th><th>Rank_of_study_common_taxon</th><th>Sample_start_earliest</th><th>Sample_end_latest</th><th>Sample_midpoint</th><th>Sample_date_resolution</th><th>Sampling_method</th><th>Sampling_effort</th><th>Rescaled_sampling_effort</th><th>Sampling_effort_unit</th><th>Max_linear_extent_metres</th><th>Transect_details</th><th>Taxon</th><th>Taxon_number</th><th>Taxon_name_entered</th><th>Parsed_name</th><th>Best_guess_binomial</th><th>COL_ID</th><th>Kingdom</th><th>Phylum</th><th>Class</th><th>Order</th><th>Family</th><th>Genus</th><th>Species</th><th>Higher_taxon</th><th>Indication</th><th>Name_status</th><th>Rank</th><th>Diversity_metric_type</th><th>Diversity_metric</th><th>Diversity_metric_is_effort_sensitive</th><th>Diversity_metric_is_suitable_for_Chao</th><th>Diversity_metric_unit</th><th>Measurement</th><th>Effort_corrected_measurement</th><th>Predominant_land_use</th><th>Source_for_predominant_land_use</th><th>Use_intensity</th><th>Habitat_as_described</th><th>Habitat_patch_area_square_metres</th><th>Km_to_nearest_edge_of_habitat</th><th>Years_since_fragmentation_or_conversion</th></tr><tr><td>i64</td><td>str</td><td>str</td><td>i64</td><td>str</td><td>str</td><td>i64</td><td>str</td><td>str</td><td>str</td><td>str</td><td>str</td><td>f64</td><td>f64</td><td>str</td><td>str</td><td>f64</td><td>str</td><td>str</td><td>str</td><td>str</td><td>str</td><td>f64</td><td>str</td><td>str</td><td>str</td><td>str</td><td>str</td><td>str</td><td>str</td><td>str</td><td>str</td><td>f64</td><td>f64</td><td>str</td><td>f64</td><td>str</td><td>str</td><td>i64</td><td>str</td><td>str</td><td>str</td><td>i64</td><td>str</td><td>str</td><td>str</td><td>str</td><td>str</td><td>str</td><td>str</td><td>str</td><td>str</td><td>str</td><td>str</td><td>str</td><td>str</td><td>bool</td><td>bool</td><td>str</td><td>f64</td><td>f64</td><td>str</td><td>str</td><td>str</td><td>str</td><td>f64</td><td>f64</td><td>f64</td></tr></thead><tbody><tr><td>1</td><td>&quot;AD1_2001__Liow…</td><td>&quot;Liow et al. 20…</td><td>1</td><td>&quot;Singapore_abun…</td><td>null</td><td>1</td><td>&quot;BT&quot;</td><td>&quot;AD1_2001__Liow…</td><td>&quot;AD1_2001__Liow…</td><td>&quot;AD1_2001__Liow…</td><td>&quot;AD1_2001__Liow…</td><td>103.778611</td><td>1.351944</td><td>&quot;Georeferenced&quot;</td><td>&quot;Singapore&quot;</td><td>0.0</td><td>&quot;Asia&quot;</td><td>&quot;South-Eastern …</td><td>&quot;Indo-Malay&quot;</td><td>&quot;Tropical &amp; Sub…</td><td>&quot;Peninsular Mal…</td><td>0.0</td><td>null</td><td>&quot;Sundaland&quot;</td><td>&quot;Apidae&quot;</td><td>&quot;Family&quot;</td><td>&quot;1999-03-03&quot;</td><td>&quot;1999-06-30&quot;</td><td>&quot;1999-05-01&quot;</td><td>&quot;day&quot;</td><td>&quot;transects with…</td><td>30.0</td><td>1.0</td><td>&quot;trap&quot;</td><td>3000.0</td><td>null</td><td>&quot;Apidae&quot;</td><td>1</td><td>&quot;Bees&quot;</td><td>&quot;Bees&quot;</td><td>null</td><td>13025340</td><td>&quot;Animalia&quot;</td><td>&quot;Arthropoda&quot;</td><td>&quot;Insecta&quot;</td><td>&quot;Hymenoptera&quot;</td><td>&quot;Apidae&quot;</td><td>null</td><td>null</td><td>&quot;Hymenoptera&quot;</td><td>&quot;Hymenoptera: A…</td><td>&quot;accepted name&quot;</td><td>&quot;Family&quot;</td><td>&quot;Abundance&quot;</td><td>&quot;abundance&quot;</td><td>true</td><td>true</td><td>&quot;individuals&quot;</td><td>42.0</td><td>42.0</td><td>&quot;Primary vegeta…</td><td>&quot;Direct from pu…</td><td>&quot;Cannot decide&quot;</td><td>&quot;Primary hill, …</td><td>870000.0</td><td>null</td><td>null</td></tr><tr><td>2</td><td>&quot;AD1_2001__Liow…</td><td>&quot;Liow et al. 20…</td><td>1</td><td>&quot;Singapore_abun…</td><td>null</td><td>2</td><td>&quot;MC&quot;</td><td>&quot;AD1_2001__Liow…</td><td>&quot;AD1_2001__Liow…</td><td>&quot;AD1_2001__Liow…</td><td>&quot;AD1_2001__Liow…</td><td>103.808056</td><td>1.354722</td><td>&quot;Georeferenced&quot;</td><td>&quot;Singapore&quot;</td><td>0.0</td><td>&quot;Asia&quot;</td><td>&quot;South-Eastern …</td><td>&quot;Indo-Malay&quot;</td><td>&quot;Tropical &amp; Sub…</td><td>&quot;Peninsular Mal…</td><td>0.0</td><td>null</td><td>&quot;Sundaland&quot;</td><td>&quot;Apidae&quot;</td><td>&quot;Family&quot;</td><td>&quot;1999-02-24&quot;</td><td>&quot;1999-06-24&quot;</td><td>&quot;1999-04-25&quot;</td><td>&quot;day&quot;</td><td>&quot;transects with…</td><td>30.0</td><td>1.0</td><td>&quot;trap&quot;</td><td>3000.0</td><td>null</td><td>&quot;Apidae&quot;</td><td>1</td><td>&quot;Bees&quot;</td><td>&quot;Bees&quot;</td><td>null</td><td>13025340</td><td>&quot;Animalia&quot;</td><td>&quot;Arthropoda&quot;</td><td>&quot;Insecta&quot;</td><td>&quot;Hymenoptera&quot;</td><td>&quot;Apidae&quot;</td><td>null</td><td>null</td><td>&quot;Hymenoptera&quot;</td><td>&quot;Hymenoptera: A…</td><td>&quot;accepted name&quot;</td><td>&quot;Family&quot;</td><td>&quot;Abundance&quot;</td><td>&quot;abundance&quot;</td><td>true</td><td>true</td><td>&quot;individuals&quot;</td><td>242.0</td><td>242.0</td><td>&quot;Mature seconda…</td><td>&quot;Direct from pu…</td><td>&quot;Cannot decide&quot;</td><td>&quot;Secondary fore…</td><td>5.21e6</td><td>null</td><td>70.0</td></tr><tr><td>3</td><td>&quot;AD1_2001__Liow…</td><td>&quot;Liow et al. 20…</td><td>1</td><td>&quot;Singapore_abun…</td><td>null</td><td>3</td><td>&quot;NS&quot;</td><td>&quot;AD1_2001__Liow…</td><td>&quot;AD1_2001__Liow…</td><td>&quot;AD1_2001__Liow…</td><td>&quot;AD1_2001__Liow…</td><td>103.811667</td><td>1.394722</td><td>&quot;Georeferenced&quot;</td><td>&quot;Singapore&quot;</td><td>0.0</td><td>&quot;Asia&quot;</td><td>&quot;South-Eastern …</td><td>&quot;Indo-Malay&quot;</td><td>&quot;Tropical &amp; Sub…</td><td>&quot;Peninsular Mal…</td><td>0.0</td><td>null</td><td>&quot;Sundaland&quot;</td><td>&quot;Apidae&quot;</td><td>&quot;Family&quot;</td><td>&quot;1999-03-16&quot;</td><td>&quot;1999-07-08&quot;</td><td>&quot;1999-05-12&quot;</td><td>&quot;day&quot;</td><td>&quot;transects with…</td><td>30.0</td><td>1.0</td><td>&quot;trap&quot;</td><td>3000.0</td><td>null</td><td>&quot;Apidae&quot;</td><td>1</td><td>&quot;Bees&quot;</td><td>&quot;Bees&quot;</td><td>null</td><td>13025340</td><td>&quot;Animalia&quot;</td><td>&quot;Arthropoda&quot;</td><td>&quot;Insecta&quot;</td><td>&quot;Hymenoptera&quot;</td><td>&quot;Apidae&quot;</td><td>null</td><td>null</td><td>&quot;Hymenoptera&quot;</td><td>&quot;Hymenoptera: A…</td><td>&quot;accepted name&quot;</td><td>&quot;Family&quot;</td><td>&quot;Abundance&quot;</td><td>&quot;abundance&quot;</td><td>true</td><td>true</td><td>&quot;individuals&quot;</td><td>232.0</td><td>232.0</td><td>&quot;Mature seconda…</td><td>&quot;Direct from pu…</td><td>&quot;Cannot decide&quot;</td><td>&quot;Secondary fore…</td><td>7.946e6</td><td>null</td><td>70.0</td></tr><tr><td>4</td><td>&quot;AD1_2001__Liow…</td><td>&quot;Liow et al. 20…</td><td>1</td><td>&quot;Singapore_abun…</td><td>null</td><td>4</td><td>&quot;HW&quot;</td><td>&quot;AD1_2001__Liow…</td><td>&quot;AD1_2001__Liow…</td><td>&quot;AD1_2001__Liow…</td><td>&quot;AD1_2001__Liow…</td><td>103.787222</td><td>1.326944</td><td>&quot;Georeferenced&quot;</td><td>&quot;Singapore&quot;</td><td>0.0</td><td>&quot;Asia&quot;</td><td>&quot;South-Eastern …</td><td>&quot;Indo-Malay&quot;</td><td>&quot;Tropical &amp; Sub…</td><td>&quot;Peninsular Mal…</td><td>0.0</td><td>null</td><td>&quot;Sundaland&quot;</td><td>&quot;Apidae&quot;</td><td>&quot;Family&quot;</td><td>&quot;1999-05-05&quot;</td><td>&quot;1999-07-28&quot;</td><td>&quot;1999-06-16&quot;</td><td>&quot;day&quot;</td><td>&quot;transects with…</td><td>18.0</td><td>0.6</td><td>&quot;trap&quot;</td><td>1800.0</td><td>null</td><td>&quot;Apidae&quot;</td><td>1</td><td>&quot;Bees&quot;</td><td>&quot;Bees&quot;</td><td>null</td><td>13025340</td><td>&quot;Animalia&quot;</td><td>&quot;Arthropoda&quot;</td><td>&quot;Insecta&quot;</td><td>&quot;Hymenoptera&quot;</td><td>&quot;Apidae&quot;</td><td>null</td><td>null</td><td>&quot;Hymenoptera&quot;</td><td>&quot;Hymenoptera: A…</td><td>&quot;accepted name&quot;</td><td>&quot;Family&quot;</td><td>&quot;Abundance&quot;</td><td>&quot;abundance&quot;</td><td>true</td><td>true</td><td>&quot;individuals&quot;</td><td>111.0</td><td>185.0</td><td>&quot;Intermediate s…</td><td>&quot;Direct from pu…</td><td>&quot;Cannot decide&quot;</td><td>&quot;Secondary fore…</td><td>415000.0</td><td>null</td><td>30.0</td></tr><tr><td>5</td><td>&quot;AD1_2001__Liow…</td><td>&quot;Liow et al. 20…</td><td>1</td><td>&quot;Singapore_abun…</td><td>null</td><td>5</td><td>&quot;KR&quot;</td><td>&quot;AD1_2001__Liow…</td><td>&quot;AD1_2001__Liow…</td><td>&quot;AD1_2001__Liow…</td><td>&quot;AD1_2001__Liow…</td><td>103.803611</td><td>1.282778</td><td>&quot;Georeferenced&quot;</td><td>&quot;Singapore&quot;</td><td>0.0</td><td>&quot;Asia&quot;</td><td>&quot;South-Eastern …</td><td>&quot;Indo-Malay&quot;</td><td>&quot;Tropical &amp; Sub…</td><td>&quot;Peninsular Mal…</td><td>0.0</td><td>null</td><td>&quot;Sundaland&quot;</td><td>&quot;Apidae&quot;</td><td>&quot;Family&quot;</td><td>&quot;1999-03-01&quot;</td><td>&quot;1999-07-03&quot;</td><td>&quot;1999-05-02&quot;</td><td>&quot;day&quot;</td><td>&quot;transects with…</td><td>20.0</td><td>0.666667</td><td>&quot;trap&quot;</td><td>2000.0</td><td>null</td><td>&quot;Apidae&quot;</td><td>1</td><td>&quot;Bees&quot;</td><td>&quot;Bees&quot;</td><td>null</td><td>13025340</td><td>&quot;Animalia&quot;</td><td>&quot;Arthropoda&quot;</td><td>&quot;Insecta&quot;</td><td>&quot;Hymenoptera&quot;</td><td>&quot;Apidae&quot;</td><td>null</td><td>null</td><td>&quot;Hymenoptera&quot;</td><td>&quot;Hymenoptera: A…</td><td>&quot;accepted name&quot;</td><td>&quot;Family&quot;</td><td>&quot;Abundance&quot;</td><td>&quot;abundance&quot;</td><td>true</td><td>true</td><td>&quot;individuals&quot;</td><td>63.0</td><td>94.5</td><td>&quot;Intermediate s…</td><td>&quot;Direct from pu…</td><td>&quot;Cannot decide&quot;</td><td>&quot;Secondary fore…</td><td>272000.0</td><td>null</td><td>30.0</td></tr><tr><td>&hellip;</td><td>&hellip;</td><td>&hellip;</td><td>&hellip;</td><td>&hellip;</td><td>&hellip;</td><td>&hellip;</td><td>&hellip;</td><td>&hellip;</td><td>&hellip;</td><td>&hellip;</td><td>&hellip;</td><td>&hellip;</td><td>&hellip;</td><td>&hellip;</td><td>&hellip;</td><td>&hellip;</td><td>&hellip;</td><td>&hellip;</td><td>&hellip;</td><td>&hellip;</td><td>&hellip;</td><td>&hellip;</td><td>&hellip;</td><td>&hellip;</td><td>&hellip;</td><td>&hellip;</td><td>&hellip;</td><td>&hellip;</td><td>&hellip;</td><td>&hellip;</td><td>&hellip;</td><td>&hellip;</td><td>&hellip;</td><td>&hellip;</td><td>&hellip;</td><td>&hellip;</td><td>&hellip;</td><td>&hellip;</td><td>&hellip;</td><td>&hellip;</td><td>&hellip;</td><td>&hellip;</td><td>&hellip;</td><td>&hellip;</td><td>&hellip;</td><td>&hellip;</td><td>&hellip;</td><td>&hellip;</td><td>&hellip;</td><td>&hellip;</td><td>&hellip;</td><td>&hellip;</td><td>&hellip;</td><td>&hellip;</td><td>&hellip;</td><td>&hellip;</td><td>&hellip;</td><td>&hellip;</td><td>&hellip;</td><td>&hellip;</td><td>&hellip;</td><td>&hellip;</td><td>&hellip;</td><td>&hellip;</td><td>&hellip;</td><td>&hellip;</td><td>&hellip;</td></tr><tr><td>2080570</td><td>&quot;YY1_2018__Guil…</td><td>&quot;Guillemot et a…</td><td>1</td><td>&quot;Coffee agrofor…</td><td>null</td><td>9</td><td>&quot;9&quot;</td><td>&quot;YY1_2018__Guil…</td><td>&quot;YY1_2018__Guil…</td><td>&quot;YY1_2018__Guil…</td><td>&quot;YY1_2018__Guil…</td><td>75.52428</td><td>12.26368</td><td>&quot;Direct from pu…</td><td>&quot;India&quot;</td><td>0.0</td><td>&quot;Asia&quot;</td><td>&quot;Southern Asia&quot;</td><td>&quot;Indo-Malay&quot;</td><td>&quot;Tropical &amp; Sub…</td><td>&quot;South Western …</td><td>0.0</td><td>null</td><td>&quot;Western Ghats …</td><td>&quot;Tracheophyta&quot;</td><td>&quot;Phylum&quot;</td><td>&quot;2017-01-01&quot;</td><td>&quot;2017-12-31&quot;</td><td>&quot;2017-07-02&quot;</td><td>&quot;year&quot;</td><td>&quot;fixed plots/qu…</td><td>700.0</td><td>1.0</td><td>&quot;square m&quot;</td><td>null</td><td>null</td><td>&quot;Magnolia champ…</td><td>63</td><td>&quot;Michelia champ…</td><td>&quot;Michelia champ…</td><td>&quot;Magnolia champ…</td><td>9705640</td><td>&quot;Plantae&quot;</td><td>&quot;Tracheophyta&quot;</td><td>&quot;Magnoliopsida&quot;</td><td>&quot;Magnoliales&quot;</td><td>&quot;Magnoliaceae&quot;</td><td>&quot;Magnolia&quot;</td><td>&quot;champaca&quot;</td><td>&quot;Magnoliopsida&quot;</td><td>&quot;plants&quot;</td><td>&quot;accepted name&quot;</td><td>&quot;Species&quot;</td><td>&quot;Abundance&quot;</td><td>&quot;abundance&quot;</td><td>true</td><td>true</td><td>&quot;individuals&quot;</td><td>0.0</td><td>0.0</td><td>&quot;Plantation for…</td><td>&quot;Direct from pu…</td><td>&quot;Minimal use&quot;</td><td>null</td><td>null</td><td>null</td><td>null</td></tr><tr><td>2080573</td><td>&quot;YY1_2018__Guil…</td><td>&quot;Guillemot et a…</td><td>1</td><td>&quot;Coffee agrofor…</td><td>null</td><td>9</td><td>&quot;9&quot;</td><td>&quot;YY1_2018__Guil…</td><td>&quot;YY1_2018__Guil…</td><td>&quot;YY1_2018__Guil…</td><td>&quot;YY1_2018__Guil…</td><td>75.52428</td><td>12.26368</td><td>&quot;Direct from pu…</td><td>&quot;India&quot;</td><td>0.0</td><td>&quot;Asia&quot;</td><td>&quot;Southern Asia&quot;</td><td>&quot;Indo-Malay&quot;</td><td>&quot;Tropical &amp; Sub…</td><td>&quot;South Western …</td><td>0.0</td><td>null</td><td>&quot;Western Ghats …</td><td>&quot;Tracheophyta&quot;</td><td>&quot;Phylum&quot;</td><td>&quot;2017-01-01&quot;</td><td>&quot;2017-12-31&quot;</td><td>&quot;2017-07-02&quot;</td><td>&quot;year&quot;</td><td>&quot;fixed plots/qu…</td><td>700.0</td><td>1.0</td><td>&quot;square m&quot;</td><td>null</td><td>null</td><td>&quot;Actinodaphne&quot;</td><td>66</td><td>&quot;Octinodefana m…</td><td>&quot;Octinodefana m…</td><td>&quot;Octinodefana m…</td><td>13217439</td><td>&quot;Plantae&quot;</td><td>&quot;Tracheophyta&quot;</td><td>&quot;Magnoliopsida&quot;</td><td>&quot;Laurales&quot;</td><td>&quot;Lauraceae&quot;</td><td>&quot;Actinodaphne&quot;</td><td>null</td><td>&quot;Magnoliopsida&quot;</td><td>&quot;plants&quot;</td><td>&quot;accepted name&quot;</td><td>&quot;Genus&quot;</td><td>&quot;Abundance&quot;</td><td>&quot;abundance&quot;</td><td>true</td><td>true</td><td>&quot;individuals&quot;</td><td>0.0</td><td>0.0</td><td>&quot;Plantation for…</td><td>&quot;Direct from pu…</td><td>&quot;Minimal use&quot;</td><td>null</td><td>null</td><td>null</td><td>null</td></tr><tr><td>2080580</td><td>&quot;YY1_2018__Guil…</td><td>&quot;Guillemot et a…</td><td>1</td><td>&quot;Coffee agrofor…</td><td>null</td><td>9</td><td>&quot;9&quot;</td><td>&quot;YY1_2018__Guil…</td><td>&quot;YY1_2018__Guil…</td><td>&quot;YY1_2018__Guil…</td><td>&quot;YY1_2018__Guil…</td><td>75.52428</td><td>12.26368</td><td>&quot;Direct from pu…</td><td>&quot;India&quot;</td><td>0.0</td><td>&quot;Asia&quot;</td><td>&quot;Southern Asia&quot;</td><td>&quot;Indo-Malay&quot;</td><td>&quot;Tropical &amp; Sub…</td><td>&quot;South Western …</td><td>0.0</td><td>null</td><td>&quot;Western Ghats …</td><td>&quot;Tracheophyta&quot;</td><td>&quot;Phylum&quot;</td><td>&quot;2017-01-01&quot;</td><td>&quot;2017-12-31&quot;</td><td>&quot;2017-07-02&quot;</td><td>&quot;year&quot;</td><td>&quot;fixed plots/qu…</td><td>700.0</td><td>1.0</td><td>&quot;square m&quot;</td><td>null</td><td>null</td><td>&quot;Sapindus&quot;</td><td>73</td><td>&quot;Sapindus emarg…</td><td>&quot;Sapindus emarg…</td><td>&quot;Sapindus emarg…</td><td>13187011</td><td>&quot;Plantae&quot;</td><td>&quot;Tracheophyta&quot;</td><td>&quot;Magnoliopsida&quot;</td><td>&quot;Sapindales&quot;</td><td>&quot;Sapindaceae&quot;</td><td>&quot;Sapindus&quot;</td><td>null</td><td>&quot;Magnoliopsida&quot;</td><td>&quot;plants&quot;</td><td>&quot;accepted name&quot;</td><td>&quot;Genus&quot;</td><td>&quot;Abundance&quot;</td><td>&quot;abundance&quot;</td><td>true</td><td>true</td><td>&quot;individuals&quot;</td><td>0.0</td><td>0.0</td><td>&quot;Plantation for…</td><td>&quot;Direct from pu…</td><td>&quot;Minimal use&quot;</td><td>null</td><td>null</td><td>null</td><td>null</td></tr><tr><td>2080586</td><td>&quot;YY1_2018__Guil…</td><td>&quot;Guillemot et a…</td><td>1</td><td>&quot;Coffee agrofor…</td><td>null</td><td>9</td><td>&quot;9&quot;</td><td>&quot;YY1_2018__Guil…</td><td>&quot;YY1_2018__Guil…</td><td>&quot;YY1_2018__Guil…</td><td>&quot;YY1_2018__Guil…</td><td>75.52428</td><td>12.26368</td><td>&quot;Direct from pu…</td><td>&quot;India&quot;</td><td>0.0</td><td>&quot;Asia&quot;</td><td>&quot;Southern Asia&quot;</td><td>&quot;Indo-Malay&quot;</td><td>&quot;Tropical &amp; Sub…</td><td>&quot;South Western …</td><td>0.0</td><td>null</td><td>&quot;Western Ghats …</td><td>&quot;Tracheophyta&quot;</td><td>&quot;Phylum&quot;</td><td>&quot;2017-01-01&quot;</td><td>&quot;2017-12-31&quot;</td><td>&quot;2017-07-02&quot;</td><td>&quot;year&quot;</td><td>&quot;fixed plots/qu…</td><td>700.0</td><td>1.0</td><td>&quot;square m&quot;</td><td>null</td><td>null</td><td>&quot;Tabernaemontan…</td><td>79</td><td>&quot;Tabernaemontan…</td><td>&quot;Tabernaemontan…</td><td>&quot;Tabernaemontan…</td><td>13185561</td><td>&quot;Plantae&quot;</td><td>&quot;Tracheophyta&quot;</td><td>&quot;Magnoliopsida&quot;</td><td>&quot;Gentianales&quot;</td><td>&quot;Apocynaceae&quot;</td><td>&quot;Tabernaemontan…</td><td>null</td><td>&quot;Magnoliopsida&quot;</td><td>&quot;plants&quot;</td><td>&quot;accepted name&quot;</td><td>&quot;Genus&quot;</td><td>&quot;Abundance&quot;</td><td>&quot;abundance&quot;</td><td>true</td><td>true</td><td>&quot;individuals&quot;</td><td>0.0</td><td>0.0</td><td>&quot;Plantation for…</td><td>&quot;Direct from pu…</td><td>&quot;Minimal use&quot;</td><td>null</td><td>null</td><td>null</td><td>null</td></tr><tr><td>2080587</td><td>&quot;YY1_2018__Guil…</td><td>&quot;Guillemot et a…</td><td>1</td><td>&quot;Coffee agrofor…</td><td>null</td><td>9</td><td>&quot;9&quot;</td><td>&quot;YY1_2018__Guil…</td><td>&quot;YY1_2018__Guil…</td><td>&quot;YY1_2018__Guil…</td><td>&quot;YY1_2018__Guil…</td><td>75.52428</td><td>12.26368</td><td>&quot;Direct from pu…</td><td>&quot;India&quot;</td><td>0.0</td><td>&quot;Asia&quot;</td><td>&quot;Southern Asia&quot;</td><td>&quot;Indo-Malay&quot;</td><td>&quot;Tropical &amp; Sub…</td><td>&quot;South Western …</td><td>0.0</td><td>null</td><td>&quot;Western Ghats …</td><td>&quot;Tracheophyta&quot;</td><td>&quot;Phylum&quot;</td><td>&quot;2017-01-01&quot;</td><td>&quot;2017-12-31&quot;</td><td>&quot;2017-07-02&quot;</td><td>&quot;year&quot;</td><td>&quot;fixed plots/qu…</td><td>700.0</td><td>1.0</td><td>&quot;square m&quot;</td><td>null</td><td>null</td><td>&quot;Tamarindus ind…</td><td>80</td><td>&quot;Tamarindus ind…</td><td>&quot;Tamarindus ind…</td><td>&quot;Tamarindus ind…</td><td>11468876</td><td>&quot;Plantae&quot;</td><td>&quot;Tracheophyta&quot;</td><td>&quot;Magnoliopsida&quot;</td><td>&quot;Fabales&quot;</td><td>&quot;Fabaceae&quot;</td><td>&quot;Tamarindus&quot;</td><td>&quot;indica&quot;</td><td>&quot;Magnoliopsida&quot;</td><td>&quot;plants&quot;</td><td>&quot;accepted name&quot;</td><td>&quot;Species&quot;</td><td>&quot;Abundance&quot;</td><td>&quot;abundance&quot;</td><td>true</td><td>true</td><td>&quot;individuals&quot;</td><td>0.0</td><td>0.0</td><td>&quot;Plantation for…</td><td>&quot;Direct from pu…</td><td>&quot;Minimal use&quot;</td><td>null</td><td>null</td><td>null</td><td>null</td></tr></tbody></table></div>"
      ],
      "text/plain": [
       "shape: (4_318_808, 68)\n",
       "┌─────────┬────────────┬───────────┬───────────┬───┬───────────┬───────────┬───────────┬───────────┐\n",
       "│ _id     ┆ Source_ID  ┆ Reference ┆ Study_num ┆ … ┆ Habitat_a ┆ Habitat_p ┆ Km_to_nea ┆ Years_sin │\n",
       "│ ---     ┆ ---        ┆ ---       ┆ ber       ┆   ┆ s_describ ┆ atch_area ┆ rest_edge ┆ ce_fragme │\n",
       "│ i64     ┆ str        ┆ str       ┆ ---       ┆   ┆ ed        ┆ _square_m ┆ _of_habit ┆ ntation_o │\n",
       "│         ┆            ┆           ┆ i64       ┆   ┆ ---       ┆ etres     ┆ at        ┆ r_con…    │\n",
       "│         ┆            ┆           ┆           ┆   ┆ str       ┆ ---       ┆ ---       ┆ ---       │\n",
       "│         ┆            ┆           ┆           ┆   ┆           ┆ f64       ┆ f64       ┆ f64       │\n",
       "╞═════════╪════════════╪═══════════╪═══════════╪═══╪═══════════╪═══════════╪═══════════╪═══════════╡\n",
       "│ 1       ┆ AD1_2001__ ┆ Liow et   ┆ 1         ┆ … ┆ Primary   ┆ 870000.0  ┆ null      ┆ null      │\n",
       "│         ┆ Liow       ┆ al. 2001  ┆           ┆   ┆ hill, dip ┆           ┆           ┆           │\n",
       "│         ┆            ┆           ┆           ┆   ┆ terocarp  ┆           ┆           ┆           │\n",
       "│         ┆            ┆           ┆           ┆   ┆ forest…   ┆           ┆           ┆           │\n",
       "│ 2       ┆ AD1_2001__ ┆ Liow et   ┆ 1         ┆ … ┆ Secondary ┆ 5.21e6    ┆ null      ┆ 70.0      │\n",
       "│         ┆ Liow       ┆ al. 2001  ┆           ┆   ┆ forest    ┆           ┆           ┆           │\n",
       "│         ┆            ┆           ┆           ┆   ┆ with      ┆           ┆           ┆           │\n",
       "│         ┆            ┆           ┆           ┆   ┆ primary   ┆           ┆           ┆           │\n",
       "│         ┆            ┆           ┆           ┆   ┆ pa…       ┆           ┆           ┆           │\n",
       "│ 3       ┆ AD1_2001__ ┆ Liow et   ┆ 1         ┆ … ┆ Secondary ┆ 7.946e6   ┆ null      ┆ 70.0      │\n",
       "│         ┆ Liow       ┆ al. 2001  ┆           ┆   ┆ forest    ┆           ┆           ┆           │\n",
       "│         ┆            ┆           ┆           ┆   ┆ with      ┆           ┆           ┆           │\n",
       "│         ┆            ┆           ┆           ┆   ┆ primary   ┆           ┆           ┆           │\n",
       "│         ┆            ┆           ┆           ┆   ┆ pa…       ┆           ┆           ┆           │\n",
       "│ 4       ┆ AD1_2001__ ┆ Liow et   ┆ 1         ┆ … ┆ Secondary ┆ 415000.0  ┆ null      ┆ 30.0      │\n",
       "│         ┆ Liow       ┆ al. 2001  ┆           ┆   ┆ forest    ┆           ┆           ┆           │\n",
       "│         ┆            ┆           ┆           ┆   ┆ mixed     ┆           ┆           ┆           │\n",
       "│         ┆            ┆           ┆           ┆   ┆ (Albizia  ┆           ┆           ┆           │\n",
       "│         ┆            ┆           ┆           ┆   ┆ …         ┆           ┆           ┆           │\n",
       "│ 5       ┆ AD1_2001__ ┆ Liow et   ┆ 1         ┆ … ┆ Secondary ┆ 272000.0  ┆ null      ┆ 30.0      │\n",
       "│         ┆ Liow       ┆ al. 2001  ┆           ┆   ┆ forest    ┆           ┆           ┆           │\n",
       "│         ┆            ┆           ┆           ┆   ┆ and open  ┆           ┆           ┆           │\n",
       "│         ┆            ┆           ┆           ┆   ┆ parkla…   ┆           ┆           ┆           │\n",
       "│ …       ┆ …          ┆ …         ┆ …         ┆ … ┆ …         ┆ …         ┆ …         ┆ …         │\n",
       "│ 2080570 ┆ YY1_2018__ ┆ Guillemot ┆ 1         ┆ … ┆ null      ┆ null      ┆ null      ┆ null      │\n",
       "│         ┆ Guillemot  ┆ et al.    ┆           ┆   ┆           ┆           ┆           ┆           │\n",
       "│         ┆            ┆ 2018      ┆           ┆   ┆           ┆           ┆           ┆           │\n",
       "│ 2080573 ┆ YY1_2018__ ┆ Guillemot ┆ 1         ┆ … ┆ null      ┆ null      ┆ null      ┆ null      │\n",
       "│         ┆ Guillemot  ┆ et al.    ┆           ┆   ┆           ┆           ┆           ┆           │\n",
       "│         ┆            ┆ 2018      ┆           ┆   ┆           ┆           ┆           ┆           │\n",
       "│ 2080580 ┆ YY1_2018__ ┆ Guillemot ┆ 1         ┆ … ┆ null      ┆ null      ┆ null      ┆ null      │\n",
       "│         ┆ Guillemot  ┆ et al.    ┆           ┆   ┆           ┆           ┆           ┆           │\n",
       "│         ┆            ┆ 2018      ┆           ┆   ┆           ┆           ┆           ┆           │\n",
       "│ 2080586 ┆ YY1_2018__ ┆ Guillemot ┆ 1         ┆ … ┆ null      ┆ null      ┆ null      ┆ null      │\n",
       "│         ┆ Guillemot  ┆ et al.    ┆           ┆   ┆           ┆           ┆           ┆           │\n",
       "│         ┆            ┆ 2018      ┆           ┆   ┆           ┆           ┆           ┆           │\n",
       "│ 2080587 ┆ YY1_2018__ ┆ Guillemot ┆ 1         ┆ … ┆ null      ┆ null      ┆ null      ┆ null      │\n",
       "│         ┆ Guillemot  ┆ et al.    ┆           ┆   ┆           ┆           ┆           ┆           │\n",
       "│         ┆            ┆ 2018      ┆           ┆   ┆           ┆           ┆           ┆           │\n",
       "└─────────┴────────────┴───────────┴───────────┴───┴───────────┴───────────┴───────────┴───────────┘"
      ]
     },
     "execution_count": 7,
     "metadata": {},
     "output_type": "execute_result"
    }
   ],
   "source": [
    "predicts = pl.read_parquet(\"../../data/output/predicts/all_predicts.parquet\")\n",
    "predicts"
   ]
  },
  {
   "cell_type": "code",
   "execution_count": 8,
   "id": "9aba4c37-0f1d-4694-a590-1b4ab00e63f5",
   "metadata": {},
   "outputs": [
    {
     "data": {
      "text/plain": [
       "(4318808, 68)"
      ]
     },
     "execution_count": 8,
     "metadata": {},
     "output_type": "execute_result"
    }
   ],
   "source": [
    "predicts.shape"
   ]
  },
  {
   "cell_type": "markdown",
   "id": "77801b83-86a3-47c5-8dbf-8f5d8b3e83f4",
   "metadata": {},
   "source": [
    "### Site coordinate data"
   ]
  },
  {
   "cell_type": "code",
   "execution_count": 9,
   "id": "35097412-3be5-4e23-a2b2-973166889684",
   "metadata": {},
   "outputs": [
    {
     "data": {
      "text/html": [
       "<div>\n",
       "<style scoped>\n",
       "    .dataframe tbody tr th:only-of-type {\n",
       "        vertical-align: middle;\n",
       "    }\n",
       "\n",
       "    .dataframe tbody tr th {\n",
       "        vertical-align: top;\n",
       "    }\n",
       "\n",
       "    .dataframe thead th {\n",
       "        text-align: right;\n",
       "    }\n",
       "</style>\n",
       "<table border=\"1\" class=\"dataframe\">\n",
       "  <thead>\n",
       "    <tr style=\"text-align: right;\">\n",
       "      <th></th>\n",
       "      <th>SSBS</th>\n",
       "      <th>UN_region</th>\n",
       "      <th>geometry</th>\n",
       "    </tr>\n",
       "  </thead>\n",
       "  <tbody>\n",
       "    <tr>\n",
       "      <th>0</th>\n",
       "      <td>AD1_2001__Liow 1  1</td>\n",
       "      <td>Asia</td>\n",
       "      <td>POINT (103.77861 1.35194)</td>\n",
       "    </tr>\n",
       "    <tr>\n",
       "      <th>1</th>\n",
       "      <td>AD1_2001__Liow 1  2</td>\n",
       "      <td>Asia</td>\n",
       "      <td>POINT (103.80806 1.35472)</td>\n",
       "    </tr>\n",
       "    <tr>\n",
       "      <th>2</th>\n",
       "      <td>AD1_2001__Liow 1  3</td>\n",
       "      <td>Asia</td>\n",
       "      <td>POINT (103.81167 1.39472)</td>\n",
       "    </tr>\n",
       "    <tr>\n",
       "      <th>3</th>\n",
       "      <td>AD1_2001__Liow 1  4</td>\n",
       "      <td>Asia</td>\n",
       "      <td>POINT (103.78722 1.32694)</td>\n",
       "    </tr>\n",
       "    <tr>\n",
       "      <th>4</th>\n",
       "      <td>AD1_2001__Liow 1  5</td>\n",
       "      <td>Asia</td>\n",
       "      <td>POINT (103.80361 1.28278)</td>\n",
       "    </tr>\n",
       "    <tr>\n",
       "      <th>...</th>\n",
       "      <td>...</td>\n",
       "      <td>...</td>\n",
       "      <td>...</td>\n",
       "    </tr>\n",
       "    <tr>\n",
       "      <th>35731</th>\n",
       "      <td>YY1_2018__Guillemot 1  66</td>\n",
       "      <td>Asia</td>\n",
       "      <td>POINT (75.48022 12.19213)</td>\n",
       "    </tr>\n",
       "    <tr>\n",
       "      <th>35732</th>\n",
       "      <td>YY1_2018__Guillemot 1  67</td>\n",
       "      <td>Asia</td>\n",
       "      <td>POINT (75.48012 12.21315)</td>\n",
       "    </tr>\n",
       "    <tr>\n",
       "      <th>35733</th>\n",
       "      <td>YY1_2018__Guillemot 1  7</td>\n",
       "      <td>Asia</td>\n",
       "      <td>POINT (75.52462 12.26442)</td>\n",
       "    </tr>\n",
       "    <tr>\n",
       "      <th>35734</th>\n",
       "      <td>YY1_2018__Guillemot 1  8</td>\n",
       "      <td>Asia</td>\n",
       "      <td>POINT (75.52417 12.26392)</td>\n",
       "    </tr>\n",
       "    <tr>\n",
       "      <th>35735</th>\n",
       "      <td>YY1_2018__Guillemot 1  9</td>\n",
       "      <td>Asia</td>\n",
       "      <td>POINT (75.52428 12.26368)</td>\n",
       "    </tr>\n",
       "  </tbody>\n",
       "</table>\n",
       "<p>35736 rows × 3 columns</p>\n",
       "</div>"
      ],
      "text/plain": [
       "                            SSBS UN_region                   geometry\n",
       "0            AD1_2001__Liow 1  1      Asia  POINT (103.77861 1.35194)\n",
       "1            AD1_2001__Liow 1  2      Asia  POINT (103.80806 1.35472)\n",
       "2            AD1_2001__Liow 1  3      Asia  POINT (103.81167 1.39472)\n",
       "3            AD1_2001__Liow 1  4      Asia  POINT (103.78722 1.32694)\n",
       "4            AD1_2001__Liow 1  5      Asia  POINT (103.80361 1.28278)\n",
       "...                          ...       ...                        ...\n",
       "35731  YY1_2018__Guillemot 1  66      Asia  POINT (75.48022 12.19213)\n",
       "35732  YY1_2018__Guillemot 1  67      Asia  POINT (75.48012 12.21315)\n",
       "35733   YY1_2018__Guillemot 1  7      Asia  POINT (75.52462 12.26442)\n",
       "35734   YY1_2018__Guillemot 1  8      Asia  POINT (75.52417 12.26392)\n",
       "35735   YY1_2018__Guillemot 1  9      Asia  POINT (75.52428 12.26368)\n",
       "\n",
       "[35736 rows x 3 columns]"
      ]
     },
     "execution_count": 9,
     "metadata": {},
     "output_type": "execute_result"
    }
   ],
   "source": [
    "site_coords = gpd.read_file(\"../../data/output/site_coords/all_site_coords.shp\")\n",
    "site_coords"
   ]
  },
  {
   "cell_type": "code",
   "execution_count": 10,
   "id": "e41a5d01-0a51-423b-aa39-8426f12dba7e",
   "metadata": {},
   "outputs": [
    {
     "data": {
      "text/plain": [
       "(35736, 3)"
      ]
     },
     "execution_count": 10,
     "metadata": {},
     "output_type": "execute_result"
    }
   ],
   "source": [
    "site_coords.shape"
   ]
  },
  {
   "cell_type": "code",
   "execution_count": 9,
   "id": "f64d8888-4232-40e2-8fe7-db1cc4109224",
   "metadata": {},
   "outputs": [
    {
     "data": {
      "text/plain": [
       "35736"
      ]
     },
     "execution_count": 9,
     "metadata": {},
     "output_type": "execute_result"
    }
   ],
   "source": [
    "len(predicts.get_column(\"SSBS\").unique().to_list())"
   ]
  },
  {
   "cell_type": "markdown",
   "id": "80111f1e-e8a7-4ed1-947f-7d31204fafa6",
   "metadata": {},
   "source": [
    "### Buffered polygon data"
   ]
  },
  {
   "cell_type": "code",
   "execution_count": 21,
   "id": "9cb71c53-ef34-4b87-b082-8eb969415d5c",
   "metadata": {},
   "outputs": [
    {
     "data": {
      "text/html": [
       "<div>\n",
       "<style scoped>\n",
       "    .dataframe tbody tr th:only-of-type {\n",
       "        vertical-align: middle;\n",
       "    }\n",
       "\n",
       "    .dataframe tbody tr th {\n",
       "        vertical-align: top;\n",
       "    }\n",
       "\n",
       "    .dataframe thead th {\n",
       "        text-align: right;\n",
       "    }\n",
       "</style>\n",
       "<table border=\"1\" class=\"dataframe\">\n",
       "  <thead>\n",
       "    <tr style=\"text-align: right;\">\n",
       "      <th></th>\n",
       "      <th>SSBS</th>\n",
       "      <th>geometry</th>\n",
       "    </tr>\n",
       "  </thead>\n",
       "  <tbody>\n",
       "    <tr>\n",
       "      <th>0</th>\n",
       "      <td>AD1_2001__Liow 1  1</td>\n",
       "      <td>POLYGON ((103.78759 1.36099, 103.78760 1.34290...</td>\n",
       "    </tr>\n",
       "    <tr>\n",
       "      <th>1</th>\n",
       "      <td>AD1_2001__Liow 1  2</td>\n",
       "      <td>POLYGON ((103.81704 1.36377, 103.81705 1.34568...</td>\n",
       "    </tr>\n",
       "    <tr>\n",
       "      <th>2</th>\n",
       "      <td>AD1_2001__Liow 1  3</td>\n",
       "      <td>POLYGON ((103.82065 1.40377, 103.82066 1.38568...</td>\n",
       "    </tr>\n",
       "    <tr>\n",
       "      <th>3</th>\n",
       "      <td>AD1_2001__Liow 1  4</td>\n",
       "      <td>POLYGON ((103.79620 1.33599, 103.79621 1.31790...</td>\n",
       "    </tr>\n",
       "    <tr>\n",
       "      <th>4</th>\n",
       "      <td>AD1_2001__Liow 1  5</td>\n",
       "      <td>POLYGON ((103.81259 1.29183, 103.81260 1.27374...</td>\n",
       "    </tr>\n",
       "    <tr>\n",
       "      <th>...</th>\n",
       "      <td>...</td>\n",
       "      <td>...</td>\n",
       "    </tr>\n",
       "    <tr>\n",
       "      <th>35731</th>\n",
       "      <td>YY1_2018__Guillemot 1  66</td>\n",
       "      <td>POLYGON ((75.48943 12.20116, 75.48940 12.18307...</td>\n",
       "    </tr>\n",
       "    <tr>\n",
       "      <th>35732</th>\n",
       "      <td>YY1_2018__Guillemot 1  67</td>\n",
       "      <td>POLYGON ((75.48933 12.22218, 75.48930 12.20409...</td>\n",
       "    </tr>\n",
       "    <tr>\n",
       "      <th>35733</th>\n",
       "      <td>YY1_2018__Guillemot 1  7</td>\n",
       "      <td>POLYGON ((75.53383 12.27345, 75.53380 12.25536...</td>\n",
       "    </tr>\n",
       "    <tr>\n",
       "      <th>35734</th>\n",
       "      <td>YY1_2018__Guillemot 1  8</td>\n",
       "      <td>POLYGON ((75.53338 12.27295, 75.53335 12.25486...</td>\n",
       "    </tr>\n",
       "    <tr>\n",
       "      <th>35735</th>\n",
       "      <td>YY1_2018__Guillemot 1  9</td>\n",
       "      <td>POLYGON ((75.53349 12.27271, 75.53346 12.25462...</td>\n",
       "    </tr>\n",
       "  </tbody>\n",
       "</table>\n",
       "<p>35736 rows × 2 columns</p>\n",
       "</div>"
      ],
      "text/plain": [
       "                            SSBS  \\\n",
       "0            AD1_2001__Liow 1  1   \n",
       "1            AD1_2001__Liow 1  2   \n",
       "2            AD1_2001__Liow 1  3   \n",
       "3            AD1_2001__Liow 1  4   \n",
       "4            AD1_2001__Liow 1  5   \n",
       "...                          ...   \n",
       "35731  YY1_2018__Guillemot 1  66   \n",
       "35732  YY1_2018__Guillemot 1  67   \n",
       "35733   YY1_2018__Guillemot 1  7   \n",
       "35734   YY1_2018__Guillemot 1  8   \n",
       "35735   YY1_2018__Guillemot 1  9   \n",
       "\n",
       "                                                geometry  \n",
       "0      POLYGON ((103.78759 1.36099, 103.78760 1.34290...  \n",
       "1      POLYGON ((103.81704 1.36377, 103.81705 1.34568...  \n",
       "2      POLYGON ((103.82065 1.40377, 103.82066 1.38568...  \n",
       "3      POLYGON ((103.79620 1.33599, 103.79621 1.31790...  \n",
       "4      POLYGON ((103.81259 1.29183, 103.81260 1.27374...  \n",
       "...                                                  ...  \n",
       "35731  POLYGON ((75.48943 12.20116, 75.48940 12.18307...  \n",
       "35732  POLYGON ((75.48933 12.22218, 75.48930 12.20409...  \n",
       "35733  POLYGON ((75.53383 12.27345, 75.53380 12.25536...  \n",
       "35734  POLYGON ((75.53338 12.27295, 75.53335 12.25486...  \n",
       "35735  POLYGON ((75.53349 12.27271, 75.53346 12.25462...  \n",
       "\n",
       "[35736 rows x 2 columns]"
      ]
     },
     "execution_count": 21,
     "metadata": {},
     "output_type": "execute_result"
    }
   ],
   "source": [
    "buff_glob_1 = gpd.read_file(\"../../data/output/buff_polygons/glob_buff_polygons_1km.shp\")\n",
    "buff_glob_1"
   ]
  },
  {
   "cell_type": "code",
   "execution_count": 25,
   "id": "60835bf3-5a26-41a0-aab6-b2c5f4f50495",
   "metadata": {},
   "outputs": [
    {
     "data": {
      "text/html": [
       "<div>\n",
       "<style scoped>\n",
       "    .dataframe tbody tr th:only-of-type {\n",
       "        vertical-align: middle;\n",
       "    }\n",
       "\n",
       "    .dataframe tbody tr th {\n",
       "        vertical-align: top;\n",
       "    }\n",
       "\n",
       "    .dataframe thead th {\n",
       "        text-align: right;\n",
       "    }\n",
       "</style>\n",
       "<table border=\"1\" class=\"dataframe\">\n",
       "  <thead>\n",
       "    <tr style=\"text-align: right;\">\n",
       "      <th></th>\n",
       "      <th>SSBS</th>\n",
       "      <th>geometry</th>\n",
       "    </tr>\n",
       "  </thead>\n",
       "  <tbody>\n",
       "    <tr>\n",
       "      <th>0</th>\n",
       "      <td>AD1_2001__Liow 1  1</td>\n",
       "      <td>POLYGON ((365117.227 150464.935, 365117.227 14...</td>\n",
       "    </tr>\n",
       "    <tr>\n",
       "      <th>1</th>\n",
       "      <td>AD1_2001__Liow 1  2</td>\n",
       "      <td>POLYGON ((368393.632 150770.404, 368393.632 14...</td>\n",
       "    </tr>\n",
       "    <tr>\n",
       "      <th>2</th>\n",
       "      <td>AD1_2001__Liow 1  3</td>\n",
       "      <td>POLYGON ((368797.635 155192.390, 368797.635 15...</td>\n",
       "    </tr>\n",
       "    <tr>\n",
       "      <th>3</th>\n",
       "      <td>AD1_2001__Liow 1  4</td>\n",
       "      <td>POLYGON ((366074.013 147700.566, 366074.013 14...</td>\n",
       "    </tr>\n",
       "    <tr>\n",
       "      <th>4</th>\n",
       "      <td>AD1_2001__Liow 1  5</td>\n",
       "      <td>POLYGON ((367895.283 142816.839, 367895.283 14...</td>\n",
       "    </tr>\n",
       "    <tr>\n",
       "      <th>...</th>\n",
       "      <td>...</td>\n",
       "      <td>...</td>\n",
       "    </tr>\n",
       "    <tr>\n",
       "      <th>35731</th>\n",
       "      <td>YY1_2018__Guillemot 1  66</td>\n",
       "      <td>POLYGON ((553239.559 1348845.376, 553239.559 1...</td>\n",
       "    </tr>\n",
       "    <tr>\n",
       "      <th>35732</th>\n",
       "      <td>YY1_2018__Guillemot 1  67</td>\n",
       "      <td>POLYGON ((553224.563 1351169.816, 553224.563 1...</td>\n",
       "    </tr>\n",
       "    <tr>\n",
       "      <th>35733</th>\n",
       "      <td>YY1_2018__Guillemot 1  7</td>\n",
       "      <td>POLYGON ((558054.119 1356848.446, 558054.119 1...</td>\n",
       "    </tr>\n",
       "    <tr>\n",
       "      <th>35734</th>\n",
       "      <td>YY1_2018__Guillemot 1  8</td>\n",
       "      <td>POLYGON ((558005.286 1356793.059, 558005.286 1...</td>\n",
       "    </tr>\n",
       "    <tr>\n",
       "      <th>35735</th>\n",
       "      <td>YY1_2018__Guillemot 1  9</td>\n",
       "      <td>POLYGON ((558017.301 1356766.542, 558017.301 1...</td>\n",
       "    </tr>\n",
       "  </tbody>\n",
       "</table>\n",
       "<p>35736 rows × 2 columns</p>\n",
       "</div>"
      ],
      "text/plain": [
       "                            SSBS  \\\n",
       "0            AD1_2001__Liow 1  1   \n",
       "1            AD1_2001__Liow 1  2   \n",
       "2            AD1_2001__Liow 1  3   \n",
       "3            AD1_2001__Liow 1  4   \n",
       "4            AD1_2001__Liow 1  5   \n",
       "...                          ...   \n",
       "35731  YY1_2018__Guillemot 1  66   \n",
       "35732  YY1_2018__Guillemot 1  67   \n",
       "35733   YY1_2018__Guillemot 1  7   \n",
       "35734   YY1_2018__Guillemot 1  8   \n",
       "35735   YY1_2018__Guillemot 1  9   \n",
       "\n",
       "                                                geometry  \n",
       "0      POLYGON ((365117.227 150464.935, 365117.227 14...  \n",
       "1      POLYGON ((368393.632 150770.404, 368393.632 14...  \n",
       "2      POLYGON ((368797.635 155192.390, 368797.635 15...  \n",
       "3      POLYGON ((366074.013 147700.566, 366074.013 14...  \n",
       "4      POLYGON ((367895.283 142816.839, 367895.283 14...  \n",
       "...                                                  ...  \n",
       "35731  POLYGON ((553239.559 1348845.376, 553239.559 1...  \n",
       "35732  POLYGON ((553224.563 1351169.816, 553224.563 1...  \n",
       "35733  POLYGON ((558054.119 1356848.446, 558054.119 1...  \n",
       "35734  POLYGON ((558005.286 1356793.059, 558005.286 1...  \n",
       "35735  POLYGON ((558017.301 1356766.542, 558017.301 1...  \n",
       "\n",
       "[35736 rows x 2 columns]"
      ]
     },
     "execution_count": 25,
     "metadata": {},
     "output_type": "execute_result"
    }
   ],
   "source": [
    "buff_glob_2 = gpd.read_file(\"../../data/output/buff_polygons/utm_buff_polygons_1km.shp\")\n",
    "buff_glob_2"
   ]
  },
  {
   "cell_type": "markdown",
   "id": "95ca3f9c-83bf-4294-bed8-97dff65671fb",
   "metadata": {},
   "source": [
    "### Road density data"
   ]
  },
  {
   "cell_type": "code",
   "execution_count": 38,
   "id": "c20caa6d-718f-43bd-b386-65132edd052f",
   "metadata": {},
   "outputs": [
    {
     "data": {
      "text/html": [
       "<div>\n",
       "<style scoped>\n",
       "    .dataframe tbody tr th:only-of-type {\n",
       "        vertical-align: middle;\n",
       "    }\n",
       "\n",
       "    .dataframe tbody tr th {\n",
       "        vertical-align: top;\n",
       "    }\n",
       "\n",
       "    .dataframe thead th {\n",
       "        text-align: right;\n",
       "    }\n",
       "</style>\n",
       "<table border=\"1\" class=\"dataframe\">\n",
       "  <thead>\n",
       "    <tr style=\"text-align: right;\">\n",
       "      <th></th>\n",
       "      <th>SSBS</th>\n",
       "      <th>Road_density_1km</th>\n",
       "      <th>Road_density_10km</th>\n",
       "      <th>Road_density_50km</th>\n",
       "    </tr>\n",
       "  </thead>\n",
       "  <tbody>\n",
       "    <tr>\n",
       "      <th>68</th>\n",
       "      <td>AD1_2002__Tonhasca 1  1</td>\n",
       "      <td>1450.534369</td>\n",
       "      <td>58222.940069</td>\n",
       "      <td>2.247812e+06</td>\n",
       "    </tr>\n",
       "    <tr>\n",
       "      <th>69</th>\n",
       "      <td>AD1_2002__Tonhasca 1  2</td>\n",
       "      <td>0.000000</td>\n",
       "      <td>88350.217259</td>\n",
       "      <td>2.353469e+06</td>\n",
       "    </tr>\n",
       "    <tr>\n",
       "      <th>70</th>\n",
       "      <td>AD1_2002__Tonhasca 1  3</td>\n",
       "      <td>0.000000</td>\n",
       "      <td>94962.319409</td>\n",
       "      <td>2.325169e+06</td>\n",
       "    </tr>\n",
       "    <tr>\n",
       "      <th>71</th>\n",
       "      <td>AD1_2002__Tonhasca 1  4</td>\n",
       "      <td>401.379448</td>\n",
       "      <td>94026.163909</td>\n",
       "      <td>2.283172e+06</td>\n",
       "    </tr>\n",
       "    <tr>\n",
       "      <th>72</th>\n",
       "      <td>AD1_2002__Tonhasca 1  5</td>\n",
       "      <td>6452.213951</td>\n",
       "      <td>123093.617763</td>\n",
       "      <td>2.056315e+06</td>\n",
       "    </tr>\n",
       "    <tr>\n",
       "      <th>...</th>\n",
       "      <td>...</td>\n",
       "      <td>...</td>\n",
       "      <td>...</td>\n",
       "      <td>...</td>\n",
       "    </tr>\n",
       "    <tr>\n",
       "      <th>34333</th>\n",
       "      <td>VK1_2013__ABMIboreal 7  5</td>\n",
       "      <td>0.000000</td>\n",
       "      <td>56520.132017</td>\n",
       "      <td>2.728339e+06</td>\n",
       "    </tr>\n",
       "    <tr>\n",
       "      <th>34334</th>\n",
       "      <td>VK1_2013__ABMIboreal 7  6</td>\n",
       "      <td>0.000000</td>\n",
       "      <td>73489.845850</td>\n",
       "      <td>2.718735e+06</td>\n",
       "    </tr>\n",
       "    <tr>\n",
       "      <th>34335</th>\n",
       "      <td>VK1_2013__ABMIboreal 7  7</td>\n",
       "      <td>2009.314410</td>\n",
       "      <td>163825.131491</td>\n",
       "      <td>2.960971e+06</td>\n",
       "    </tr>\n",
       "    <tr>\n",
       "      <th>34336</th>\n",
       "      <td>VK1_2013__ABMIboreal 7  8</td>\n",
       "      <td>2201.724782</td>\n",
       "      <td>87344.291912</td>\n",
       "      <td>2.803324e+06</td>\n",
       "    </tr>\n",
       "    <tr>\n",
       "      <th>34337</th>\n",
       "      <td>VK1_2013__ABMIboreal 7  9</td>\n",
       "      <td>0.000000</td>\n",
       "      <td>57503.559659</td>\n",
       "      <td>2.740278e+06</td>\n",
       "    </tr>\n",
       "  </tbody>\n",
       "</table>\n",
       "<p>10040 rows × 4 columns</p>\n",
       "</div>"
      ],
      "text/plain": [
       "                            SSBS  Road_density_1km  Road_density_10km  \\\n",
       "68       AD1_2002__Tonhasca 1  1       1450.534369       58222.940069   \n",
       "69       AD1_2002__Tonhasca 1  2          0.000000       88350.217259   \n",
       "70       AD1_2002__Tonhasca 1  3          0.000000       94962.319409   \n",
       "71       AD1_2002__Tonhasca 1  4        401.379448       94026.163909   \n",
       "72       AD1_2002__Tonhasca 1  5       6452.213951      123093.617763   \n",
       "...                          ...               ...                ...   \n",
       "34333  VK1_2013__ABMIboreal 7  5          0.000000       56520.132017   \n",
       "34334  VK1_2013__ABMIboreal 7  6          0.000000       73489.845850   \n",
       "34335  VK1_2013__ABMIboreal 7  7       2009.314410      163825.131491   \n",
       "34336  VK1_2013__ABMIboreal 7  8       2201.724782       87344.291912   \n",
       "34337  VK1_2013__ABMIboreal 7  9          0.000000       57503.559659   \n",
       "\n",
       "       Road_density_50km  \n",
       "68          2.247812e+06  \n",
       "69          2.353469e+06  \n",
       "70          2.325169e+06  \n",
       "71          2.283172e+06  \n",
       "72          2.056315e+06  \n",
       "...                  ...  \n",
       "34333       2.728339e+06  \n",
       "34334       2.718735e+06  \n",
       "34335       2.960971e+06  \n",
       "34336       2.803324e+06  \n",
       "34337       2.740278e+06  \n",
       "\n",
       "[10040 rows x 4 columns]"
      ]
     },
     "execution_count": 38,
     "metadata": {},
     "output_type": "execute_result"
    }
   ],
   "source": [
    "road_1 = pd.read_parquet(\"../../data/output/road_density/road_density_americas.parquet\")\n",
    "road_1"
   ]
  },
  {
   "cell_type": "code",
   "execution_count": 34,
   "id": "d91a6548-5ee0-4fad-8e3f-68eff3a1a672",
   "metadata": {},
   "outputs": [
    {
     "data": {
      "text/plain": [
       "(5063, 5)"
      ]
     },
     "execution_count": 34,
     "metadata": {},
     "output_type": "execute_result"
    }
   ],
   "source": [
    "road_1.shape"
   ]
  },
  {
   "cell_type": "code",
   "execution_count": 37,
   "id": "558012c0-41c5-402d-9016-b2742b2e889c",
   "metadata": {},
   "outputs": [
    {
     "data": {
      "text/plain": [
       "35736"
      ]
     },
     "execution_count": 37,
     "metadata": {},
     "output_type": "execute_result"
    }
   ],
   "source": [
    "12751 + 2551 + 5063 + 5331 + 10040"
   ]
  },
  {
   "cell_type": "code",
   "execution_count": 28,
   "id": "4de78d2e-b433-4d1f-a31a-512f61580f11",
   "metadata": {},
   "outputs": [
    {
     "data": {
      "text/html": [
       "<div><style>\n",
       ".dataframe > thead > tr,\n",
       ".dataframe > tbody > tr {\n",
       "  text-align: right;\n",
       "  white-space: pre-wrap;\n",
       "}\n",
       "</style>\n",
       "<small>shape: (35_736, 4)</small><table border=\"1\" class=\"dataframe\"><thead><tr><th>SSBS</th><th>Road_density_1km</th><th>Road_density_10km</th><th>Road_density_50km</th></tr><tr><td>str</td><td>f64</td><td>f64</td><td>f64</td></tr></thead><tbody><tr><td>&quot;AD1_2005__Blan…</td><td>2081.750094</td><td>190364.497423</td><td>2.0841e6</td></tr><tr><td>&quot;AD1_2005__Blan…</td><td>1119.81094</td><td>187993.994423</td><td>2.0724e6</td></tr><tr><td>&quot;AD1_2005__Blan…</td><td>0.0</td><td>98624.640142</td><td>1.9359e6</td></tr><tr><td>&quot;AD1_2005__Blan…</td><td>1186.374931</td><td>86832.033723</td><td>1.8261e6</td></tr><tr><td>&quot;AD1_2005__Blan…</td><td>0.0</td><td>68115.435147</td><td>1.7579e6</td></tr><tr><td>&hellip;</td><td>&hellip;</td><td>&hellip;</td><td>&hellip;</td></tr><tr><td>&quot;VK1_2013__ABMI…</td><td>0.0</td><td>56520.132017</td><td>2.7283e6</td></tr><tr><td>&quot;VK1_2013__ABMI…</td><td>0.0</td><td>73489.84585</td><td>2.7187e6</td></tr><tr><td>&quot;VK1_2013__ABMI…</td><td>2009.31441</td><td>163825.131491</td><td>2.9610e6</td></tr><tr><td>&quot;VK1_2013__ABMI…</td><td>2201.724782</td><td>87344.291912</td><td>2.8033e6</td></tr><tr><td>&quot;VK1_2013__ABMI…</td><td>0.0</td><td>57503.559659</td><td>2.7403e6</td></tr></tbody></table></div>"
      ],
      "text/plain": [
       "shape: (35_736, 4)\n",
       "┌───────────────────────────┬──────────────────┬───────────────────┬───────────────────┐\n",
       "│ SSBS                      ┆ Road_density_1km ┆ Road_density_10km ┆ Road_density_50km │\n",
       "│ ---                       ┆ ---              ┆ ---               ┆ ---               │\n",
       "│ str                       ┆ f64              ┆ f64               ┆ f64               │\n",
       "╞═══════════════════════════╪══════════════════╪═══════════════════╪═══════════════════╡\n",
       "│ AD1_2005__Blanche 1  1    ┆ 2081.750094      ┆ 190364.497423     ┆ 2.0841e6          │\n",
       "│ AD1_2005__Blanche 1  2    ┆ 1119.81094       ┆ 187993.994423     ┆ 2.0724e6          │\n",
       "│ AD1_2005__Blanche 1  3    ┆ 0.0              ┆ 98624.640142      ┆ 1.9359e6          │\n",
       "│ AD1_2005__Blanche 1  4    ┆ 1186.374931      ┆ 86832.033723      ┆ 1.8261e6          │\n",
       "│ AD1_2005__Blanche 1  5    ┆ 0.0              ┆ 68115.435147      ┆ 1.7579e6          │\n",
       "│ …                         ┆ …                ┆ …                 ┆ …                 │\n",
       "│ VK1_2013__ABMIboreal 7  5 ┆ 0.0              ┆ 56520.132017      ┆ 2.7283e6          │\n",
       "│ VK1_2013__ABMIboreal 7  6 ┆ 0.0              ┆ 73489.84585       ┆ 2.7187e6          │\n",
       "│ VK1_2013__ABMIboreal 7  7 ┆ 2009.31441       ┆ 163825.131491     ┆ 2.9610e6          │\n",
       "│ VK1_2013__ABMIboreal 7  8 ┆ 2201.724782      ┆ 87344.291912      ┆ 2.8033e6          │\n",
       "│ VK1_2013__ABMIboreal 7  9 ┆ 0.0              ┆ 57503.559659      ┆ 2.7403e6          │\n",
       "└───────────────────────────┴──────────────────┴───────────────────┴───────────────────┘"
      ]
     },
     "execution_count": 28,
     "metadata": {},
     "output_type": "execute_result"
    }
   ],
   "source": [
    "road_2 = pl.read_parquet(\"../../data/output/road_density/road_density_orig.parquet\")\n",
    "road_2"
   ]
  },
  {
   "cell_type": "markdown",
   "id": "c1ceeac6-3a8d-44a8-8757-3efc8f15eb4b",
   "metadata": {},
   "source": [
    "### Population density data"
   ]
  },
  {
   "cell_type": "code",
   "execution_count": 39,
   "id": "d7c5138e-f25b-43f0-ab2b-ea1b57686f4f",
   "metadata": {},
   "outputs": [
    {
     "data": {
      "text/html": [
       "<div><style>\n",
       ".dataframe > thead > tr,\n",
       ".dataframe > tbody > tr {\n",
       "  text-align: right;\n",
       "  white-space: pre-wrap;\n",
       "}\n",
       "</style>\n",
       "<small>shape: (35_736, 16)</small><table border=\"1\" class=\"dataframe\"><thead><tr><th>SSBS</th><th>Pop_density_1km_2000</th><th>Pop_density_1km_2005</th><th>Pop_density_1km_2010</th><th>Pop_density_1km_2015</th><th>Pop_density_1km_2020</th><th>Pop_density_10km_2000</th><th>Pop_density_10km_2005</th><th>Pop_density_10km_2010</th><th>Pop_density_10km_2015</th><th>Pop_density_10km_2020</th><th>Pop_density_50km_2000</th><th>Pop_density_50km_2005</th><th>Pop_density_50km_2010</th><th>Pop_density_50km_2015</th><th>Pop_density_50km_2020</th></tr><tr><td>str</td><td>f64</td><td>f64</td><td>f64</td><td>f64</td><td>f64</td><td>f64</td><td>f64</td><td>f64</td><td>f64</td><td>f64</td><td>f64</td><td>f64</td><td>f64</td><td>f64</td><td>f64</td></tr></thead><tbody><tr><td>&quot;AD1_2001__Liow…</td><td>8665.053819</td><td>10686.046875</td><td>12856.830729</td><td>14912.848958</td><td>16510.614583</td><td>6093.886228</td><td>6958.095808</td><td>7791.201098</td><td>8467.353293</td><td>8861.665669</td><td>933.654075</td><td>1093.091219</td><td>1268.813392</td><td>1454.161213</td><td>1641.065066</td></tr><tr><td>&quot;AD1_2001__Liow…</td><td>1131.090088</td><td>1245.123128</td><td>1336.200765</td><td>1381.482259</td><td>1362.475993</td><td>7262.850962</td><td>8273.240919</td><td>9271.036325</td><td>10134.848291</td><td>10751.494658</td><td>940.373195</td><td>1101.212981</td><td>1278.487799</td><td>1465.453558</td><td>1653.969848</td></tr><tr><td>&quot;AD1_2001__Liow…</td><td>4979.729167</td><td>5457.96875</td><td>5831.039931</td><td>6000.927951</td><td>5890.359375</td><td>6354.087041</td><td>7373.591876</td><td>8452.087041</td><td>9503.366538</td><td>10438.625725</td><td>898.962319</td><td>1050.302434</td><td>1216.123064</td><td>1389.497541</td><td>1562.316572</td></tr><tr><td>&quot;AD1_2001__Liow…</td><td>4332.883681</td><td>4888.942708</td><td>5376.256944</td><td>5694.303819</td><td>5751.630208</td><td>6440.715232</td><td>7292.890728</td><td>8099.86755</td><td>8738.147903</td><td>9092.586093</td><td>951.244901</td><td>1114.757922</td><td>1295.39474</td><td>1486.577678</td><td>1680.202951</td></tr><tr><td>&quot;AD1_2001__Liow…</td><td>8465.158203</td><td>9318.025391</td><td>9998.738932</td><td>10336.432943</td><td>10192.90625</td><td>6748.165722</td><td>7515.062323</td><td>8172.850567</td><td>8578.686969</td><td>8606.26983</td><td>979.929484</td><td>1149.967869</td><td>1338.408612</td><td>1538.764551</td><td>1742.833948</td></tr><tr><td>&hellip;</td><td>&hellip;</td><td>&hellip;</td><td>&hellip;</td><td>&hellip;</td><td>&hellip;</td><td>&hellip;</td><td>&hellip;</td><td>&hellip;</td><td>&hellip;</td><td>&hellip;</td><td>&hellip;</td><td>&hellip;</td><td>&hellip;</td><td>&hellip;</td><td>&hellip;</td></tr><tr><td>&quot;YY1_2018__Guil…</td><td>590.26534</td><td>605.511068</td><td>614.269124</td><td>616.078532</td><td>613.694906</td><td>540.695776</td><td>554.470603</td><td>562.303607</td><td>563.778656</td><td>561.42311</td><td>499.808859</td><td>514.666182</td><td>524.158089</td><td>527.828342</td><td>527.977707</td></tr><tr><td>&quot;YY1_2018__Guil…</td><td>590.265299</td><td>605.511013</td><td>614.269151</td><td>616.078505</td><td>613.694933</td><td>500.895794</td><td>513.816871</td><td>521.247519</td><td>522.796786</td><td>520.803166</td><td>489.466551</td><td>503.998265</td><td>513.275786</td><td>516.852998</td><td>516.983275</td></tr><tr><td>&quot;YY1_2018__Guil…</td><td>193.610229</td><td>197.006938</td><td>198.257935</td><td>197.266805</td><td>194.962158</td><td>279.459072</td><td>285.458256</td><td>288.373834</td><td>288.029064</td><td>285.747464</td><td>450.7511</td><td>464.196677</td><td>472.816929</td><td>476.199326</td><td>476.417872</td></tr><tr><td>&quot;YY1_2018__Guil…</td><td>193.610229</td><td>197.006938</td><td>198.257935</td><td>197.266805</td><td>194.962158</td><td>281.725839</td><td>287.793272</td><td>290.752215</td><td>290.423972</td><td>288.142486</td><td>451.245673</td><td>464.68803</td><td>473.29872</td><td>476.66536</td><td>476.864521</td></tr><tr><td>&quot;YY1_2018__Guil…</td><td>193.610229</td><td>197.006938</td><td>198.257935</td><td>197.266805</td><td>194.962158</td><td>281.725839</td><td>287.793272</td><td>290.752215</td><td>290.423972</td><td>288.142486</td><td>451.129933</td><td>464.56776</td><td>473.175257</td><td>476.540007</td><td>476.738106</td></tr></tbody></table></div>"
      ],
      "text/plain": [
       "shape: (35_736, 16)\n",
       "┌───────────┬───────────┬───────────┬───────────┬───┬───────────┬───────────┬───────────┬──────────┐\n",
       "│ SSBS      ┆ Pop_densi ┆ Pop_densi ┆ Pop_densi ┆ … ┆ Pop_densi ┆ Pop_densi ┆ Pop_densi ┆ Pop_dens │\n",
       "│ ---       ┆ ty_1km_20 ┆ ty_1km_20 ┆ ty_1km_20 ┆   ┆ ty_50km_2 ┆ ty_50km_2 ┆ ty_50km_2 ┆ ity_50km │\n",
       "│ str       ┆ 00        ┆ 05        ┆ 10        ┆   ┆ 005       ┆ 010       ┆ 015       ┆ _2020    │\n",
       "│           ┆ ---       ┆ ---       ┆ ---       ┆   ┆ ---       ┆ ---       ┆ ---       ┆ ---      │\n",
       "│           ┆ f64       ┆ f64       ┆ f64       ┆   ┆ f64       ┆ f64       ┆ f64       ┆ f64      │\n",
       "╞═══════════╪═══════════╪═══════════╪═══════════╪═══╪═══════════╪═══════════╪═══════════╪══════════╡\n",
       "│ AD1_2001_ ┆ 8665.0538 ┆ 10686.046 ┆ 12856.830 ┆ … ┆ 1093.0912 ┆ 1268.8133 ┆ 1454.1612 ┆ 1641.065 │\n",
       "│ _Liow 1   ┆ 19        ┆ 875       ┆ 729       ┆   ┆ 19        ┆ 92        ┆ 13        ┆ 066      │\n",
       "│ 1         ┆           ┆           ┆           ┆   ┆           ┆           ┆           ┆          │\n",
       "│ AD1_2001_ ┆ 1131.0900 ┆ 1245.1231 ┆ 1336.2007 ┆ … ┆ 1101.2129 ┆ 1278.4877 ┆ 1465.4535 ┆ 1653.969 │\n",
       "│ _Liow 1   ┆ 88        ┆ 28        ┆ 65        ┆   ┆ 81        ┆ 99        ┆ 58        ┆ 848      │\n",
       "│ 2         ┆           ┆           ┆           ┆   ┆           ┆           ┆           ┆          │\n",
       "│ AD1_2001_ ┆ 4979.7291 ┆ 5457.9687 ┆ 5831.0399 ┆ … ┆ 1050.3024 ┆ 1216.1230 ┆ 1389.4975 ┆ 1562.316 │\n",
       "│ _Liow 1   ┆ 67        ┆ 5         ┆ 31        ┆   ┆ 34        ┆ 64        ┆ 41        ┆ 572      │\n",
       "│ 3         ┆           ┆           ┆           ┆   ┆           ┆           ┆           ┆          │\n",
       "│ AD1_2001_ ┆ 4332.8836 ┆ 4888.9427 ┆ 5376.2569 ┆ … ┆ 1114.7579 ┆ 1295.3947 ┆ 1486.5776 ┆ 1680.202 │\n",
       "│ _Liow 1   ┆ 81        ┆ 08        ┆ 44        ┆   ┆ 22        ┆ 4         ┆ 78        ┆ 951      │\n",
       "│ 4         ┆           ┆           ┆           ┆   ┆           ┆           ┆           ┆          │\n",
       "│ AD1_2001_ ┆ 8465.1582 ┆ 9318.0253 ┆ 9998.7389 ┆ … ┆ 1149.9678 ┆ 1338.4086 ┆ 1538.7645 ┆ 1742.833 │\n",
       "│ _Liow 1   ┆ 03        ┆ 91        ┆ 32        ┆   ┆ 69        ┆ 12        ┆ 51        ┆ 948      │\n",
       "│ 5         ┆           ┆           ┆           ┆   ┆           ┆           ┆           ┆          │\n",
       "│ …         ┆ …         ┆ …         ┆ …         ┆ … ┆ …         ┆ …         ┆ …         ┆ …        │\n",
       "│ YY1_2018_ ┆ 590.26534 ┆ 605.51106 ┆ 614.26912 ┆ … ┆ 514.66618 ┆ 524.15808 ┆ 527.82834 ┆ 527.9777 │\n",
       "│ _Guillemo ┆           ┆ 8         ┆ 4         ┆   ┆ 2         ┆ 9         ┆ 2         ┆ 07       │\n",
       "│ t 1  66   ┆           ┆           ┆           ┆   ┆           ┆           ┆           ┆          │\n",
       "│ YY1_2018_ ┆ 590.26529 ┆ 605.51101 ┆ 614.26915 ┆ … ┆ 503.99826 ┆ 513.27578 ┆ 516.85299 ┆ 516.9832 │\n",
       "│ _Guillemo ┆ 9         ┆ 3         ┆ 1         ┆   ┆ 5         ┆ 6         ┆ 8         ┆ 75       │\n",
       "│ t 1  67   ┆           ┆           ┆           ┆   ┆           ┆           ┆           ┆          │\n",
       "│ YY1_2018_ ┆ 193.61022 ┆ 197.00693 ┆ 198.25793 ┆ … ┆ 464.19667 ┆ 472.81692 ┆ 476.19932 ┆ 476.4178 │\n",
       "│ _Guillemo ┆ 9         ┆ 8         ┆ 5         ┆   ┆ 7         ┆ 9         ┆ 6         ┆ 72       │\n",
       "│ t 1  7    ┆           ┆           ┆           ┆   ┆           ┆           ┆           ┆          │\n",
       "│ YY1_2018_ ┆ 193.61022 ┆ 197.00693 ┆ 198.25793 ┆ … ┆ 464.68803 ┆ 473.29872 ┆ 476.66536 ┆ 476.8645 │\n",
       "│ _Guillemo ┆ 9         ┆ 8         ┆ 5         ┆   ┆           ┆           ┆           ┆ 21       │\n",
       "│ t 1  8    ┆           ┆           ┆           ┆   ┆           ┆           ┆           ┆          │\n",
       "│ YY1_2018_ ┆ 193.61022 ┆ 197.00693 ┆ 198.25793 ┆ … ┆ 464.56776 ┆ 473.17525 ┆ 476.54000 ┆ 476.7381 │\n",
       "│ _Guillemo ┆ 9         ┆ 8         ┆ 5         ┆   ┆           ┆ 7         ┆ 7         ┆ 06       │\n",
       "│ t 1  9    ┆           ┆           ┆           ┆   ┆           ┆           ┆           ┆          │\n",
       "└───────────┴───────────┴───────────┴───────────┴───┴───────────┴───────────┴───────────┴──────────┘"
      ]
     },
     "execution_count": 39,
     "metadata": {},
     "output_type": "execute_result"
    }
   ],
   "source": [
    "df_pop_all = pl.read_parquet(\"../../data/output/pop_density/pop_density.parquet\")\n",
    "df_pop_all"
   ]
  },
  {
   "cell_type": "code",
   "execution_count": 40,
   "id": "6ad969b7-2b22-40fe-8c59-110104559d3d",
   "metadata": {},
   "outputs": [
    {
     "data": {
      "text/html": [
       "<div><style>\n",
       ".dataframe > thead > tr,\n",
       ".dataframe > tbody > tr {\n",
       "  text-align: right;\n",
       "  white-space: pre-wrap;\n",
       "}\n",
       "</style>\n",
       "<small>shape: (35_736, 6)</small><table border=\"1\" class=\"dataframe\"><thead><tr><th>SSBS</th><th>Pop_density_1km_2000</th><th>Pop_density_1km_2005</th><th>Pop_density_1km_2010</th><th>Pop_density_1km_2015</th><th>Pop_density_1km_2020</th></tr><tr><td>str</td><td>f64</td><td>f64</td><td>f64</td><td>f64</td><td>f64</td></tr></thead><tbody><tr><td>&quot;AD1_2001__Liow…</td><td>8665.053819</td><td>10686.046875</td><td>12856.830729</td><td>14912.848958</td><td>16510.614583</td></tr><tr><td>&quot;AD1_2001__Liow…</td><td>1131.090088</td><td>1245.123128</td><td>1336.200765</td><td>1381.482259</td><td>1362.475993</td></tr><tr><td>&quot;AD1_2001__Liow…</td><td>4979.729167</td><td>5457.96875</td><td>5831.039931</td><td>6000.927951</td><td>5890.359375</td></tr><tr><td>&quot;AD1_2001__Liow…</td><td>4332.883681</td><td>4888.942708</td><td>5376.256944</td><td>5694.303819</td><td>5751.630208</td></tr><tr><td>&quot;AD1_2001__Liow…</td><td>8465.158203</td><td>9318.025391</td><td>9998.738932</td><td>10336.432943</td><td>10192.90625</td></tr><tr><td>&hellip;</td><td>&hellip;</td><td>&hellip;</td><td>&hellip;</td><td>&hellip;</td><td>&hellip;</td></tr><tr><td>&quot;YY1_2018__Guil…</td><td>590.26534</td><td>605.511068</td><td>614.269124</td><td>616.078532</td><td>613.694906</td></tr><tr><td>&quot;YY1_2018__Guil…</td><td>590.265299</td><td>605.511013</td><td>614.269151</td><td>616.078505</td><td>613.694933</td></tr><tr><td>&quot;YY1_2018__Guil…</td><td>193.610229</td><td>197.006938</td><td>198.257935</td><td>197.266805</td><td>194.962158</td></tr><tr><td>&quot;YY1_2018__Guil…</td><td>193.610229</td><td>197.006938</td><td>198.257935</td><td>197.266805</td><td>194.962158</td></tr><tr><td>&quot;YY1_2018__Guil…</td><td>193.610229</td><td>197.006938</td><td>198.257935</td><td>197.266805</td><td>194.962158</td></tr></tbody></table></div>"
      ],
      "text/plain": [
       "shape: (35_736, 6)\n",
       "┌────────────────┬────────────────┬────────────────┬───────────────┬───────────────┬───────────────┐\n",
       "│ SSBS           ┆ Pop_density_1k ┆ Pop_density_1k ┆ Pop_density_1 ┆ Pop_density_1 ┆ Pop_density_1 │\n",
       "│ ---            ┆ m_2000         ┆ m_2005         ┆ km_2010       ┆ km_2015       ┆ km_2020       │\n",
       "│ str            ┆ ---            ┆ ---            ┆ ---           ┆ ---           ┆ ---           │\n",
       "│                ┆ f64            ┆ f64            ┆ f64           ┆ f64           ┆ f64           │\n",
       "╞════════════════╪════════════════╪════════════════╪═══════════════╪═══════════════╪═══════════════╡\n",
       "│ AD1_2001__Liow ┆ 8665.053819    ┆ 10686.046875   ┆ 12856.830729  ┆ 14912.848958  ┆ 16510.614583  │\n",
       "│ 1  1           ┆                ┆                ┆               ┆               ┆               │\n",
       "│ AD1_2001__Liow ┆ 1131.090088    ┆ 1245.123128    ┆ 1336.200765   ┆ 1381.482259   ┆ 1362.475993   │\n",
       "│ 1  2           ┆                ┆                ┆               ┆               ┆               │\n",
       "│ AD1_2001__Liow ┆ 4979.729167    ┆ 5457.96875     ┆ 5831.039931   ┆ 6000.927951   ┆ 5890.359375   │\n",
       "│ 1  3           ┆                ┆                ┆               ┆               ┆               │\n",
       "│ AD1_2001__Liow ┆ 4332.883681    ┆ 4888.942708    ┆ 5376.256944   ┆ 5694.303819   ┆ 5751.630208   │\n",
       "│ 1  4           ┆                ┆                ┆               ┆               ┆               │\n",
       "│ AD1_2001__Liow ┆ 8465.158203    ┆ 9318.025391    ┆ 9998.738932   ┆ 10336.432943  ┆ 10192.90625   │\n",
       "│ 1  5           ┆                ┆                ┆               ┆               ┆               │\n",
       "│ …              ┆ …              ┆ …              ┆ …             ┆ …             ┆ …             │\n",
       "│ YY1_2018__Guil ┆ 590.26534      ┆ 605.511068     ┆ 614.269124    ┆ 616.078532    ┆ 613.694906    │\n",
       "│ lemot 1  66    ┆                ┆                ┆               ┆               ┆               │\n",
       "│ YY1_2018__Guil ┆ 590.265299     ┆ 605.511013     ┆ 614.269151    ┆ 616.078505    ┆ 613.694933    │\n",
       "│ lemot 1  67    ┆                ┆                ┆               ┆               ┆               │\n",
       "│ YY1_2018__Guil ┆ 193.610229     ┆ 197.006938     ┆ 198.257935    ┆ 197.266805    ┆ 194.962158    │\n",
       "│ lemot 1  7     ┆                ┆                ┆               ┆               ┆               │\n",
       "│ YY1_2018__Guil ┆ 193.610229     ┆ 197.006938     ┆ 198.257935    ┆ 197.266805    ┆ 194.962158    │\n",
       "│ lemot 1  8     ┆                ┆                ┆               ┆               ┆               │\n",
       "│ YY1_2018__Guil ┆ 193.610229     ┆ 197.006938     ┆ 198.257935    ┆ 197.266805    ┆ 194.962158    │\n",
       "│ lemot 1  9     ┆                ┆                ┆               ┆               ┆               │\n",
       "└────────────────┴────────────────┴────────────────┴───────────────┴───────────────┴───────────────┘"
      ]
     },
     "execution_count": 40,
     "metadata": {},
     "output_type": "execute_result"
    }
   ],
   "source": [
    "df_pop_1km = pl.read_parquet(\"../../data/output/pop_density/pop_density_1km.parquet\")\n",
    "df_pop_1km"
   ]
  },
  {
   "cell_type": "markdown",
   "id": "d989e1c4-828d-4ec9-9a91-570ea6ba64ff",
   "metadata": {},
   "source": [
    "### Combined data"
   ]
  },
  {
   "cell_type": "code",
   "execution_count": 11,
   "id": "9ea6c4e4-0c4c-4a02-88f9-ce38de1b6093",
   "metadata": {},
   "outputs": [
    {
     "data": {
      "text/html": [
       "<div><style>\n",
       ".dataframe > thead > tr,\n",
       ".dataframe > tbody > tr {\n",
       "  text-align: right;\n",
       "  white-space: pre-wrap;\n",
       "}\n",
       "</style>\n",
       "<small>shape: (5, 75)</small><table border=\"1\" class=\"dataframe\"><thead><tr><th>_id</th><th>Source_ID</th><th>Reference</th><th>Study_number</th><th>Study_name</th><th>Block</th><th>Site_number</th><th>Site_name</th><th>SS</th><th>SSS</th><th>SSB</th><th>SSBS</th><th>Longitude</th><th>Latitude</th><th>Coordinates_method</th><th>Country</th><th>Country_distance_metres</th><th>UN_region</th><th>UN_subregion</th><th>Realm</th><th>Biome</th><th>Ecoregion</th><th>Ecoregion_distance_metres</th><th>Wilderness_area</th><th>Hotspot</th><th>Study_common_taxon</th><th>Rank_of_study_common_taxon</th><th>Sample_start_earliest</th><th>Sample_end_latest</th><th>Sample_midpoint</th><th>Sample_date_resolution</th><th>Sampling_method</th><th>Sampling_effort</th><th>Rescaled_sampling_effort</th><th>Sampling_effort_unit</th><th>Max_linear_extent_metres</th><th>Transect_details</th><th>Taxon</th><th>Taxon_number</th><th>Taxon_name_entered</th><th>Parsed_name</th><th>Best_guess_binomial</th><th>COL_ID</th><th>Kingdom</th><th>Phylum</th><th>Class</th><th>Order</th><th>Family</th><th>Genus</th><th>Species</th><th>Higher_taxon</th><th>Indication</th><th>Name_status</th><th>Rank</th><th>Diversity_metric_type</th><th>Diversity_metric</th><th>Diversity_metric_is_effort_sensitive</th><th>Diversity_metric_is_suitable_for_Chao</th><th>Diversity_metric_unit</th><th>Measurement</th><th>Effort_corrected_measurement</th><th>Predominant_land_use</th><th>Source_for_predominant_land_use</th><th>Use_intensity</th><th>Habitat_as_described</th><th>Habitat_patch_area_square_metres</th><th>Km_to_nearest_edge_of_habitat</th><th>Years_since_fragmentation_or_conversion</th><th>Road_density_1km</th><th>Road_density_10km</th><th>Road_density_50km</th><th>Sample_year</th><th>Pop_density_1km</th><th>Pop_density_10km</th><th>Pop_density_50km</th></tr><tr><td>i64</td><td>str</td><td>str</td><td>i64</td><td>str</td><td>str</td><td>i64</td><td>str</td><td>str</td><td>str</td><td>str</td><td>str</td><td>f64</td><td>f64</td><td>str</td><td>str</td><td>f64</td><td>str</td><td>str</td><td>str</td><td>str</td><td>str</td><td>f64</td><td>str</td><td>str</td><td>str</td><td>str</td><td>str</td><td>str</td><td>str</td><td>str</td><td>str</td><td>f64</td><td>f64</td><td>str</td><td>f64</td><td>str</td><td>str</td><td>i64</td><td>str</td><td>str</td><td>str</td><td>i64</td><td>str</td><td>str</td><td>str</td><td>str</td><td>str</td><td>str</td><td>str</td><td>str</td><td>str</td><td>str</td><td>str</td><td>str</td><td>str</td><td>bool</td><td>bool</td><td>str</td><td>f64</td><td>f64</td><td>str</td><td>str</td><td>str</td><td>str</td><td>f64</td><td>f64</td><td>f64</td><td>f64</td><td>f64</td><td>f64</td><td>i32</td><td>f64</td><td>f64</td><td>f64</td></tr></thead><tbody><tr><td>1</td><td>&quot;AD1_2001__Liow…</td><td>&quot;Liow et al. 20…</td><td>1</td><td>&quot;Singapore_abun…</td><td>null</td><td>1</td><td>&quot;BT&quot;</td><td>&quot;AD1_2001__Liow…</td><td>&quot;AD1_2001__Liow…</td><td>&quot;AD1_2001__Liow…</td><td>&quot;AD1_2001__Liow…</td><td>103.778611</td><td>1.351944</td><td>&quot;Georeferenced&quot;</td><td>&quot;Singapore&quot;</td><td>0.0</td><td>&quot;Asia&quot;</td><td>&quot;South-Eastern …</td><td>&quot;Indo-Malay&quot;</td><td>&quot;Tropical &amp; Sub…</td><td>&quot;Peninsular Mal…</td><td>0.0</td><td>null</td><td>&quot;Sundaland&quot;</td><td>&quot;Apidae&quot;</td><td>&quot;Family&quot;</td><td>&quot;1999-03-03&quot;</td><td>&quot;1999-06-30&quot;</td><td>&quot;1999-05-01&quot;</td><td>&quot;day&quot;</td><td>&quot;transects with…</td><td>30.0</td><td>1.0</td><td>&quot;trap&quot;</td><td>3000.0</td><td>null</td><td>&quot;Apidae&quot;</td><td>1</td><td>&quot;Bees&quot;</td><td>&quot;Bees&quot;</td><td>null</td><td>13025340</td><td>&quot;Animalia&quot;</td><td>&quot;Arthropoda&quot;</td><td>&quot;Insecta&quot;</td><td>&quot;Hymenoptera&quot;</td><td>&quot;Apidae&quot;</td><td>null</td><td>null</td><td>&quot;Hymenoptera&quot;</td><td>&quot;Hymenoptera: A…</td><td>&quot;accepted name&quot;</td><td>&quot;Family&quot;</td><td>&quot;Abundance&quot;</td><td>&quot;abundance&quot;</td><td>true</td><td>true</td><td>&quot;individuals&quot;</td><td>42.0</td><td>42.0</td><td>&quot;Primary vegeta…</td><td>&quot;Direct from pu…</td><td>&quot;Cannot decide&quot;</td><td>&quot;Primary hill, …</td><td>870000.0</td><td>null</td><td>null</td><td>5216.252065</td><td>459075.550619</td><td>8.0897e6</td><td>1999</td><td>8309.255293</td><td>5934.376951</td><td>904.673596</td></tr><tr><td>2</td><td>&quot;AD1_2001__Liow…</td><td>&quot;Liow et al. 20…</td><td>1</td><td>&quot;Singapore_abun…</td><td>null</td><td>2</td><td>&quot;MC&quot;</td><td>&quot;AD1_2001__Liow…</td><td>&quot;AD1_2001__Liow…</td><td>&quot;AD1_2001__Liow…</td><td>&quot;AD1_2001__Liow…</td><td>103.808056</td><td>1.354722</td><td>&quot;Georeferenced&quot;</td><td>&quot;Singapore&quot;</td><td>0.0</td><td>&quot;Asia&quot;</td><td>&quot;South-Eastern …</td><td>&quot;Indo-Malay&quot;</td><td>&quot;Tropical &amp; Sub…</td><td>&quot;Peninsular Mal…</td><td>0.0</td><td>null</td><td>&quot;Sundaland&quot;</td><td>&quot;Apidae&quot;</td><td>&quot;Family&quot;</td><td>&quot;1999-02-24&quot;</td><td>&quot;1999-06-24&quot;</td><td>&quot;1999-04-25&quot;</td><td>&quot;day&quot;</td><td>&quot;transects with…</td><td>30.0</td><td>1.0</td><td>&quot;trap&quot;</td><td>3000.0</td><td>null</td><td>&quot;Apidae&quot;</td><td>1</td><td>&quot;Bees&quot;</td><td>&quot;Bees&quot;</td><td>null</td><td>13025340</td><td>&quot;Animalia&quot;</td><td>&quot;Arthropoda&quot;</td><td>&quot;Insecta&quot;</td><td>&quot;Hymenoptera&quot;</td><td>&quot;Apidae&quot;</td><td>null</td><td>null</td><td>&quot;Hymenoptera&quot;</td><td>&quot;Hymenoptera: A…</td><td>&quot;accepted name&quot;</td><td>&quot;Family&quot;</td><td>&quot;Abundance&quot;</td><td>&quot;abundance&quot;</td><td>true</td><td>true</td><td>&quot;individuals&quot;</td><td>242.0</td><td>242.0</td><td>&quot;Mature seconda…</td><td>&quot;Direct from pu…</td><td>&quot;Cannot decide&quot;</td><td>&quot;Secondary fore…</td><td>5.21e6</td><td>null</td><td>70.0</td><td>4185.339375</td><td>461182.394065</td><td>8.0540e6</td><td>1999</td><td>1109.568645</td><td>7076.091245</td><td>911.141914</td></tr><tr><td>3</td><td>&quot;AD1_2001__Liow…</td><td>&quot;Liow et al. 20…</td><td>1</td><td>&quot;Singapore_abun…</td><td>null</td><td>3</td><td>&quot;NS&quot;</td><td>&quot;AD1_2001__Liow…</td><td>&quot;AD1_2001__Liow…</td><td>&quot;AD1_2001__Liow…</td><td>&quot;AD1_2001__Liow…</td><td>103.811667</td><td>1.394722</td><td>&quot;Georeferenced&quot;</td><td>&quot;Singapore&quot;</td><td>0.0</td><td>&quot;Asia&quot;</td><td>&quot;South-Eastern …</td><td>&quot;Indo-Malay&quot;</td><td>&quot;Tropical &amp; Sub…</td><td>&quot;Peninsular Mal…</td><td>0.0</td><td>null</td><td>&quot;Sundaland&quot;</td><td>&quot;Apidae&quot;</td><td>&quot;Family&quot;</td><td>&quot;1999-03-16&quot;</td><td>&quot;1999-07-08&quot;</td><td>&quot;1999-05-12&quot;</td><td>&quot;day&quot;</td><td>&quot;transects with…</td><td>30.0</td><td>1.0</td><td>&quot;trap&quot;</td><td>3000.0</td><td>null</td><td>&quot;Apidae&quot;</td><td>1</td><td>&quot;Bees&quot;</td><td>&quot;Bees&quot;</td><td>null</td><td>13025340</td><td>&quot;Animalia&quot;</td><td>&quot;Arthropoda&quot;</td><td>&quot;Insecta&quot;</td><td>&quot;Hymenoptera&quot;</td><td>&quot;Apidae&quot;</td><td>null</td><td>null</td><td>&quot;Hymenoptera&quot;</td><td>&quot;Hymenoptera: A…</td><td>&quot;accepted name&quot;</td><td>&quot;Family&quot;</td><td>&quot;Abundance&quot;</td><td>&quot;abundance&quot;</td><td>true</td><td>true</td><td>&quot;individuals&quot;</td><td>232.0</td><td>232.0</td><td>&quot;Mature seconda…</td><td>&quot;Direct from pu…</td><td>&quot;Cannot decide&quot;</td><td>&quot;Secondary fore…</td><td>7.946e6</td><td>null</td><td>70.0</td><td>6044.391261</td><td>445566.523653</td><td>8.0969e6</td><td>1999</td><td>4889.232152</td><td>6167.76719</td><td>871.418772</td></tr><tr><td>4</td><td>&quot;AD1_2001__Liow…</td><td>&quot;Liow et al. 20…</td><td>1</td><td>&quot;Singapore_abun…</td><td>null</td><td>4</td><td>&quot;HW&quot;</td><td>&quot;AD1_2001__Liow…</td><td>&quot;AD1_2001__Liow…</td><td>&quot;AD1_2001__Liow…</td><td>&quot;AD1_2001__Liow…</td><td>103.787222</td><td>1.326944</td><td>&quot;Georeferenced&quot;</td><td>&quot;Singapore&quot;</td><td>0.0</td><td>&quot;Asia&quot;</td><td>&quot;South-Eastern …</td><td>&quot;Indo-Malay&quot;</td><td>&quot;Tropical &amp; Sub…</td><td>&quot;Peninsular Mal…</td><td>0.0</td><td>null</td><td>&quot;Sundaland&quot;</td><td>&quot;Apidae&quot;</td><td>&quot;Family&quot;</td><td>&quot;1999-05-05&quot;</td><td>&quot;1999-07-28&quot;</td><td>&quot;1999-06-16&quot;</td><td>&quot;day&quot;</td><td>&quot;transects with…</td><td>18.0</td><td>0.6</td><td>&quot;trap&quot;</td><td>1800.0</td><td>null</td><td>&quot;Apidae&quot;</td><td>1</td><td>&quot;Bees&quot;</td><td>&quot;Bees&quot;</td><td>null</td><td>13025340</td><td>&quot;Animalia&quot;</td><td>&quot;Arthropoda&quot;</td><td>&quot;Insecta&quot;</td><td>&quot;Hymenoptera&quot;</td><td>&quot;Apidae&quot;</td><td>null</td><td>null</td><td>&quot;Hymenoptera&quot;</td><td>&quot;Hymenoptera: A…</td><td>&quot;accepted name&quot;</td><td>&quot;Family&quot;</td><td>&quot;Abundance&quot;</td><td>&quot;abundance&quot;</td><td>true</td><td>true</td><td>&quot;individuals&quot;</td><td>111.0</td><td>185.0</td><td>&quot;Intermediate s…</td><td>&quot;Direct from pu…</td><td>&quot;Cannot decide&quot;</td><td>&quot;Secondary fore…</td><td>415000.0</td><td>null</td><td>30.0</td><td>5795.758162</td><td>466275.654498</td><td>8.0230e6</td><td>1999</td><td>4229.504065</td><td>6282.622655</td><td>921.541073</td></tr><tr><td>5</td><td>&quot;AD1_2001__Liow…</td><td>&quot;Liow et al. 20…</td><td>1</td><td>&quot;Singapore_abun…</td><td>null</td><td>5</td><td>&quot;KR&quot;</td><td>&quot;AD1_2001__Liow…</td><td>&quot;AD1_2001__Liow…</td><td>&quot;AD1_2001__Liow…</td><td>&quot;AD1_2001__Liow…</td><td>103.803611</td><td>1.282778</td><td>&quot;Georeferenced&quot;</td><td>&quot;Singapore&quot;</td><td>0.0</td><td>&quot;Asia&quot;</td><td>&quot;South-Eastern …</td><td>&quot;Indo-Malay&quot;</td><td>&quot;Tropical &amp; Sub…</td><td>&quot;Peninsular Mal…</td><td>0.0</td><td>null</td><td>&quot;Sundaland&quot;</td><td>&quot;Apidae&quot;</td><td>&quot;Family&quot;</td><td>&quot;1999-03-01&quot;</td><td>&quot;1999-07-03&quot;</td><td>&quot;1999-05-02&quot;</td><td>&quot;day&quot;</td><td>&quot;transects with…</td><td>20.0</td><td>0.666667</td><td>&quot;trap&quot;</td><td>2000.0</td><td>null</td><td>&quot;Apidae&quot;</td><td>1</td><td>&quot;Bees&quot;</td><td>&quot;Bees&quot;</td><td>null</td><td>13025340</td><td>&quot;Animalia&quot;</td><td>&quot;Arthropoda&quot;</td><td>&quot;Insecta&quot;</td><td>&quot;Hymenoptera&quot;</td><td>&quot;Apidae&quot;</td><td>null</td><td>null</td><td>&quot;Hymenoptera&quot;</td><td>&quot;Hymenoptera: A…</td><td>&quot;accepted name&quot;</td><td>&quot;Family&quot;</td><td>&quot;Abundance&quot;</td><td>&quot;abundance&quot;</td><td>true</td><td>true</td><td>&quot;individuals&quot;</td><td>63.0</td><td>94.5</td><td>&quot;Intermediate s…</td><td>&quot;Direct from pu…</td><td>&quot;Cannot decide&quot;</td><td>&quot;Secondary fore…</td><td>272000.0</td><td>null</td><td>30.0</td><td>5636.88385</td><td>536413.45309</td><td>7.8920e6</td><td>1999</td><td>8304.190756</td><td>6604.445643</td><td>949.06651</td></tr></tbody></table></div>"
      ],
      "text/plain": [
       "shape: (5, 75)\n",
       "┌─────┬────────────┬────────────┬────────────┬───┬────────────┬────────────┬───────────┬───────────┐\n",
       "│ _id ┆ Source_ID  ┆ Reference  ┆ Study_numb ┆ … ┆ Sample_yea ┆ Pop_densit ┆ Pop_densi ┆ Pop_densi │\n",
       "│ --- ┆ ---        ┆ ---        ┆ er         ┆   ┆ r          ┆ y_1km      ┆ ty_10km   ┆ ty_50km   │\n",
       "│ i64 ┆ str        ┆ str        ┆ ---        ┆   ┆ ---        ┆ ---        ┆ ---       ┆ ---       │\n",
       "│     ┆            ┆            ┆ i64        ┆   ┆ i32        ┆ f64        ┆ f64       ┆ f64       │\n",
       "╞═════╪════════════╪════════════╪════════════╪═══╪════════════╪════════════╪═══════════╪═══════════╡\n",
       "│ 1   ┆ AD1_2001__ ┆ Liow et    ┆ 1          ┆ … ┆ 1999       ┆ 8309.25529 ┆ 5934.3769 ┆ 904.67359 │\n",
       "│     ┆ Liow       ┆ al. 2001   ┆            ┆   ┆            ┆ 3          ┆ 51        ┆ 6         │\n",
       "│ 2   ┆ AD1_2001__ ┆ Liow et    ┆ 1          ┆ … ┆ 1999       ┆ 1109.56864 ┆ 7076.0912 ┆ 911.14191 │\n",
       "│     ┆ Liow       ┆ al. 2001   ┆            ┆   ┆            ┆ 5          ┆ 45        ┆ 4         │\n",
       "│ 3   ┆ AD1_2001__ ┆ Liow et    ┆ 1          ┆ … ┆ 1999       ┆ 4889.23215 ┆ 6167.7671 ┆ 871.41877 │\n",
       "│     ┆ Liow       ┆ al. 2001   ┆            ┆   ┆            ┆ 2          ┆ 9         ┆ 2         │\n",
       "│ 4   ┆ AD1_2001__ ┆ Liow et    ┆ 1          ┆ … ┆ 1999       ┆ 4229.50406 ┆ 6282.6226 ┆ 921.54107 │\n",
       "│     ┆ Liow       ┆ al. 2001   ┆            ┆   ┆            ┆ 5          ┆ 55        ┆ 3         │\n",
       "│ 5   ┆ AD1_2001__ ┆ Liow et    ┆ 1          ┆ … ┆ 1999       ┆ 8304.19075 ┆ 6604.4456 ┆ 949.06651 │\n",
       "│     ┆ Liow       ┆ al. 2001   ┆            ┆   ┆            ┆ 6          ┆ 43        ┆           │\n",
       "└─────┴────────────┴────────────┴────────────┴───┴────────────┴────────────┴───────────┴───────────┘"
      ]
     },
     "execution_count": 11,
     "metadata": {},
     "output_type": "execute_result"
    }
   ],
   "source": [
    "df_comb = pl.read_parquet(\"../../data/output/combined/combined_data.parquet\")\n",
    "df_comb.head()"
   ]
  },
  {
   "cell_type": "code",
   "execution_count": 12,
   "id": "060270c6-dd9f-465a-a6d5-386b8b19839c",
   "metadata": {},
   "outputs": [
    {
     "data": {
      "text/plain": [
       "(4318808, 75)"
      ]
     },
     "execution_count": 12,
     "metadata": {},
     "output_type": "execute_result"
    }
   ],
   "source": [
    "df_comb.shape"
   ]
  },
  {
   "cell_type": "markdown",
   "id": "0bee1e34-37c5-4ac6-b3fc-27f4ced6ad30",
   "metadata": {},
   "source": [
    "### Abundance data"
   ]
  },
  {
   "cell_type": "code",
   "execution_count": 3,
   "id": "9c56a2a1-fb3b-4bc5-8449-c2114d1de9e1",
   "metadata": {},
   "outputs": [
    {
     "data": {
      "text/html": [
       "<div><style>\n",
       ".dataframe > thead > tr,\n",
       ".dataframe > tbody > tr {\n",
       "  text-align: right;\n",
       "  white-space: pre-wrap;\n",
       "}\n",
       "</style>\n",
       "<small>shape: (5, 292)</small><table border=\"1\" class=\"dataframe\"><thead><tr><th>SS</th><th>SSB</th><th>SSBS</th><th>Abundance</th><th>Study_max_abundance</th><th>Max_scaled_abundance</th><th>Longitude</th><th>Latitude</th><th>Country</th><th>UN_region</th><th>UN_subregion</th><th>Realm</th><th>Biome</th><th>Ecoregion</th><th>Wilderness_area</th><th>Hotspot</th><th>Sample_midpoint</th><th>Sampling_method</th><th>Sampling_effort</th><th>Rescaled_sampling_effort</th><th>Max_linear_extent_metres</th><th>Diversity_metric_type</th><th>Predominant_land_use</th><th>Use_intensity</th><th>Habitat_patch_area_square_metres</th><th>Km_to_nearest_edge_of_habitat</th><th>Years_since_fragmentation_or_conversion</th><th>Road_density_1km</th><th>Road_density_10km</th><th>Road_density_50km</th><th>Pop_density_1km</th><th>Pop_density_10km</th><th>Pop_density_50km</th><th>Mean_road_density_1km</th><th>Mean_road_density_10km</th><th>Mean_road_density_50km</th><th>Mean_pop_density_1km</th><th>&hellip;</th><th>Pasture_Intense use_Pop_density_50km</th><th>Cropland_Minimal use_Road_density_1km</th><th>Cropland_Minimal use_Road_density_10km</th><th>Cropland_Minimal use_Road_density_50km</th><th>Cropland_Minimal use_Pop_density_1km</th><th>Cropland_Minimal use_Pop_density_10km</th><th>Cropland_Minimal use_Pop_density_50km</th><th>Cropland_Light use_Road_density_1km</th><th>Cropland_Light use_Road_density_10km</th><th>Cropland_Light use_Road_density_50km</th><th>Cropland_Light use_Pop_density_1km</th><th>Cropland_Light use_Pop_density_10km</th><th>Cropland_Light use_Pop_density_50km</th><th>Cropland_Intense use_Road_density_1km</th><th>Cropland_Intense use_Road_density_10km</th><th>Cropland_Intense use_Road_density_50km</th><th>Cropland_Intense use_Pop_density_1km</th><th>Cropland_Intense use_Pop_density_10km</th><th>Cropland_Intense use_Pop_density_50km</th><th>Urban_All use_Road_density_1km</th><th>Urban_All use_Road_density_10km</th><th>Urban_All use_Road_density_50km</th><th>Urban_All use_Pop_density_1km</th><th>Urban_All use_Pop_density_10km</th><th>Urban_All use_Pop_density_50km</th><th>Cropland_Light_Intense_Road_density_1km</th><th>Cropland_Light_Intense_Road_density_10km</th><th>Cropland_Light_Intense_Road_density_50km</th><th>Cropland_Light_Intense_Pop_density_1km</th><th>Cropland_Light_Intense_Pop_density_10km</th><th>Cropland_Light_Intense_Pop_density_50km</th><th>Pasture_Light_Intense_Road_density_1km</th><th>Pasture_Light_Intense_Road_density_10km</th><th>Pasture_Light_Intense_Road_density_50km</th><th>Pasture_Light_Intense_Pop_density_1km</th><th>Pasture_Light_Intense_Pop_density_10km</th><th>Pasture_Light_Intense_Pop_density_50km</th></tr><tr><td>str</td><td>str</td><td>str</td><td>f64</td><td>f64</td><td>f64</td><td>f64</td><td>f64</td><td>str</td><td>str</td><td>str</td><td>str</td><td>str</td><td>str</td><td>str</td><td>str</td><td>str</td><td>str</td><td>f64</td><td>f64</td><td>f64</td><td>str</td><td>str</td><td>str</td><td>f64</td><td>f64</td><td>f64</td><td>f64</td><td>f64</td><td>f64</td><td>f64</td><td>f64</td><td>f64</td><td>f64</td><td>f64</td><td>f64</td><td>f64</td><td>&hellip;</td><td>f64</td><td>f64</td><td>f64</td><td>f64</td><td>f64</td><td>f64</td><td>f64</td><td>f64</td><td>f64</td><td>f64</td><td>f64</td><td>f64</td><td>f64</td><td>f64</td><td>f64</td><td>f64</td><td>f64</td><td>f64</td><td>f64</td><td>f64</td><td>f64</td><td>f64</td><td>f64</td><td>f64</td><td>f64</td><td>f64</td><td>f64</td><td>f64</td><td>f64</td><td>f64</td><td>f64</td><td>f64</td><td>f64</td><td>f64</td><td>f64</td><td>f64</td><td>f64</td></tr></thead><tbody><tr><td>&quot;AD1_2001__Liow…</td><td>&quot;AD1_2001__Liow…</td><td>&quot;AD1_2001__Liow…</td><td>94.5</td><td>242.0</td><td>0.390496</td><td>103.803611</td><td>1.282778</td><td>&quot;Singapore&quot;</td><td>&quot;Asia&quot;</td><td>&quot;South-Eastern …</td><td>&quot;Indo-Malay&quot;</td><td>&quot;Tropical &amp; Sub…</td><td>&quot;Peninsular Mal…</td><td>null</td><td>&quot;Sundaland&quot;</td><td>&quot;1999-05-02&quot;</td><td>&quot;transects with…</td><td>20.0</td><td>0.666667</td><td>2000.0</td><td>&quot;Abundance&quot;</td><td>&quot;Intermediate s…</td><td>&quot;Cannot decide&quot;</td><td>272000.0</td><td>null</td><td>30.0</td><td>5636.88385</td><td>536413.45309</td><td>7.8920e6</td><td>8304.190756</td><td>6604.445643</td><td>949.06651</td><td>5375.724942</td><td>473702.715185</td><td>8.0311e6</td><td>5368.350182</td><td>&hellip;</td><td>0.0</td><td>0.0</td><td>0.0</td><td>0.0</td><td>0.0</td><td>0.0</td><td>0.0</td><td>0.0</td><td>0.0</td><td>0.0</td><td>0.0</td><td>0.0</td><td>0.0</td><td>0.0</td><td>0.0</td><td>0.0</td><td>0.0</td><td>0.0</td><td>0.0</td><td>0.0</td><td>0.0</td><td>0.0</td><td>0.0</td><td>0.0</td><td>0.0</td><td>0.0</td><td>0.0</td><td>0.0</td><td>0.0</td><td>0.0</td><td>0.0</td><td>0.0</td><td>0.0</td><td>0.0</td><td>0.0</td><td>0.0</td><td>0.0</td></tr><tr><td>&quot;AD1_2002__Krue…</td><td>&quot;AD1_2002__Krue…</td><td>&quot;AD1_2002__Krue…</td><td>45.0</td><td>181.0</td><td>0.248619</td><td>9.802144</td><td>53.723025</td><td>&quot;Germany&quot;</td><td>&quot;Europe&quot;</td><td>&quot;Western Europe…</td><td>&quot;Palearctic&quot;</td><td>&quot;Temperate Broa…</td><td>&quot;Atlantic Mixed…</td><td>null</td><td>null</td><td>&quot;1996-07-16&quot;</td><td>&quot;trap nests&quot;</td><td>4.0</td><td>1.0</td><td>0.52</td><td>&quot;Abundance&quot;</td><td>&quot;Pasture&quot;</td><td>&quot;Light use&quot;</td><td>null</td><td>null</td><td>null</td><td>8601.527833</td><td>900708.618158</td><td>2.3358e7</td><td>174.157284</td><td>556.332158</td><td>347.936893</td><td>10161.143952</td><td>885739.016374</td><td>2.3392e7</td><td>269.394094</td><td>&hellip;</td><td>0.0</td><td>0.0</td><td>0.0</td><td>0.0</td><td>0.0</td><td>0.0</td><td>0.0</td><td>0.0</td><td>0.0</td><td>0.0</td><td>0.0</td><td>0.0</td><td>0.0</td><td>0.0</td><td>0.0</td><td>0.0</td><td>0.0</td><td>0.0</td><td>0.0</td><td>0.0</td><td>0.0</td><td>0.0</td><td>0.0</td><td>0.0</td><td>0.0</td><td>0.0</td><td>0.0</td><td>0.0</td><td>0.0</td><td>0.0</td><td>0.0</td><td>0.0</td><td>0.0</td><td>0.0</td><td>0.0</td><td>0.0</td><td>0.0</td></tr><tr><td>&quot;AD1_2002__Krue…</td><td>&quot;AD1_2002__Krue…</td><td>&quot;AD1_2002__Krue…</td><td>40.0</td><td>181.0</td><td>0.220994</td><td>9.859128</td><td>53.749558</td><td>&quot;Germany&quot;</td><td>&quot;Europe&quot;</td><td>&quot;Western Europe…</td><td>&quot;Palearctic&quot;</td><td>&quot;Temperate Broa…</td><td>&quot;Atlantic Mixed…</td><td>null</td><td>null</td><td>&quot;1996-07-16&quot;</td><td>&quot;trap nests&quot;</td><td>4.0</td><td>1.0</td><td>0.52</td><td>&quot;Abundance&quot;</td><td>&quot;Pasture&quot;</td><td>&quot;Light use&quot;</td><td>null</td><td>null</td><td>null</td><td>11468.766698</td><td>860561.215351</td><td>2.3238e7</td><td>301.7267</td><td>447.358168</td><td>351.370357</td><td>10161.143952</td><td>885739.016374</td><td>2.3392e7</td><td>269.394094</td><td>&hellip;</td><td>0.0</td><td>0.0</td><td>0.0</td><td>0.0</td><td>0.0</td><td>0.0</td><td>0.0</td><td>0.0</td><td>0.0</td><td>0.0</td><td>0.0</td><td>0.0</td><td>0.0</td><td>0.0</td><td>0.0</td><td>0.0</td><td>0.0</td><td>0.0</td><td>0.0</td><td>0.0</td><td>0.0</td><td>0.0</td><td>0.0</td><td>0.0</td><td>0.0</td><td>0.0</td><td>0.0</td><td>0.0</td><td>0.0</td><td>0.0</td><td>0.0</td><td>0.0</td><td>0.0</td><td>0.0</td><td>0.0</td><td>0.0</td><td>0.0</td></tr><tr><td>&quot;AD1_2002__Krue…</td><td>&quot;AD1_2002__Krue…</td><td>&quot;AD1_2002__Krue…</td><td>72.0</td><td>181.0</td><td>0.39779</td><td>9.865783</td><td>53.751528</td><td>&quot;Germany&quot;</td><td>&quot;Europe&quot;</td><td>&quot;Western Europe…</td><td>&quot;Palearctic&quot;</td><td>&quot;Temperate Broa…</td><td>&quot;Atlantic Mixed…</td><td>null</td><td>null</td><td>&quot;1996-07-16&quot;</td><td>&quot;trap nests&quot;</td><td>4.0</td><td>1.0</td><td>0.52</td><td>&quot;Abundance&quot;</td><td>&quot;Young secondar…</td><td>&quot;Minimal use&quot;</td><td>null</td><td>null</td><td>7.0</td><td>10139.288995</td><td>860607.35198</td><td>2.3226e7</td><td>282.658534</td><td>442.163281</td><td>351.089763</td><td>10161.143952</td><td>885739.016374</td><td>2.3392e7</td><td>269.394094</td><td>&hellip;</td><td>0.0</td><td>0.0</td><td>0.0</td><td>0.0</td><td>0.0</td><td>0.0</td><td>0.0</td><td>0.0</td><td>0.0</td><td>0.0</td><td>0.0</td><td>0.0</td><td>0.0</td><td>0.0</td><td>0.0</td><td>0.0</td><td>0.0</td><td>0.0</td><td>0.0</td><td>0.0</td><td>0.0</td><td>0.0</td><td>0.0</td><td>0.0</td><td>0.0</td><td>0.0</td><td>0.0</td><td>0.0</td><td>0.0</td><td>0.0</td><td>0.0</td><td>0.0</td><td>0.0</td><td>0.0</td><td>0.0</td><td>0.0</td><td>0.0</td></tr><tr><td>&quot;AD1_2002__Krue…</td><td>&quot;AD1_2002__Krue…</td><td>&quot;AD1_2002__Krue…</td><td>42.0</td><td>181.0</td><td>0.232044</td><td>9.787475</td><td>53.711225</td><td>&quot;Germany&quot;</td><td>&quot;Europe&quot;</td><td>&quot;Western Europe…</td><td>&quot;Palearctic&quot;</td><td>&quot;Temperate Broa…</td><td>&quot;Atlantic Mixed…</td><td>null</td><td>null</td><td>&quot;1996-07-16&quot;</td><td>&quot;trap nests&quot;</td><td>4.0</td><td>1.0</td><td>0.52</td><td>&quot;Abundance&quot;</td><td>&quot;Pasture&quot;</td><td>&quot;Intense use&quot;</td><td>null</td><td>null</td><td>null</td><td>13087.071035</td><td>888405.190718</td><td>2.3460e7</td><td>273.711556</td><td>576.919084</td><td>347.66519</td><td>10161.143952</td><td>885739.016374</td><td>2.3392e7</td><td>269.394094</td><td>&hellip;</td><td>347.66519</td><td>0.0</td><td>0.0</td><td>0.0</td><td>0.0</td><td>0.0</td><td>0.0</td><td>0.0</td><td>0.0</td><td>0.0</td><td>0.0</td><td>0.0</td><td>0.0</td><td>0.0</td><td>0.0</td><td>0.0</td><td>0.0</td><td>0.0</td><td>0.0</td><td>0.0</td><td>0.0</td><td>0.0</td><td>0.0</td><td>0.0</td><td>0.0</td><td>0.0</td><td>0.0</td><td>0.0</td><td>0.0</td><td>0.0</td><td>0.0</td><td>0.0</td><td>0.0</td><td>0.0</td><td>0.0</td><td>0.0</td><td>0.0</td></tr></tbody></table></div>"
      ],
      "text/plain": [
       "shape: (5, 292)\n",
       "┌───────────┬───────────┬───────────┬───────────┬───┬───────────┬───────────┬───────────┬──────────┐\n",
       "│ SS        ┆ SSB       ┆ SSBS      ┆ Abundance ┆ … ┆ Pasture_L ┆ Pasture_L ┆ Pasture_L ┆ Pasture_ │\n",
       "│ ---       ┆ ---       ┆ ---       ┆ ---       ┆   ┆ ight_Inte ┆ ight_Inte ┆ ight_Inte ┆ Light_In │\n",
       "│ str       ┆ str       ┆ str       ┆ f64       ┆   ┆ nse_Road_ ┆ nse_Pop_d ┆ nse_Pop_d ┆ tense_Po │\n",
       "│           ┆           ┆           ┆           ┆   ┆ densi…    ┆ ensit…    ┆ ensit…    ┆ p_densit │\n",
       "│           ┆           ┆           ┆           ┆   ┆ ---       ┆ ---       ┆ ---       ┆ …        │\n",
       "│           ┆           ┆           ┆           ┆   ┆ f64       ┆ f64       ┆ f64       ┆ ---      │\n",
       "│           ┆           ┆           ┆           ┆   ┆           ┆           ┆           ┆ f64      │\n",
       "╞═══════════╪═══════════╪═══════════╪═══════════╪═══╪═══════════╪═══════════╪═══════════╪══════════╡\n",
       "│ AD1_2001_ ┆ AD1_2001_ ┆ AD1_2001_ ┆ 94.5      ┆ … ┆ 0.0       ┆ 0.0       ┆ 0.0       ┆ 0.0      │\n",
       "│ _Liow 1   ┆ _Liow 1   ┆ _Liow 1   ┆           ┆   ┆           ┆           ┆           ┆          │\n",
       "│           ┆           ┆ 5         ┆           ┆   ┆           ┆           ┆           ┆          │\n",
       "│ AD1_2002_ ┆ AD1_2002_ ┆ AD1_2002_ ┆ 45.0      ┆ … ┆ 0.0       ┆ 0.0       ┆ 0.0       ┆ 0.0      │\n",
       "│ _Kruess 1 ┆ _Kruess 1 ┆ _Kruess 1 ┆           ┆   ┆           ┆           ┆           ┆          │\n",
       "│           ┆           ┆ 10        ┆           ┆   ┆           ┆           ┆           ┆          │\n",
       "│ AD1_2002_ ┆ AD1_2002_ ┆ AD1_2002_ ┆ 40.0      ┆ … ┆ 0.0       ┆ 0.0       ┆ 0.0       ┆ 0.0      │\n",
       "│ _Kruess 1 ┆ _Kruess 1 ┆ _Kruess 1 ┆           ┆   ┆           ┆           ┆           ┆          │\n",
       "│           ┆           ┆ 11        ┆           ┆   ┆           ┆           ┆           ┆          │\n",
       "│ AD1_2002_ ┆ AD1_2002_ ┆ AD1_2002_ ┆ 72.0      ┆ … ┆ 0.0       ┆ 0.0       ┆ 0.0       ┆ 0.0      │\n",
       "│ _Kruess 1 ┆ _Kruess 1 ┆ _Kruess 1 ┆           ┆   ┆           ┆           ┆           ┆          │\n",
       "│           ┆           ┆ 17        ┆           ┆   ┆           ┆           ┆           ┆          │\n",
       "│ AD1_2002_ ┆ AD1_2002_ ┆ AD1_2002_ ┆ 42.0      ┆ … ┆ 0.0       ┆ 0.0       ┆ 0.0       ┆ 0.0      │\n",
       "│ _Kruess 1 ┆ _Kruess 1 ┆ _Kruess 1 ┆           ┆   ┆           ┆           ┆           ┆          │\n",
       "│           ┆           ┆ 2         ┆           ┆   ┆           ┆           ┆           ┆          │\n",
       "└───────────┴───────────┴───────────┴───────────┴───┴───────────┴───────────┴───────────┴──────────┘"
      ]
     },
     "execution_count": 3,
     "metadata": {},
     "output_type": "execute_result"
    }
   ],
   "source": [
    "df_all_spec = pl.read_parquet(\"../../data/output/abundance/abundance_all_species.parquet\")\n",
    "df_all_spec.head()"
   ]
  },
  {
   "cell_type": "code",
   "execution_count": 6,
   "id": "ed5b450d-df38-41e5-a451-7a7472931766",
   "metadata": {},
   "outputs": [
    {
     "data": {
      "text/plain": [
       "(31053, 292)"
      ]
     },
     "execution_count": 6,
     "metadata": {},
     "output_type": "execute_result"
    }
   ],
   "source": [
    "df_all_spec.shape"
   ]
  },
  {
   "cell_type": "code",
   "execution_count": 5,
   "id": "36a4f430-5eab-487f-978c-3642cbfc9c54",
   "metadata": {},
   "outputs": [
    {
     "data": {
      "text/plain": [
       "(31171, 293)"
      ]
     },
     "execution_count": 5,
     "metadata": {},
     "output_type": "execute_result"
    }
   ],
   "source": [
    "df_kingdom = pl.read_parquet(\"../../data/output/abundance/abundance_kingdom.parquet\")\n",
    "df_kingdom.shape"
   ]
  },
  {
   "cell_type": "code",
   "execution_count": 13,
   "id": "108ac2db-ae3d-405b-a9b5-2593b9b693d1",
   "metadata": {},
   "outputs": [
    {
     "data": {
      "text/html": [
       "<div><style>\n",
       ".dataframe > thead > tr,\n",
       ".dataframe > tbody > tr {\n",
       "  text-align: right;\n",
       "  white-space: pre-wrap;\n",
       "}\n",
       "</style>\n",
       "<small>shape: (5, 293)</small><table border=\"1\" class=\"dataframe\"><thead><tr><th>SS</th><th>SSB</th><th>SSBS</th><th>Kingdom</th><th>Abundance</th><th>Study_max_abundance</th><th>Max_scaled_abundance</th><th>Longitude</th><th>Latitude</th><th>Country</th><th>UN_region</th><th>UN_subregion</th><th>Realm</th><th>Biome</th><th>Ecoregion</th><th>Wilderness_area</th><th>Hotspot</th><th>Sample_midpoint</th><th>Sampling_method</th><th>Sampling_effort</th><th>Rescaled_sampling_effort</th><th>Max_linear_extent_metres</th><th>Diversity_metric_type</th><th>Predominant_land_use</th><th>Use_intensity</th><th>Habitat_patch_area_square_metres</th><th>Km_to_nearest_edge_of_habitat</th><th>Years_since_fragmentation_or_conversion</th><th>Road_density_1km</th><th>Road_density_10km</th><th>Road_density_50km</th><th>Pop_density_1km</th><th>Pop_density_10km</th><th>Pop_density_50km</th><th>Mean_road_density_1km</th><th>Mean_road_density_10km</th><th>Mean_road_density_50km</th><th>&hellip;</th><th>Pasture_Intense use_Pop_density_50km</th><th>Cropland_Minimal use_Road_density_1km</th><th>Cropland_Minimal use_Road_density_10km</th><th>Cropland_Minimal use_Road_density_50km</th><th>Cropland_Minimal use_Pop_density_1km</th><th>Cropland_Minimal use_Pop_density_10km</th><th>Cropland_Minimal use_Pop_density_50km</th><th>Cropland_Light use_Road_density_1km</th><th>Cropland_Light use_Road_density_10km</th><th>Cropland_Light use_Road_density_50km</th><th>Cropland_Light use_Pop_density_1km</th><th>Cropland_Light use_Pop_density_10km</th><th>Cropland_Light use_Pop_density_50km</th><th>Cropland_Intense use_Road_density_1km</th><th>Cropland_Intense use_Road_density_10km</th><th>Cropland_Intense use_Road_density_50km</th><th>Cropland_Intense use_Pop_density_1km</th><th>Cropland_Intense use_Pop_density_10km</th><th>Cropland_Intense use_Pop_density_50km</th><th>Urban_All use_Road_density_1km</th><th>Urban_All use_Road_density_10km</th><th>Urban_All use_Road_density_50km</th><th>Urban_All use_Pop_density_1km</th><th>Urban_All use_Pop_density_10km</th><th>Urban_All use_Pop_density_50km</th><th>Cropland_Light_Intense_Road_density_1km</th><th>Cropland_Light_Intense_Road_density_10km</th><th>Cropland_Light_Intense_Road_density_50km</th><th>Cropland_Light_Intense_Pop_density_1km</th><th>Cropland_Light_Intense_Pop_density_10km</th><th>Cropland_Light_Intense_Pop_density_50km</th><th>Pasture_Light_Intense_Road_density_1km</th><th>Pasture_Light_Intense_Road_density_10km</th><th>Pasture_Light_Intense_Road_density_50km</th><th>Pasture_Light_Intense_Pop_density_1km</th><th>Pasture_Light_Intense_Pop_density_10km</th><th>Pasture_Light_Intense_Pop_density_50km</th></tr><tr><td>str</td><td>str</td><td>str</td><td>str</td><td>f64</td><td>f64</td><td>f64</td><td>f64</td><td>f64</td><td>str</td><td>str</td><td>str</td><td>str</td><td>str</td><td>str</td><td>str</td><td>str</td><td>str</td><td>str</td><td>f64</td><td>f64</td><td>f64</td><td>str</td><td>str</td><td>str</td><td>f64</td><td>f64</td><td>f64</td><td>f64</td><td>f64</td><td>f64</td><td>f64</td><td>f64</td><td>f64</td><td>f64</td><td>f64</td><td>f64</td><td>&hellip;</td><td>f64</td><td>f64</td><td>f64</td><td>f64</td><td>f64</td><td>f64</td><td>f64</td><td>f64</td><td>f64</td><td>f64</td><td>f64</td><td>f64</td><td>f64</td><td>f64</td><td>f64</td><td>f64</td><td>f64</td><td>f64</td><td>f64</td><td>f64</td><td>f64</td><td>f64</td><td>f64</td><td>f64</td><td>f64</td><td>f64</td><td>f64</td><td>f64</td><td>f64</td><td>f64</td><td>f64</td><td>f64</td><td>f64</td><td>f64</td><td>f64</td><td>f64</td><td>f64</td></tr></thead><tbody><tr><td>&quot;AD1_2002__Krue…</td><td>&quot;AD1_2002__Krue…</td><td>&quot;AD1_2002__Krue…</td><td>&quot;Animalia&quot;</td><td>72.0</td><td>181.0</td><td>0.39779</td><td>9.865783</td><td>53.751528</td><td>&quot;Germany&quot;</td><td>&quot;Europe&quot;</td><td>&quot;Western Europe…</td><td>&quot;Palearctic&quot;</td><td>&quot;Temperate Broa…</td><td>&quot;Atlantic Mixed…</td><td>null</td><td>null</td><td>&quot;1996-07-16&quot;</td><td>&quot;trap nests&quot;</td><td>4.0</td><td>1.0</td><td>0.52</td><td>&quot;Abundance&quot;</td><td>&quot;Young secondar…</td><td>&quot;Minimal use&quot;</td><td>null</td><td>null</td><td>7.0</td><td>10139.288995</td><td>860607.35198</td><td>2.3226e7</td><td>282.658534</td><td>442.163281</td><td>351.089763</td><td>10161.143952</td><td>885739.016374</td><td>2.3392e7</td><td>&hellip;</td><td>0.0</td><td>0.0</td><td>0.0</td><td>0.0</td><td>0.0</td><td>0.0</td><td>0.0</td><td>0.0</td><td>0.0</td><td>0.0</td><td>0.0</td><td>0.0</td><td>0.0</td><td>0.0</td><td>0.0</td><td>0.0</td><td>0.0</td><td>0.0</td><td>0.0</td><td>0.0</td><td>0.0</td><td>0.0</td><td>0.0</td><td>0.0</td><td>0.0</td><td>0.0</td><td>0.0</td><td>0.0</td><td>0.0</td><td>0.0</td><td>0.0</td><td>0.0</td><td>0.0</td><td>0.0</td><td>0.0</td><td>0.0</td><td>0.0</td></tr><tr><td>&quot;AD1_2002__Krue…</td><td>&quot;AD1_2002__Krue…</td><td>&quot;AD1_2002__Krue…</td><td>&quot;Animalia&quot;</td><td>25.0</td><td>181.0</td><td>0.138122</td><td>9.774044</td><td>53.720989</td><td>&quot;Germany&quot;</td><td>&quot;Europe&quot;</td><td>&quot;Western Europe…</td><td>&quot;Palearctic&quot;</td><td>&quot;Temperate Broa…</td><td>&quot;Atlantic Mixed…</td><td>null</td><td>null</td><td>&quot;1996-07-16&quot;</td><td>&quot;trap nests&quot;</td><td>4.0</td><td>1.0</td><td>0.52</td><td>&quot;Abundance&quot;</td><td>&quot;Pasture&quot;</td><td>&quot;Intense use&quot;</td><td>null</td><td>null</td><td>null</td><td>7752.043972</td><td>858702.35975</td><td>2.3325e7</td><td>209.904045</td><td>510.35134</td><td>346.693996</td><td>10161.143952</td><td>885739.016374</td><td>2.3392e7</td><td>&hellip;</td><td>346.693996</td><td>0.0</td><td>0.0</td><td>0.0</td><td>0.0</td><td>0.0</td><td>0.0</td><td>0.0</td><td>0.0</td><td>0.0</td><td>0.0</td><td>0.0</td><td>0.0</td><td>0.0</td><td>0.0</td><td>0.0</td><td>0.0</td><td>0.0</td><td>0.0</td><td>0.0</td><td>0.0</td><td>0.0</td><td>0.0</td><td>0.0</td><td>0.0</td><td>0.0</td><td>0.0</td><td>0.0</td><td>0.0</td><td>0.0</td><td>0.0</td><td>0.0</td><td>0.0</td><td>0.0</td><td>0.0</td><td>0.0</td><td>0.0</td></tr><tr><td>&quot;AD1_2002__Krue…</td><td>&quot;AD1_2002__Krue…</td><td>&quot;AD1_2002__Krue…</td><td>&quot;Animalia&quot;</td><td>12.0</td><td>181.0</td><td>0.066298</td><td>9.840053</td><td>53.730906</td><td>&quot;Germany&quot;</td><td>&quot;Europe&quot;</td><td>&quot;Western Europe…</td><td>&quot;Palearctic&quot;</td><td>&quot;Temperate Broa…</td><td>&quot;Atlantic Mixed…</td><td>null</td><td>null</td><td>&quot;1996-07-16&quot;</td><td>&quot;trap nests&quot;</td><td>4.0</td><td>1.0</td><td>0.52</td><td>&quot;Abundance&quot;</td><td>&quot;Pasture&quot;</td><td>&quot;Intense use&quot;</td><td>null</td><td>null</td><td>null</td><td>12223.614701</td><td>866524.742518</td><td>2.3318e7</td><td>339.022996</td><td>535.44676</td><td>350.302744</td><td>10161.143952</td><td>885739.016374</td><td>2.3392e7</td><td>&hellip;</td><td>350.302744</td><td>0.0</td><td>0.0</td><td>0.0</td><td>0.0</td><td>0.0</td><td>0.0</td><td>0.0</td><td>0.0</td><td>0.0</td><td>0.0</td><td>0.0</td><td>0.0</td><td>0.0</td><td>0.0</td><td>0.0</td><td>0.0</td><td>0.0</td><td>0.0</td><td>0.0</td><td>0.0</td><td>0.0</td><td>0.0</td><td>0.0</td><td>0.0</td><td>0.0</td><td>0.0</td><td>0.0</td><td>0.0</td><td>0.0</td><td>0.0</td><td>0.0</td><td>0.0</td><td>0.0</td><td>0.0</td><td>0.0</td><td>0.0</td></tr><tr><td>&quot;AD1_2002__Krue…</td><td>&quot;AD1_2002__Krue…</td><td>&quot;AD1_2002__Krue…</td><td>&quot;Animalia&quot;</td><td>65.0</td><td>181.0</td><td>0.359116</td><td>9.788478</td><td>53.709225</td><td>&quot;Germany&quot;</td><td>&quot;Europe&quot;</td><td>&quot;Western Europe…</td><td>&quot;Palearctic&quot;</td><td>&quot;Temperate Broa…</td><td>&quot;Atlantic Mixed…</td><td>null</td><td>null</td><td>&quot;1996-07-16&quot;</td><td>&quot;trap nests&quot;</td><td>4.0</td><td>1.0</td><td>0.52</td><td>&quot;Abundance&quot;</td><td>&quot;Pasture&quot;</td><td>&quot;Light use&quot;</td><td>null</td><td>null</td><td>null</td><td>13850.262121</td><td>899336.042612</td><td>2.3488e7</td><td>273.711556</td><td>591.693016</td><td>347.79799</td><td>10161.143952</td><td>885739.016374</td><td>2.3392e7</td><td>&hellip;</td><td>0.0</td><td>0.0</td><td>0.0</td><td>0.0</td><td>0.0</td><td>0.0</td><td>0.0</td><td>0.0</td><td>0.0</td><td>0.0</td><td>0.0</td><td>0.0</td><td>0.0</td><td>0.0</td><td>0.0</td><td>0.0</td><td>0.0</td><td>0.0</td><td>0.0</td><td>0.0</td><td>0.0</td><td>0.0</td><td>0.0</td><td>0.0</td><td>0.0</td><td>0.0</td><td>0.0</td><td>0.0</td><td>0.0</td><td>0.0</td><td>0.0</td><td>0.0</td><td>0.0</td><td>0.0</td><td>0.0</td><td>0.0</td><td>0.0</td></tr><tr><td>&quot;AD1_2002__Krue…</td><td>&quot;AD1_2002__Krue…</td><td>&quot;AD1_2002__Krue…</td><td>&quot;Animalia&quot;</td><td>21.0</td><td>37.0</td><td>0.567568</td><td>9.79135</td><td>53.715789</td><td>&quot;Germany&quot;</td><td>&quot;Europe&quot;</td><td>&quot;Western Europe…</td><td>&quot;Palearctic&quot;</td><td>&quot;Temperate Broa…</td><td>&quot;Atlantic Mixed…</td><td>null</td><td>null</td><td>&quot;1996-07-16&quot;</td><td>&quot;sweep net&quot;</td><td>45.0</td><td>1.0</td><td>null</td><td>&quot;Abundance&quot;</td><td>&quot;Pasture&quot;</td><td>&quot;Light use&quot;</td><td>null</td><td>null</td><td>null</td><td>10776.750748</td><td>885725.448147</td><td>2.3425e7</td><td>246.01754</td><td>561.501306</td><td>348.464147</td><td>10161.143952</td><td>885739.016374</td><td>2.3392e7</td><td>&hellip;</td><td>0.0</td><td>0.0</td><td>0.0</td><td>0.0</td><td>0.0</td><td>0.0</td><td>0.0</td><td>0.0</td><td>0.0</td><td>0.0</td><td>0.0</td><td>0.0</td><td>0.0</td><td>0.0</td><td>0.0</td><td>0.0</td><td>0.0</td><td>0.0</td><td>0.0</td><td>0.0</td><td>0.0</td><td>0.0</td><td>0.0</td><td>0.0</td><td>0.0</td><td>0.0</td><td>0.0</td><td>0.0</td><td>0.0</td><td>0.0</td><td>0.0</td><td>0.0</td><td>0.0</td><td>0.0</td><td>0.0</td><td>0.0</td><td>0.0</td></tr></tbody></table></div>"
      ],
      "text/plain": [
       "shape: (5, 293)\n",
       "┌───────────┬───────────┬───────────┬──────────┬───┬───────────┬───────────┬───────────┬───────────┐\n",
       "│ SS        ┆ SSB       ┆ SSBS      ┆ Kingdom  ┆ … ┆ Pasture_L ┆ Pasture_L ┆ Pasture_L ┆ Pasture_L │\n",
       "│ ---       ┆ ---       ┆ ---       ┆ ---      ┆   ┆ ight_Inte ┆ ight_Inte ┆ ight_Inte ┆ ight_Inte │\n",
       "│ str       ┆ str       ┆ str       ┆ str      ┆   ┆ nse_Road_ ┆ nse_Pop_d ┆ nse_Pop_d ┆ nse_Pop_d │\n",
       "│           ┆           ┆           ┆          ┆   ┆ densi…    ┆ ensit…    ┆ ensit…    ┆ ensit…    │\n",
       "│           ┆           ┆           ┆          ┆   ┆ ---       ┆ ---       ┆ ---       ┆ ---       │\n",
       "│           ┆           ┆           ┆          ┆   ┆ f64       ┆ f64       ┆ f64       ┆ f64       │\n",
       "╞═══════════╪═══════════╪═══════════╪══════════╪═══╪═══════════╪═══════════╪═══════════╪═══════════╡\n",
       "│ AD1_2002_ ┆ AD1_2002_ ┆ AD1_2002_ ┆ Animalia ┆ … ┆ 0.0       ┆ 0.0       ┆ 0.0       ┆ 0.0       │\n",
       "│ _Kruess 1 ┆ _Kruess 1 ┆ _Kruess 1 ┆          ┆   ┆           ┆           ┆           ┆           │\n",
       "│           ┆           ┆ 17        ┆          ┆   ┆           ┆           ┆           ┆           │\n",
       "│ AD1_2002_ ┆ AD1_2002_ ┆ AD1_2002_ ┆ Animalia ┆ … ┆ 0.0       ┆ 0.0       ┆ 0.0       ┆ 0.0       │\n",
       "│ _Kruess 1 ┆ _Kruess 1 ┆ _Kruess 1 ┆          ┆   ┆           ┆           ┆           ┆           │\n",
       "│           ┆           ┆ 5         ┆          ┆   ┆           ┆           ┆           ┆           │\n",
       "│ AD1_2002_ ┆ AD1_2002_ ┆ AD1_2002_ ┆ Animalia ┆ … ┆ 0.0       ┆ 0.0       ┆ 0.0       ┆ 0.0       │\n",
       "│ _Kruess 1 ┆ _Kruess 1 ┆ _Kruess 1 ┆          ┆   ┆           ┆           ┆           ┆           │\n",
       "│           ┆           ┆ 6         ┆          ┆   ┆           ┆           ┆           ┆           │\n",
       "│ AD1_2002_ ┆ AD1_2002_ ┆ AD1_2002_ ┆ Animalia ┆ … ┆ 0.0       ┆ 0.0       ┆ 0.0       ┆ 0.0       │\n",
       "│ _Kruess 1 ┆ _Kruess 1 ┆ _Kruess 1 ┆          ┆   ┆           ┆           ┆           ┆           │\n",
       "│           ┆           ┆ 8         ┆          ┆   ┆           ┆           ┆           ┆           │\n",
       "│ AD1_2002_ ┆ AD1_2002_ ┆ AD1_2002_ ┆ Animalia ┆ … ┆ 0.0       ┆ 0.0       ┆ 0.0       ┆ 0.0       │\n",
       "│ _Kruess 2 ┆ _Kruess 2 ┆ _Kruess 2 ┆          ┆   ┆           ┆           ┆           ┆           │\n",
       "│           ┆           ┆ 7         ┆          ┆   ┆           ┆           ┆           ┆           │\n",
       "└───────────┴───────────┴───────────┴──────────┴───┴───────────┴───────────┴───────────┴───────────┘"
      ]
     },
     "execution_count": 13,
     "metadata": {},
     "output_type": "execute_result"
    }
   ],
   "source": [
    "df_kingdom.head()"
   ]
  },
  {
   "cell_type": "code",
   "execution_count": 14,
   "id": "c33a55fd-f8be-46c0-8bfe-d0e98340f7da",
   "metadata": {},
   "outputs": [
    {
     "data": {
      "text/plain": [
       "(34274, 294)"
      ]
     },
     "execution_count": 14,
     "metadata": {},
     "output_type": "execute_result"
    }
   ],
   "source": [
    "df_phylum = pl.read_parquet(\"../../data/output/abundance/abundance_phylum.parquet\")\n",
    "df_phylum.shape"
   ]
  },
  {
   "cell_type": "code",
   "execution_count": 15,
   "id": "683b813b-8afe-49f3-9acb-190fef089033",
   "metadata": {},
   "outputs": [
    {
     "data": {
      "text/html": [
       "<div><style>\n",
       ".dataframe > thead > tr,\n",
       ".dataframe > tbody > tr {\n",
       "  text-align: right;\n",
       "  white-space: pre-wrap;\n",
       "}\n",
       "</style>\n",
       "<small>shape: (5, 294)</small><table border=\"1\" class=\"dataframe\"><thead><tr><th>SS</th><th>SSB</th><th>SSBS</th><th>Kingdom</th><th>Phylum</th><th>Abundance</th><th>Study_max_abundance</th><th>Max_scaled_abundance</th><th>Longitude</th><th>Latitude</th><th>Country</th><th>UN_region</th><th>UN_subregion</th><th>Realm</th><th>Biome</th><th>Ecoregion</th><th>Wilderness_area</th><th>Hotspot</th><th>Sample_midpoint</th><th>Sampling_method</th><th>Sampling_effort</th><th>Rescaled_sampling_effort</th><th>Max_linear_extent_metres</th><th>Diversity_metric_type</th><th>Predominant_land_use</th><th>Use_intensity</th><th>Habitat_patch_area_square_metres</th><th>Km_to_nearest_edge_of_habitat</th><th>Years_since_fragmentation_or_conversion</th><th>Road_density_1km</th><th>Road_density_10km</th><th>Road_density_50km</th><th>Pop_density_1km</th><th>Pop_density_10km</th><th>Pop_density_50km</th><th>Mean_road_density_1km</th><th>Mean_road_density_10km</th><th>&hellip;</th><th>Pasture_Intense use_Pop_density_50km</th><th>Cropland_Minimal use_Road_density_1km</th><th>Cropland_Minimal use_Road_density_10km</th><th>Cropland_Minimal use_Road_density_50km</th><th>Cropland_Minimal use_Pop_density_1km</th><th>Cropland_Minimal use_Pop_density_10km</th><th>Cropland_Minimal use_Pop_density_50km</th><th>Cropland_Light use_Road_density_1km</th><th>Cropland_Light use_Road_density_10km</th><th>Cropland_Light use_Road_density_50km</th><th>Cropland_Light use_Pop_density_1km</th><th>Cropland_Light use_Pop_density_10km</th><th>Cropland_Light use_Pop_density_50km</th><th>Cropland_Intense use_Road_density_1km</th><th>Cropland_Intense use_Road_density_10km</th><th>Cropland_Intense use_Road_density_50km</th><th>Cropland_Intense use_Pop_density_1km</th><th>Cropland_Intense use_Pop_density_10km</th><th>Cropland_Intense use_Pop_density_50km</th><th>Urban_All use_Road_density_1km</th><th>Urban_All use_Road_density_10km</th><th>Urban_All use_Road_density_50km</th><th>Urban_All use_Pop_density_1km</th><th>Urban_All use_Pop_density_10km</th><th>Urban_All use_Pop_density_50km</th><th>Cropland_Light_Intense_Road_density_1km</th><th>Cropland_Light_Intense_Road_density_10km</th><th>Cropland_Light_Intense_Road_density_50km</th><th>Cropland_Light_Intense_Pop_density_1km</th><th>Cropland_Light_Intense_Pop_density_10km</th><th>Cropland_Light_Intense_Pop_density_50km</th><th>Pasture_Light_Intense_Road_density_1km</th><th>Pasture_Light_Intense_Road_density_10km</th><th>Pasture_Light_Intense_Road_density_50km</th><th>Pasture_Light_Intense_Pop_density_1km</th><th>Pasture_Light_Intense_Pop_density_10km</th><th>Pasture_Light_Intense_Pop_density_50km</th></tr><tr><td>str</td><td>str</td><td>str</td><td>str</td><td>str</td><td>f64</td><td>f64</td><td>f64</td><td>f64</td><td>f64</td><td>str</td><td>str</td><td>str</td><td>str</td><td>str</td><td>str</td><td>str</td><td>str</td><td>str</td><td>str</td><td>f64</td><td>f64</td><td>f64</td><td>str</td><td>str</td><td>str</td><td>f64</td><td>f64</td><td>f64</td><td>f64</td><td>f64</td><td>f64</td><td>f64</td><td>f64</td><td>f64</td><td>f64</td><td>f64</td><td>&hellip;</td><td>f64</td><td>f64</td><td>f64</td><td>f64</td><td>f64</td><td>f64</td><td>f64</td><td>f64</td><td>f64</td><td>f64</td><td>f64</td><td>f64</td><td>f64</td><td>f64</td><td>f64</td><td>f64</td><td>f64</td><td>f64</td><td>f64</td><td>f64</td><td>f64</td><td>f64</td><td>f64</td><td>f64</td><td>f64</td><td>f64</td><td>f64</td><td>f64</td><td>f64</td><td>f64</td><td>f64</td><td>f64</td><td>f64</td><td>f64</td><td>f64</td><td>f64</td><td>f64</td></tr></thead><tbody><tr><td>&quot;AD1_2001__Liow…</td><td>&quot;AD1_2001__Liow…</td><td>&quot;AD1_2001__Liow…</td><td>&quot;Animalia&quot;</td><td>&quot;Arthropoda&quot;</td><td>94.5</td><td>242.0</td><td>0.390496</td><td>103.803611</td><td>1.282778</td><td>&quot;Singapore&quot;</td><td>&quot;Asia&quot;</td><td>&quot;South-Eastern …</td><td>&quot;Indo-Malay&quot;</td><td>&quot;Tropical &amp; Sub…</td><td>&quot;Peninsular Mal…</td><td>null</td><td>&quot;Sundaland&quot;</td><td>&quot;1999-05-02&quot;</td><td>&quot;transects with…</td><td>20.0</td><td>0.666667</td><td>2000.0</td><td>&quot;Abundance&quot;</td><td>&quot;Intermediate s…</td><td>&quot;Cannot decide&quot;</td><td>272000.0</td><td>null</td><td>30.0</td><td>5636.88385</td><td>536413.45309</td><td>7.8920e6</td><td>8304.190756</td><td>6604.445643</td><td>949.06651</td><td>5375.724942</td><td>473702.715185</td><td>&hellip;</td><td>0.0</td><td>0.0</td><td>0.0</td><td>0.0</td><td>0.0</td><td>0.0</td><td>0.0</td><td>0.0</td><td>0.0</td><td>0.0</td><td>0.0</td><td>0.0</td><td>0.0</td><td>0.0</td><td>0.0</td><td>0.0</td><td>0.0</td><td>0.0</td><td>0.0</td><td>0.0</td><td>0.0</td><td>0.0</td><td>0.0</td><td>0.0</td><td>0.0</td><td>0.0</td><td>0.0</td><td>0.0</td><td>0.0</td><td>0.0</td><td>0.0</td><td>0.0</td><td>0.0</td><td>0.0</td><td>0.0</td><td>0.0</td><td>0.0</td></tr><tr><td>&quot;AD1_2002__Krue…</td><td>&quot;AD1_2002__Krue…</td><td>&quot;AD1_2002__Krue…</td><td>&quot;Animalia&quot;</td><td>&quot;Arthropoda&quot;</td><td>26.0</td><td>181.0</td><td>0.143646</td><td>9.776944</td><td>53.719156</td><td>&quot;Germany&quot;</td><td>&quot;Europe&quot;</td><td>&quot;Western Europe…</td><td>&quot;Palearctic&quot;</td><td>&quot;Temperate Broa…</td><td>&quot;Atlantic Mixed…</td><td>null</td><td>null</td><td>&quot;1996-07-16&quot;</td><td>&quot;trap nests&quot;</td><td>4.0</td><td>1.0</td><td>0.52</td><td>&quot;Abundance&quot;</td><td>&quot;Pasture&quot;</td><td>&quot;Intense use&quot;</td><td>null</td><td>null</td><td>null</td><td>8162.161156</td><td>860664.658114</td><td>2.3351e7</td><td>214.438218</td><td>524.233104</td><td>347.588745</td><td>10161.143952</td><td>885739.016374</td><td>&hellip;</td><td>347.588745</td><td>0.0</td><td>0.0</td><td>0.0</td><td>0.0</td><td>0.0</td><td>0.0</td><td>0.0</td><td>0.0</td><td>0.0</td><td>0.0</td><td>0.0</td><td>0.0</td><td>0.0</td><td>0.0</td><td>0.0</td><td>0.0</td><td>0.0</td><td>0.0</td><td>0.0</td><td>0.0</td><td>0.0</td><td>0.0</td><td>0.0</td><td>0.0</td><td>0.0</td><td>0.0</td><td>0.0</td><td>0.0</td><td>0.0</td><td>0.0</td><td>0.0</td><td>0.0</td><td>0.0</td><td>0.0</td><td>0.0</td><td>0.0</td></tr><tr><td>&quot;AD1_2002__Krue…</td><td>&quot;AD1_2002__Krue…</td><td>&quot;AD1_2002__Krue…</td><td>&quot;Animalia&quot;</td><td>&quot;Arthropoda&quot;</td><td>47.0</td><td>181.0</td><td>0.259669</td><td>9.793217</td><td>53.7238</td><td>&quot;Germany&quot;</td><td>&quot;Europe&quot;</td><td>&quot;Western Europe…</td><td>&quot;Palearctic&quot;</td><td>&quot;Temperate Broa…</td><td>&quot;Atlantic Mixed…</td><td>null</td><td>null</td><td>&quot;1996-07-16&quot;</td><td>&quot;trap nests&quot;</td><td>4.0</td><td>1.0</td><td>0.52</td><td>&quot;Abundance&quot;</td><td>&quot;Pasture&quot;</td><td>&quot;Light use&quot;</td><td>null</td><td>null</td><td>null</td><td>8290.299186</td><td>880537.588846</td><td>2.3347e7</td><td>175.29763</td><td>536.404597</td><td>347.829633</td><td>10161.143952</td><td>885739.016374</td><td>&hellip;</td><td>0.0</td><td>0.0</td><td>0.0</td><td>0.0</td><td>0.0</td><td>0.0</td><td>0.0</td><td>0.0</td><td>0.0</td><td>0.0</td><td>0.0</td><td>0.0</td><td>0.0</td><td>0.0</td><td>0.0</td><td>0.0</td><td>0.0</td><td>0.0</td><td>0.0</td><td>0.0</td><td>0.0</td><td>0.0</td><td>0.0</td><td>0.0</td><td>0.0</td><td>0.0</td><td>0.0</td><td>0.0</td><td>0.0</td><td>0.0</td><td>0.0</td><td>0.0</td><td>0.0</td><td>0.0</td><td>0.0</td><td>0.0</td><td>0.0</td></tr><tr><td>&quot;AD1_2002__Krue…</td><td>&quot;AD1_2002__Krue…</td><td>&quot;AD1_2002__Krue…</td><td>&quot;Animalia&quot;</td><td>&quot;Arthropoda&quot;</td><td>89.0</td><td>421.0</td><td>0.211401</td><td>9.802144</td><td>53.723025</td><td>&quot;Germany&quot;</td><td>&quot;Europe&quot;</td><td>&quot;Western Europe…</td><td>&quot;Palearctic&quot;</td><td>&quot;Temperate Broa…</td><td>&quot;Atlantic Mixed…</td><td>null</td><td>null</td><td>&quot;1996-07-16&quot;</td><td>&quot;aerial transec…</td><td>45.0</td><td>1.0</td><td>null</td><td>&quot;Abundance&quot;</td><td>&quot;Pasture&quot;</td><td>&quot;Light use&quot;</td><td>null</td><td>null</td><td>null</td><td>8601.527833</td><td>900708.618158</td><td>2.3358e7</td><td>174.157284</td><td>556.332158</td><td>347.936893</td><td>10151.322161</td><td>885070.909815</td><td>&hellip;</td><td>0.0</td><td>0.0</td><td>0.0</td><td>0.0</td><td>0.0</td><td>0.0</td><td>0.0</td><td>0.0</td><td>0.0</td><td>0.0</td><td>0.0</td><td>0.0</td><td>0.0</td><td>0.0</td><td>0.0</td><td>0.0</td><td>0.0</td><td>0.0</td><td>0.0</td><td>0.0</td><td>0.0</td><td>0.0</td><td>0.0</td><td>0.0</td><td>0.0</td><td>0.0</td><td>0.0</td><td>0.0</td><td>0.0</td><td>0.0</td><td>0.0</td><td>0.0</td><td>0.0</td><td>0.0</td><td>0.0</td><td>0.0</td><td>0.0</td></tr><tr><td>&quot;AD1_2002__Krue…</td><td>&quot;AD1_2002__Krue…</td><td>&quot;AD1_2002__Krue…</td><td>&quot;Animalia&quot;</td><td>&quot;Arthropoda&quot;</td><td>17.0</td><td>421.0</td><td>0.04038</td><td>9.859128</td><td>53.749558</td><td>&quot;Germany&quot;</td><td>&quot;Europe&quot;</td><td>&quot;Western Europe…</td><td>&quot;Palearctic&quot;</td><td>&quot;Temperate Broa…</td><td>&quot;Atlantic Mixed…</td><td>null</td><td>null</td><td>&quot;1996-07-16&quot;</td><td>&quot;aerial transec…</td><td>45.0</td><td>1.0</td><td>null</td><td>&quot;Abundance&quot;</td><td>&quot;Pasture&quot;</td><td>&quot;Light use&quot;</td><td>null</td><td>null</td><td>null</td><td>11468.766698</td><td>860561.215351</td><td>2.3238e7</td><td>301.7267</td><td>447.358168</td><td>351.370357</td><td>10151.322161</td><td>885070.909815</td><td>&hellip;</td><td>0.0</td><td>0.0</td><td>0.0</td><td>0.0</td><td>0.0</td><td>0.0</td><td>0.0</td><td>0.0</td><td>0.0</td><td>0.0</td><td>0.0</td><td>0.0</td><td>0.0</td><td>0.0</td><td>0.0</td><td>0.0</td><td>0.0</td><td>0.0</td><td>0.0</td><td>0.0</td><td>0.0</td><td>0.0</td><td>0.0</td><td>0.0</td><td>0.0</td><td>0.0</td><td>0.0</td><td>0.0</td><td>0.0</td><td>0.0</td><td>0.0</td><td>0.0</td><td>0.0</td><td>0.0</td><td>0.0</td><td>0.0</td><td>0.0</td></tr></tbody></table></div>"
      ],
      "text/plain": [
       "shape: (5, 294)\n",
       "┌───────────┬───────────┬───────────┬──────────┬───┬───────────┬───────────┬───────────┬───────────┐\n",
       "│ SS        ┆ SSB       ┆ SSBS      ┆ Kingdom  ┆ … ┆ Pasture_L ┆ Pasture_L ┆ Pasture_L ┆ Pasture_L │\n",
       "│ ---       ┆ ---       ┆ ---       ┆ ---      ┆   ┆ ight_Inte ┆ ight_Inte ┆ ight_Inte ┆ ight_Inte │\n",
       "│ str       ┆ str       ┆ str       ┆ str      ┆   ┆ nse_Road_ ┆ nse_Pop_d ┆ nse_Pop_d ┆ nse_Pop_d │\n",
       "│           ┆           ┆           ┆          ┆   ┆ densi…    ┆ ensit…    ┆ ensit…    ┆ ensit…    │\n",
       "│           ┆           ┆           ┆          ┆   ┆ ---       ┆ ---       ┆ ---       ┆ ---       │\n",
       "│           ┆           ┆           ┆          ┆   ┆ f64       ┆ f64       ┆ f64       ┆ f64       │\n",
       "╞═══════════╪═══════════╪═══════════╪══════════╪═══╪═══════════╪═══════════╪═══════════╪═══════════╡\n",
       "│ AD1_2001_ ┆ AD1_2001_ ┆ AD1_2001_ ┆ Animalia ┆ … ┆ 0.0       ┆ 0.0       ┆ 0.0       ┆ 0.0       │\n",
       "│ _Liow 1   ┆ _Liow 1   ┆ _Liow 1   ┆          ┆   ┆           ┆           ┆           ┆           │\n",
       "│           ┆           ┆ 5         ┆          ┆   ┆           ┆           ┆           ┆           │\n",
       "│ AD1_2002_ ┆ AD1_2002_ ┆ AD1_2002_ ┆ Animalia ┆ … ┆ 0.0       ┆ 0.0       ┆ 0.0       ┆ 0.0       │\n",
       "│ _Kruess 1 ┆ _Kruess 1 ┆ _Kruess 1 ┆          ┆   ┆           ┆           ┆           ┆           │\n",
       "│           ┆           ┆ 3         ┆          ┆   ┆           ┆           ┆           ┆           │\n",
       "│ AD1_2002_ ┆ AD1_2002_ ┆ AD1_2002_ ┆ Animalia ┆ … ┆ 0.0       ┆ 0.0       ┆ 0.0       ┆ 0.0       │\n",
       "│ _Kruess 1 ┆ _Kruess 1 ┆ _Kruess 1 ┆          ┆   ┆           ┆           ┆           ┆           │\n",
       "│           ┆           ┆ 9         ┆          ┆   ┆           ┆           ┆           ┆           │\n",
       "│ AD1_2002_ ┆ AD1_2002_ ┆ AD1_2002_ ┆ Animalia ┆ … ┆ 0.0       ┆ 0.0       ┆ 0.0       ┆ 0.0       │\n",
       "│ _Kruess 3 ┆ _Kruess 3 ┆ _Kruess 3 ┆          ┆   ┆           ┆           ┆           ┆           │\n",
       "│           ┆           ┆ 10        ┆          ┆   ┆           ┆           ┆           ┆           │\n",
       "│ AD1_2002_ ┆ AD1_2002_ ┆ AD1_2002_ ┆ Animalia ┆ … ┆ 0.0       ┆ 0.0       ┆ 0.0       ┆ 0.0       │\n",
       "│ _Kruess 3 ┆ _Kruess 3 ┆ _Kruess 3 ┆          ┆   ┆           ┆           ┆           ┆           │\n",
       "│           ┆           ┆ 12        ┆          ┆   ┆           ┆           ┆           ┆           │\n",
       "└───────────┴───────────┴───────────┴──────────┴───┴───────────┴───────────┴───────────┴───────────┘"
      ]
     },
     "execution_count": 15,
     "metadata": {},
     "output_type": "execute_result"
    }
   ],
   "source": [
    "df_phylum.head()"
   ]
  },
  {
   "cell_type": "code",
   "execution_count": 16,
   "id": "abeb004d-5f18-466b-a868-2eff21dd9891",
   "metadata": {},
   "outputs": [
    {
     "data": {
      "text/plain": [
       "(61744, 295)"
      ]
     },
     "execution_count": 16,
     "metadata": {},
     "output_type": "execute_result"
    }
   ],
   "source": [
    "df_class = pl.read_parquet(\"../../data/output/abundance/abundance_class.parquet\")\n",
    "df_class.shape"
   ]
  },
  {
   "cell_type": "code",
   "execution_count": 17,
   "id": "2e22049e-f922-4eb0-8b04-5d5e487648a0",
   "metadata": {},
   "outputs": [
    {
     "data": {
      "text/plain": [
       "(282870, 296)"
      ]
     },
     "execution_count": 17,
     "metadata": {},
     "output_type": "execute_result"
    }
   ],
   "source": [
    "df_order = pl.read_parquet(\"../../data/output/abundance/abundance_order.parquet\")\n",
    "df_order.shape"
   ]
  },
  {
   "cell_type": "code",
   "execution_count": 18,
   "id": "0bc09c6c-d170-487b-8d81-6219a43fbaf2",
   "metadata": {},
   "outputs": [
    {
     "data": {
      "text/plain": [
       "(768751, 297)"
      ]
     },
     "execution_count": 18,
     "metadata": {},
     "output_type": "execute_result"
    }
   ],
   "source": [
    "df_family = pl.read_parquet(\"../../data/output/abundance/abundance_family.parquet\")\n",
    "df_family.shape"
   ]
  },
  {
   "cell_type": "code",
   "execution_count": 19,
   "id": "e7dabdd2-7eeb-479d-828a-ec326adb4f12",
   "metadata": {},
   "outputs": [
    {
     "data": {
      "text/html": [
       "<div><style>\n",
       ".dataframe > thead > tr,\n",
       ".dataframe > tbody > tr {\n",
       "  text-align: right;\n",
       "  white-space: pre-wrap;\n",
       "}\n",
       "</style>\n",
       "<small>shape: (5, 297)</small><table border=\"1\" class=\"dataframe\"><thead><tr><th>SS</th><th>SSB</th><th>SSBS</th><th>Kingdom</th><th>Phylum</th><th>Class</th><th>Order</th><th>Family</th><th>Abundance</th><th>Study_max_abundance</th><th>Max_scaled_abundance</th><th>Longitude</th><th>Latitude</th><th>Country</th><th>UN_region</th><th>UN_subregion</th><th>Realm</th><th>Biome</th><th>Ecoregion</th><th>Wilderness_area</th><th>Hotspot</th><th>Sample_midpoint</th><th>Sampling_method</th><th>Sampling_effort</th><th>Rescaled_sampling_effort</th><th>Max_linear_extent_metres</th><th>Diversity_metric_type</th><th>Predominant_land_use</th><th>Use_intensity</th><th>Habitat_patch_area_square_metres</th><th>Km_to_nearest_edge_of_habitat</th><th>Years_since_fragmentation_or_conversion</th><th>Road_density_1km</th><th>Road_density_10km</th><th>Road_density_50km</th><th>Pop_density_1km</th><th>Pop_density_10km</th><th>&hellip;</th><th>Pasture_Intense use_Pop_density_50km</th><th>Cropland_Minimal use_Road_density_1km</th><th>Cropland_Minimal use_Road_density_10km</th><th>Cropland_Minimal use_Road_density_50km</th><th>Cropland_Minimal use_Pop_density_1km</th><th>Cropland_Minimal use_Pop_density_10km</th><th>Cropland_Minimal use_Pop_density_50km</th><th>Cropland_Light use_Road_density_1km</th><th>Cropland_Light use_Road_density_10km</th><th>Cropland_Light use_Road_density_50km</th><th>Cropland_Light use_Pop_density_1km</th><th>Cropland_Light use_Pop_density_10km</th><th>Cropland_Light use_Pop_density_50km</th><th>Cropland_Intense use_Road_density_1km</th><th>Cropland_Intense use_Road_density_10km</th><th>Cropland_Intense use_Road_density_50km</th><th>Cropland_Intense use_Pop_density_1km</th><th>Cropland_Intense use_Pop_density_10km</th><th>Cropland_Intense use_Pop_density_50km</th><th>Urban_All use_Road_density_1km</th><th>Urban_All use_Road_density_10km</th><th>Urban_All use_Road_density_50km</th><th>Urban_All use_Pop_density_1km</th><th>Urban_All use_Pop_density_10km</th><th>Urban_All use_Pop_density_50km</th><th>Cropland_Light_Intense_Road_density_1km</th><th>Cropland_Light_Intense_Road_density_10km</th><th>Cropland_Light_Intense_Road_density_50km</th><th>Cropland_Light_Intense_Pop_density_1km</th><th>Cropland_Light_Intense_Pop_density_10km</th><th>Cropland_Light_Intense_Pop_density_50km</th><th>Pasture_Light_Intense_Road_density_1km</th><th>Pasture_Light_Intense_Road_density_10km</th><th>Pasture_Light_Intense_Road_density_50km</th><th>Pasture_Light_Intense_Pop_density_1km</th><th>Pasture_Light_Intense_Pop_density_10km</th><th>Pasture_Light_Intense_Pop_density_50km</th></tr><tr><td>str</td><td>str</td><td>str</td><td>str</td><td>str</td><td>str</td><td>str</td><td>str</td><td>f64</td><td>f64</td><td>f64</td><td>f64</td><td>f64</td><td>str</td><td>str</td><td>str</td><td>str</td><td>str</td><td>str</td><td>str</td><td>str</td><td>str</td><td>str</td><td>f64</td><td>f64</td><td>f64</td><td>str</td><td>str</td><td>str</td><td>f64</td><td>f64</td><td>f64</td><td>f64</td><td>f64</td><td>f64</td><td>f64</td><td>f64</td><td>&hellip;</td><td>f64</td><td>f64</td><td>f64</td><td>f64</td><td>f64</td><td>f64</td><td>f64</td><td>f64</td><td>f64</td><td>f64</td><td>f64</td><td>f64</td><td>f64</td><td>f64</td><td>f64</td><td>f64</td><td>f64</td><td>f64</td><td>f64</td><td>f64</td><td>f64</td><td>f64</td><td>f64</td><td>f64</td><td>f64</td><td>f64</td><td>f64</td><td>f64</td><td>f64</td><td>f64</td><td>f64</td><td>f64</td><td>f64</td><td>f64</td><td>f64</td><td>f64</td><td>f64</td></tr></thead><tbody><tr><td>&quot;AD1_2002__Krue…</td><td>&quot;AD1_2002__Krue…</td><td>&quot;AD1_2002__Krue…</td><td>&quot;Animalia&quot;</td><td>&quot;Arthropoda&quot;</td><td>&quot;Insecta&quot;</td><td>&quot;Hymenoptera&quot;</td><td>&quot;Pompilidae&quot;</td><td>0.0</td><td>119.0</td><td>0.0</td><td>null</td><td>null</td><td>null</td><td>null</td><td>null</td><td>null</td><td>null</td><td>null</td><td>null</td><td>null</td><td>null</td><td>null</td><td>null</td><td>null</td><td>null</td><td>null</td><td>null</td><td>null</td><td>null</td><td>null</td><td>null</td><td>null</td><td>null</td><td>null</td><td>null</td><td>null</td><td>&hellip;</td><td>null</td><td>null</td><td>null</td><td>null</td><td>null</td><td>null</td><td>null</td><td>null</td><td>null</td><td>null</td><td>null</td><td>null</td><td>null</td><td>null</td><td>null</td><td>null</td><td>null</td><td>null</td><td>null</td><td>null</td><td>null</td><td>null</td><td>null</td><td>null</td><td>null</td><td>null</td><td>null</td><td>null</td><td>null</td><td>null</td><td>null</td><td>null</td><td>null</td><td>null</td><td>null</td><td>null</td><td>null</td></tr><tr><td>&quot;AD1_2002__Krue…</td><td>&quot;AD1_2002__Krue…</td><td>&quot;AD1_2002__Krue…</td><td>&quot;Animalia&quot;</td><td>&quot;Arthropoda&quot;</td><td>&quot;Insecta&quot;</td><td>&quot;Diptera&quot;</td><td>&quot;Drosophilidae&quot;</td><td>0.0</td><td>119.0</td><td>0.0</td><td>null</td><td>null</td><td>null</td><td>null</td><td>null</td><td>null</td><td>null</td><td>null</td><td>null</td><td>null</td><td>null</td><td>null</td><td>null</td><td>null</td><td>null</td><td>null</td><td>null</td><td>null</td><td>null</td><td>null</td><td>null</td><td>null</td><td>null</td><td>null</td><td>null</td><td>null</td><td>&hellip;</td><td>null</td><td>null</td><td>null</td><td>null</td><td>null</td><td>null</td><td>null</td><td>null</td><td>null</td><td>null</td><td>null</td><td>null</td><td>null</td><td>null</td><td>null</td><td>null</td><td>null</td><td>null</td><td>null</td><td>null</td><td>null</td><td>null</td><td>null</td><td>null</td><td>null</td><td>null</td><td>null</td><td>null</td><td>null</td><td>null</td><td>null</td><td>null</td><td>null</td><td>null</td><td>null</td><td>null</td><td>null</td></tr><tr><td>&quot;AD1_2002__Krue…</td><td>&quot;AD1_2002__Krue…</td><td>&quot;AD1_2002__Krue…</td><td>&quot;Animalia&quot;</td><td>&quot;Arthropoda&quot;</td><td>&quot;Insecta&quot;</td><td>&quot;Hymenoptera&quot;</td><td>&quot;Eumenidae&quot;</td><td>0.0</td><td>119.0</td><td>0.0</td><td>9.802144</td><td>53.723025</td><td>&quot;Germany&quot;</td><td>&quot;Europe&quot;</td><td>&quot;Western Europe…</td><td>&quot;Palearctic&quot;</td><td>&quot;Temperate Broa…</td><td>&quot;Atlantic Mixed…</td><td>null</td><td>null</td><td>&quot;1996-07-16&quot;</td><td>&quot;trap nests&quot;</td><td>4.0</td><td>1.0</td><td>0.52</td><td>&quot;Abundance&quot;</td><td>&quot;Pasture&quot;</td><td>&quot;Light use&quot;</td><td>null</td><td>null</td><td>null</td><td>8601.527833</td><td>900708.618158</td><td>2.3358e7</td><td>174.157284</td><td>556.332158</td><td>&hellip;</td><td>0.0</td><td>0.0</td><td>0.0</td><td>0.0</td><td>0.0</td><td>0.0</td><td>0.0</td><td>0.0</td><td>0.0</td><td>0.0</td><td>0.0</td><td>0.0</td><td>0.0</td><td>0.0</td><td>0.0</td><td>0.0</td><td>0.0</td><td>0.0</td><td>0.0</td><td>0.0</td><td>0.0</td><td>0.0</td><td>0.0</td><td>0.0</td><td>0.0</td><td>0.0</td><td>0.0</td><td>0.0</td><td>0.0</td><td>0.0</td><td>0.0</td><td>0.0</td><td>0.0</td><td>0.0</td><td>0.0</td><td>0.0</td><td>0.0</td></tr><tr><td>&quot;AD1_2002__Krue…</td><td>&quot;AD1_2002__Krue…</td><td>&quot;AD1_2002__Krue…</td><td>&quot;Animalia&quot;</td><td>&quot;Arthropoda&quot;</td><td>&quot;Insecta&quot;</td><td>&quot;Hymenoptera&quot;</td><td>&quot;Sphecidae&quot;</td><td>6.0</td><td>119.0</td><td>0.05042</td><td>null</td><td>null</td><td>null</td><td>null</td><td>null</td><td>null</td><td>null</td><td>null</td><td>null</td><td>null</td><td>null</td><td>null</td><td>null</td><td>null</td><td>null</td><td>null</td><td>null</td><td>null</td><td>null</td><td>null</td><td>null</td><td>null</td><td>null</td><td>null</td><td>null</td><td>null</td><td>&hellip;</td><td>null</td><td>null</td><td>null</td><td>null</td><td>null</td><td>null</td><td>null</td><td>null</td><td>null</td><td>null</td><td>null</td><td>null</td><td>null</td><td>null</td><td>null</td><td>null</td><td>null</td><td>null</td><td>null</td><td>null</td><td>null</td><td>null</td><td>null</td><td>null</td><td>null</td><td>null</td><td>null</td><td>null</td><td>null</td><td>null</td><td>null</td><td>null</td><td>null</td><td>null</td><td>null</td><td>null</td><td>null</td></tr><tr><td>&quot;AD1_2002__Krue…</td><td>&quot;AD1_2002__Krue…</td><td>&quot;AD1_2002__Krue…</td><td>&quot;Animalia&quot;</td><td>&quot;Arthropoda&quot;</td><td>&quot;Insecta&quot;</td><td>&quot;Hymenoptera&quot;</td><td>&quot;Chrysididae&quot;</td><td>0.0</td><td>119.0</td><td>0.0</td><td>null</td><td>null</td><td>null</td><td>null</td><td>null</td><td>null</td><td>null</td><td>null</td><td>null</td><td>null</td><td>null</td><td>null</td><td>null</td><td>null</td><td>null</td><td>null</td><td>null</td><td>null</td><td>null</td><td>null</td><td>null</td><td>null</td><td>null</td><td>null</td><td>null</td><td>null</td><td>&hellip;</td><td>null</td><td>null</td><td>null</td><td>null</td><td>null</td><td>null</td><td>null</td><td>null</td><td>null</td><td>null</td><td>null</td><td>null</td><td>null</td><td>null</td><td>null</td><td>null</td><td>null</td><td>null</td><td>null</td><td>null</td><td>null</td><td>null</td><td>null</td><td>null</td><td>null</td><td>null</td><td>null</td><td>null</td><td>null</td><td>null</td><td>null</td><td>null</td><td>null</td><td>null</td><td>null</td><td>null</td><td>null</td></tr></tbody></table></div>"
      ],
      "text/plain": [
       "shape: (5, 297)\n",
       "┌───────────┬───────────┬───────────┬──────────┬───┬───────────┬───────────┬───────────┬───────────┐\n",
       "│ SS        ┆ SSB       ┆ SSBS      ┆ Kingdom  ┆ … ┆ Pasture_L ┆ Pasture_L ┆ Pasture_L ┆ Pasture_L │\n",
       "│ ---       ┆ ---       ┆ ---       ┆ ---      ┆   ┆ ight_Inte ┆ ight_Inte ┆ ight_Inte ┆ ight_Inte │\n",
       "│ str       ┆ str       ┆ str       ┆ str      ┆   ┆ nse_Road_ ┆ nse_Pop_d ┆ nse_Pop_d ┆ nse_Pop_d │\n",
       "│           ┆           ┆           ┆          ┆   ┆ densi…    ┆ ensit…    ┆ ensit…    ┆ ensit…    │\n",
       "│           ┆           ┆           ┆          ┆   ┆ ---       ┆ ---       ┆ ---       ┆ ---       │\n",
       "│           ┆           ┆           ┆          ┆   ┆ f64       ┆ f64       ┆ f64       ┆ f64       │\n",
       "╞═══════════╪═══════════╪═══════════╪══════════╪═══╪═══════════╪═══════════╪═══════════╪═══════════╡\n",
       "│ AD1_2002_ ┆ AD1_2002_ ┆ AD1_2002_ ┆ Animalia ┆ … ┆ null      ┆ null      ┆ null      ┆ null      │\n",
       "│ _Kruess 1 ┆ _Kruess 1 ┆ _Kruess 1 ┆          ┆   ┆           ┆           ┆           ┆           │\n",
       "│           ┆           ┆ 1         ┆          ┆   ┆           ┆           ┆           ┆           │\n",
       "│ AD1_2002_ ┆ AD1_2002_ ┆ AD1_2002_ ┆ Animalia ┆ … ┆ null      ┆ null      ┆ null      ┆ null      │\n",
       "│ _Kruess 1 ┆ _Kruess 1 ┆ _Kruess 1 ┆          ┆   ┆           ┆           ┆           ┆           │\n",
       "│           ┆           ┆ 1         ┆          ┆   ┆           ┆           ┆           ┆           │\n",
       "│ AD1_2002_ ┆ AD1_2002_ ┆ AD1_2002_ ┆ Animalia ┆ … ┆ 0.0       ┆ 0.0       ┆ 0.0       ┆ 0.0       │\n",
       "│ _Kruess 1 ┆ _Kruess 1 ┆ _Kruess 1 ┆          ┆   ┆           ┆           ┆           ┆           │\n",
       "│           ┆           ┆ 10        ┆          ┆   ┆           ┆           ┆           ┆           │\n",
       "│ AD1_2002_ ┆ AD1_2002_ ┆ AD1_2002_ ┆ Animalia ┆ … ┆ null      ┆ null      ┆ null      ┆ null      │\n",
       "│ _Kruess 1 ┆ _Kruess 1 ┆ _Kruess 1 ┆          ┆   ┆           ┆           ┆           ┆           │\n",
       "│           ┆           ┆ 11        ┆          ┆   ┆           ┆           ┆           ┆           │\n",
       "│ AD1_2002_ ┆ AD1_2002_ ┆ AD1_2002_ ┆ Animalia ┆ … ┆ null      ┆ null      ┆ null      ┆ null      │\n",
       "│ _Kruess 1 ┆ _Kruess 1 ┆ _Kruess 1 ┆          ┆   ┆           ┆           ┆           ┆           │\n",
       "│           ┆           ┆ 11        ┆          ┆   ┆           ┆           ┆           ┆           │\n",
       "└───────────┴───────────┴───────────┴──────────┴───┴───────────┴───────────┴───────────┴───────────┘"
      ]
     },
     "execution_count": 19,
     "metadata": {},
     "output_type": "execute_result"
    }
   ],
   "source": [
    "df_family.head()"
   ]
  },
  {
   "cell_type": "markdown",
   "id": "8111326f-2b76-4e5d-8a72-c9ab174ed08f",
   "metadata": {},
   "source": [
    "## Bioclimatic"
   ]
  },
  {
   "cell_type": "code",
   "execution_count": 3,
   "id": "a847a5fe-774d-4d7a-b45f-5cdd16abd231",
   "metadata": {},
   "outputs": [],
   "source": [
    "bioclim = pl.read_parquet(\"../../data/output/environment/bioclimatic_1km.parquet\")"
   ]
  },
  {
   "cell_type": "code",
   "execution_count": 4,
   "id": "db8c4445-3d8e-4fa3-a887-bd070f811597",
   "metadata": {},
   "outputs": [
    {
     "data": {
      "text/html": [
       "<div><style>\n",
       ".dataframe > thead > tr,\n",
       ".dataframe > tbody > tr {\n",
       "  text-align: right;\n",
       "  white-space: pre-wrap;\n",
       "}\n",
       "</style>\n",
       "<small>shape: (5, 9)</small><table border=\"1\" class=\"dataframe\"><thead><tr><th>SSBS</th><th>Annual_mean_temp_1km</th><th>Temp_seasonality_1km</th><th>Max_temp_warmest_month_1km</th><th>Min_temp_coldest_month_1km</th><th>Annual_precip_1km</th><th>Precip_wettest_month_1km</th><th>Precip_driest_month_1km</th><th>Precip_seasonality_1km</th></tr><tr><td>str</td><td>f64</td><td>f64</td><td>f64</td><td>f64</td><td>f64</td><td>f64</td><td>f64</td><td>f64</td></tr></thead><tbody><tr><td>&quot;AD1_2001__Liow…</td><td>26.628242</td><td>42.745161</td><td>30.766666</td><td>22.688889</td><td>2301.888889</td><td>290.777778</td><td>147.888889</td><td>21.537735</td></tr><tr><td>&quot;AD1_2001__Liow…</td><td>26.65521</td><td>45.253245</td><td>30.716665</td><td>22.783333</td><td>2294.5</td><td>290.666667</td><td>149.916667</td><td>21.586726</td></tr><tr><td>&quot;AD1_2001__Liow…</td><td>26.532871</td><td>47.650909</td><td>30.577779</td><td>22.766666</td><td>2301.222222</td><td>297.444444</td><td>149.888889</td><td>22.46165</td></tr><tr><td>&quot;AD1_2001__Liow…</td><td>26.907869</td><td>43.468055</td><td>31.066667</td><td>22.844443</td><td>2359.222222</td><td>296.333333</td><td>155.111111</td><td>21.130753</td></tr><tr><td>&quot;AD1_2001__Liow…</td><td>26.709028</td><td>49.617594</td><td>30.949997</td><td>22.600001</td><td>2393.416667</td><td>290.666667</td><td>159.0</td><td>20.049039</td></tr></tbody></table></div>"
      ],
      "text/plain": [
       "shape: (5, 9)\n",
       "┌───────────┬───────────┬───────────┬───────────┬───┬───────────┬───────────┬───────────┬──────────┐\n",
       "│ SSBS      ┆ Annual_me ┆ Temp_seas ┆ Max_temp_ ┆ … ┆ Annual_pr ┆ Precip_we ┆ Precip_dr ┆ Precip_s │\n",
       "│ ---       ┆ an_temp_1 ┆ onality_1 ┆ warmest_m ┆   ┆ ecip_1km  ┆ ttest_mon ┆ iest_mont ┆ easonali │\n",
       "│ str       ┆ km        ┆ km        ┆ onth_1km  ┆   ┆ ---       ┆ th_1km    ┆ h_1km     ┆ ty_1km   │\n",
       "│           ┆ ---       ┆ ---       ┆ ---       ┆   ┆ f64       ┆ ---       ┆ ---       ┆ ---      │\n",
       "│           ┆ f64       ┆ f64       ┆ f64       ┆   ┆           ┆ f64       ┆ f64       ┆ f64      │\n",
       "╞═══════════╪═══════════╪═══════════╪═══════════╪═══╪═══════════╪═══════════╪═══════════╪══════════╡\n",
       "│ AD1_2001_ ┆ 26.628242 ┆ 42.745161 ┆ 30.766666 ┆ … ┆ 2301.8888 ┆ 290.77777 ┆ 147.88888 ┆ 21.53773 │\n",
       "│ _Liow 1   ┆           ┆           ┆           ┆   ┆ 89        ┆ 8         ┆ 9         ┆ 5        │\n",
       "│ 1         ┆           ┆           ┆           ┆   ┆           ┆           ┆           ┆          │\n",
       "│ AD1_2001_ ┆ 26.65521  ┆ 45.253245 ┆ 30.716665 ┆ … ┆ 2294.5    ┆ 290.66666 ┆ 149.91666 ┆ 21.58672 │\n",
       "│ _Liow 1   ┆           ┆           ┆           ┆   ┆           ┆ 7         ┆ 7         ┆ 6        │\n",
       "│ 2         ┆           ┆           ┆           ┆   ┆           ┆           ┆           ┆          │\n",
       "│ AD1_2001_ ┆ 26.532871 ┆ 47.650909 ┆ 30.577779 ┆ … ┆ 2301.2222 ┆ 297.44444 ┆ 149.88888 ┆ 22.46165 │\n",
       "│ _Liow 1   ┆           ┆           ┆           ┆   ┆ 22        ┆ 4         ┆ 9         ┆          │\n",
       "│ 3         ┆           ┆           ┆           ┆   ┆           ┆           ┆           ┆          │\n",
       "│ AD1_2001_ ┆ 26.907869 ┆ 43.468055 ┆ 31.066667 ┆ … ┆ 2359.2222 ┆ 296.33333 ┆ 155.11111 ┆ 21.13075 │\n",
       "│ _Liow 1   ┆           ┆           ┆           ┆   ┆ 22        ┆ 3         ┆ 1         ┆ 3        │\n",
       "│ 4         ┆           ┆           ┆           ┆   ┆           ┆           ┆           ┆          │\n",
       "│ AD1_2001_ ┆ 26.709028 ┆ 49.617594 ┆ 30.949997 ┆ … ┆ 2393.4166 ┆ 290.66666 ┆ 159.0     ┆ 20.04903 │\n",
       "│ _Liow 1   ┆           ┆           ┆           ┆   ┆ 67        ┆ 7         ┆           ┆ 9        │\n",
       "│ 5         ┆           ┆           ┆           ┆   ┆           ┆           ┆           ┆          │\n",
       "└───────────┴───────────┴───────────┴───────────┴───┴───────────┴───────────┴───────────┴──────────┘"
      ]
     },
     "execution_count": 4,
     "metadata": {},
     "output_type": "execute_result"
    }
   ],
   "source": [
    "bioclim.head()"
   ]
  },
  {
   "cell_type": "code",
   "execution_count": 5,
   "id": "df740457-56ec-43bb-9a32-165d8cee8de7",
   "metadata": {},
   "outputs": [
    {
     "data": {
      "text/plain": [
       "(35736, 9)"
      ]
     },
     "execution_count": 5,
     "metadata": {},
     "output_type": "execute_result"
    }
   ],
   "source": [
    "bioclim.shape"
   ]
  },
  {
   "cell_type": "code",
   "execution_count": 7,
   "id": "2c996961-bce5-45fa-a37d-cf8d41605908",
   "metadata": {},
   "outputs": [],
   "source": [
    "bioclim_2 = pl.read_parquet(\"../../data/output/environment/bioclimatic_10km.parquet\")"
   ]
  },
  {
   "cell_type": "code",
   "execution_count": 8,
   "id": "c6aca53e-d354-45dd-8173-2a968965ca15",
   "metadata": {},
   "outputs": [
    {
     "data": {
      "text/html": [
       "<div><style>\n",
       ".dataframe > thead > tr,\n",
       ".dataframe > tbody > tr {\n",
       "  text-align: right;\n",
       "  white-space: pre-wrap;\n",
       "}\n",
       "</style>\n",
       "<small>shape: (5, 9)</small><table border=\"1\" class=\"dataframe\"><thead><tr><th>SSBS</th><th>Annual_mean_temp_10km</th><th>Temp_seasonality_10km</th><th>Max_temp_warmest_month_10km</th><th>Min_temp_coldest_month_10km</th><th>Annual_precip_10km</th><th>Precip_wettest_month_10km</th><th>Precip_driest_month_10km</th><th>Precip_seasonality_10km</th></tr><tr><td>str</td><td>f64</td><td>f64</td><td>f64</td><td>f64</td><td>f64</td><td>f64</td><td>f64</td><td>f64</td></tr></thead><tbody><tr><td>&quot;AD1_2001__Liow…</td><td>26.752421</td><td>44.509643</td><td>30.897832</td><td>22.834707</td><td>2328.314534</td><td>295.687636</td><td>152.993492</td><td>21.688949</td></tr><tr><td>&quot;AD1_2001__Liow…</td><td>26.793948</td><td>45.399219</td><td>30.93862</td><td>22.875171</td><td>2337.05977</td><td>298.0</td><td>154.262069</td><td>21.928484</td></tr><tr><td>&quot;AD1_2001__Liow…</td><td>26.79461</td><td>44.947108</td><td>30.953829</td><td>22.878083</td><td>2333.965957</td><td>301.719149</td><td>153.442553</td><td>22.470182</td></tr><tr><td>&quot;AD1_2001__Liow…</td><td>26.779946</td><td>44.706263</td><td>30.920631</td><td>22.857038</td><td>2335.907767</td><td>295.461165</td><td>154.276699</td><td>21.533725</td></tr><tr><td>&quot;AD1_2001__Liow…</td><td>26.862081</td><td>45.304477</td><td>31.010417</td><td>22.896873</td><td>2352.475694</td><td>294.034722</td><td>156.875</td><td>21.095695</td></tr></tbody></table></div>"
      ],
      "text/plain": [
       "shape: (5, 9)\n",
       "┌───────────┬───────────┬───────────┬───────────┬───┬───────────┬───────────┬───────────┬──────────┐\n",
       "│ SSBS      ┆ Annual_me ┆ Temp_seas ┆ Max_temp_ ┆ … ┆ Annual_pr ┆ Precip_we ┆ Precip_dr ┆ Precip_s │\n",
       "│ ---       ┆ an_temp_1 ┆ onality_1 ┆ warmest_m ┆   ┆ ecip_10km ┆ ttest_mon ┆ iest_mont ┆ easonali │\n",
       "│ str       ┆ 0km       ┆ 0km       ┆ onth_10km ┆   ┆ ---       ┆ th_10km   ┆ h_10km    ┆ ty_10km  │\n",
       "│           ┆ ---       ┆ ---       ┆ ---       ┆   ┆ f64       ┆ ---       ┆ ---       ┆ ---      │\n",
       "│           ┆ f64       ┆ f64       ┆ f64       ┆   ┆           ┆ f64       ┆ f64       ┆ f64      │\n",
       "╞═══════════╪═══════════╪═══════════╪═══════════╪═══╪═══════════╪═══════════╪═══════════╪══════════╡\n",
       "│ AD1_2001_ ┆ 26.752421 ┆ 44.509643 ┆ 30.897832 ┆ … ┆ 2328.3145 ┆ 295.68763 ┆ 152.99349 ┆ 21.68894 │\n",
       "│ _Liow 1   ┆           ┆           ┆           ┆   ┆ 34        ┆ 6         ┆ 2         ┆ 9        │\n",
       "│ 1         ┆           ┆           ┆           ┆   ┆           ┆           ┆           ┆          │\n",
       "│ AD1_2001_ ┆ 26.793948 ┆ 45.399219 ┆ 30.93862  ┆ … ┆ 2337.0597 ┆ 298.0     ┆ 154.26206 ┆ 21.92848 │\n",
       "│ _Liow 1   ┆           ┆           ┆           ┆   ┆ 7         ┆           ┆ 9         ┆ 4        │\n",
       "│ 2         ┆           ┆           ┆           ┆   ┆           ┆           ┆           ┆          │\n",
       "│ AD1_2001_ ┆ 26.79461  ┆ 44.947108 ┆ 30.953829 ┆ … ┆ 2333.9659 ┆ 301.71914 ┆ 153.44255 ┆ 22.47018 │\n",
       "│ _Liow 1   ┆           ┆           ┆           ┆   ┆ 57        ┆ 9         ┆ 3         ┆ 2        │\n",
       "│ 3         ┆           ┆           ┆           ┆   ┆           ┆           ┆           ┆          │\n",
       "│ AD1_2001_ ┆ 26.779946 ┆ 44.706263 ┆ 30.920631 ┆ … ┆ 2335.9077 ┆ 295.46116 ┆ 154.27669 ┆ 21.53372 │\n",
       "│ _Liow 1   ┆           ┆           ┆           ┆   ┆ 67        ┆ 5         ┆ 9         ┆ 5        │\n",
       "│ 4         ┆           ┆           ┆           ┆   ┆           ┆           ┆           ┆          │\n",
       "│ AD1_2001_ ┆ 26.862081 ┆ 45.304477 ┆ 31.010417 ┆ … ┆ 2352.4756 ┆ 294.03472 ┆ 156.875   ┆ 21.09569 │\n",
       "│ _Liow 1   ┆           ┆           ┆           ┆   ┆ 94        ┆ 2         ┆           ┆ 5        │\n",
       "│ 5         ┆           ┆           ┆           ┆   ┆           ┆           ┆           ┆          │\n",
       "└───────────┴───────────┴───────────┴───────────┴───┴───────────┴───────────┴───────────┴──────────┘"
      ]
     },
     "execution_count": 8,
     "metadata": {},
     "output_type": "execute_result"
    }
   ],
   "source": [
    "bioclim_2.head()"
   ]
  },
  {
   "cell_type": "code",
   "execution_count": 9,
   "id": "1b448ead-8197-4208-96af-a60bc2602b5b",
   "metadata": {},
   "outputs": [
    {
     "data": {
      "text/plain": [
       "(35736, 9)"
      ]
     },
     "execution_count": 9,
     "metadata": {},
     "output_type": "execute_result"
    }
   ],
   "source": [
    "bioclim_2.shape"
   ]
  }
 ],
 "metadata": {
  "kernelspec": {
   "display_name": "biodiv",
   "language": "python",
   "name": "biodiv"
  },
  "language_info": {
   "codemirror_mode": {
    "name": "ipython",
    "version": 3
   },
   "file_extension": ".py",
   "mimetype": "text/x-python",
   "name": "python",
   "nbconvert_exporter": "python",
   "pygments_lexer": "ipython3",
   "version": "3.11.8"
  }
 },
 "nbformat": 4,
 "nbformat_minor": 5
}
