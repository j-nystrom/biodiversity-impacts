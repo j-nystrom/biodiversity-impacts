{
 "cells": [
  {
   "cell_type": "markdown",
   "id": "2e9727ee-b4aa-47a1-9491-e4cccf5566b7",
   "metadata": {},
   "source": [
    "# Linear mixed model evaluation"
   ]
  },
  {
   "cell_type": "code",
   "execution_count": 5,
   "id": "63fcd616-4af6-4e58-b514-e2dd76b0fd20",
   "metadata": {},
   "outputs": [],
   "source": [
    "# Import standard packages\n",
    "import numpy as np\n",
    "import matplotlib.pyplot as plt\n",
    "import seaborn as sns\n",
    "import polars as pl\n",
    "import dill"
   ]
  },
  {
   "cell_type": "code",
   "execution_count": 9,
   "id": "26e6c08a-ac77-450a-bd0a-5800fd957d0b",
   "metadata": {},
   "outputs": [],
   "source": [
    "# Import utility functions from the repository\n",
    "from core.utils.visualization import (\n",
    "    plot_observed_and_predicted_distributions,\n",
    "    plot_calibration_and_residuals,\n",
    "    plot_calibration_by_group,\n",
    "    plot_residuals_by_group,\n",
    "    print_evaluation_metrics_train,\n",
    "    print_evaluation_metrics_crossval,\n",
    ")\n",
    "from core.utils import visualization_settings"
   ]
  },
  {
   "cell_type": "code",
   "execution_count": 6,
   "id": "284891cf-aa56-46b2-9574-9c3a63e6c7fa",
   "metadata": {},
   "outputs": [],
   "source": [
    "# Load black for formatting\n",
    "import jupyter_black\n",
    "\n",
    "jupyter_black.load()"
   ]
  },
  {
   "cell_type": "code",
   "execution_count": null,
   "id": "9c4f6bfb-f14e-4ac3-b718-3ed5fdd519b0",
   "metadata": {},
   "outputs": [],
   "source": []
  },
  {
   "cell_type": "markdown",
   "id": "343d9d47-6f4a-4811-8572-f4f5916723bd",
   "metadata": {},
   "source": [
    "## Load and extract training and test data"
   ]
  },
  {
   "cell_type": "code",
   "execution_count": null,
   "id": "a5c5bb22-e042-4d53-b7e1-ffcffd151e7b",
   "metadata": {},
   "outputs": [],
   "source": [
    "# Alpha diversity:\n",
    "\n",
    "# 1. Study slopes + block intercepts (11min)\n",
    "# Training: run_folder_2025-01-10_14.32\n",
    "# Cross-validation: \n",
    "\n",
    "# 2. Study and block intercepts ()\n"
   ]
  },
  {
   "cell_type": "code",
   "execution_count": 10,
   "id": "76f27a6d-fa1a-4ae3-9875-55e90296edf7",
   "metadata": {},
   "outputs": [],
   "source": [
    "# Load and extract training data\n",
    "training_output_path = \"../../data/runs/run_folder_2025-01-10_14.32/training_output.pkl\"\n",
    "\n",
    "with open(training_output_path, \"rb\") as in_stream:\n",
    "    training_output = dill.load(in_stream)\n",
    "\n",
    "train_data = training_output[\"data\"]\n",
    "df_pred_train = training_output[\"state_predictions\"]\n",
    "state_metrics_train = training_output[\"state_metrics\"]\n",
    "df_pred_change_train = training_output[\"change_predictions\"]\n",
    "change_metrics_train = training_output[\"change_metrics\"]"
   ]
  },
  {
   "cell_type": "code",
   "execution_count": null,
   "id": "f8e8ae16-4799-41a3-9a22-79fc76a71dec",
   "metadata": {},
   "outputs": [],
   "source": []
  },
  {
   "cell_type": "code",
   "execution_count": null,
   "id": "2f9d0587-328f-40ca-b456-445d4d78d93e",
   "metadata": {},
   "outputs": [],
   "source": []
  },
  {
   "cell_type": "code",
   "execution_count": null,
   "id": "aef6a5e9-e464-47fc-9049-0ada9b4c43bc",
   "metadata": {},
   "outputs": [],
   "source": []
  }
 ],
 "metadata": {
  "kernelspec": {
   "display_name": "bio_impact",
   "language": "python",
   "name": "bio_impact"
  },
  "language_info": {
   "codemirror_mode": {
    "name": "ipython",
    "version": 3
   },
   "file_extension": ".py",
   "mimetype": "text/x-python",
   "name": "python",
   "nbconvert_exporter": "python",
   "pygments_lexer": "ipython3",
   "version": "3.11.11"
  }
 },
 "nbformat": 4,
 "nbformat_minor": 5
}
